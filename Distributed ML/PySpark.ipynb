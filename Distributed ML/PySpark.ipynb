{
 "cells": [
  {
   "cell_type": "markdown",
   "metadata": {
    "application/vnd.databricks.v1+cell": {
     "inputWidgets": {},
     "nuid": "3867f4ce-7b80-4976-9198-e1cfa31e90dc",
     "showTitle": false,
     "title": ""
    },
    "id": "cOnNoPPlbGOd"
   },
   "source": [
    "# Machine Learning with Large Datasets\n",
    "## Machine Learning at Scale"
   ]
  },
  {
   "cell_type": "code",
   "execution_count": 1,
   "metadata": {
    "application/vnd.databricks.v1+cell": {
     "inputWidgets": {},
     "nuid": "484df638-6b78-47fe-b9d3-0d08c79398e5",
     "showTitle": false,
     "title": ""
    },
    "id": "EQrVmpuIbGOh"
   },
   "outputs": [
    {
     "name": "stdout",
     "output_type": "stream",
     "text": [
      "Starting Spark application\n"
     ]
    },
    {
     "data": {
      "text/html": [
       "<table>\n",
       "<tr><th>ID</th><th>YARN Application ID</th><th>Kind</th><th>State</th><th>Spark UI</th><th>Driver log</th><th>User</th><th>Current session?</th></tr><tr><td>1</td><td>application_1647958541177_0002</td><td>pyspark</td><td>idle</td><td><a target=\"_blank\" href=\"http://ip-172-31-69-13.ec2.internal:20888/proxy/application_1647958541177_0002/\">Link</a></td><td><a target=\"_blank\" href=\"http://ip-172-31-74-253.ec2.internal:8042/node/containerlogs/container_1647958541177_0002_01_000001/livy\">Link</a></td><td>None</td><td>✔</td></tr></table>"
      ],
      "text/plain": [
       "<IPython.core.display.HTML object>"
      ]
     },
     "metadata": {},
     "output_type": "display_data"
    },
    {
     "data": {
      "application/vnd.jupyter.widget-view+json": {
       "model_id": "",
       "version_major": 2,
       "version_minor": 0
      },
      "text/plain": [
       "FloatProgress(value=0.0, bar_style='info', description='Progress:', layout=Layout(height='25px', width='50%'),…"
      ]
     },
     "metadata": {},
     "output_type": "display_data"
    },
    {
     "name": "stdout",
     "output_type": "stream",
     "text": [
      "SparkSession available as 'spark'.\n"
     ]
    },
    {
     "data": {
      "application/vnd.jupyter.widget-view+json": {
       "model_id": "",
       "version_major": 2,
       "version_minor": 0
      },
      "text/plain": [
       "FloatProgress(value=0.0, bar_style='info', description='Progress:', layout=Layout(height='25px', width='50%'),…"
      ]
     },
     "metadata": {},
     "output_type": "display_data"
    },
    {
     "name": "stdout",
     "output_type": "stream",
     "text": [
      "num executors: 2"
     ]
    }
   ],
   "source": [
    "# You are highly recommended to select the \"PySpark\" kernel instead of python kernel,\n",
    "# Otherwise you need to modify this cell to get pyspark working.\n",
    "\n",
    "from pyspark.sql import *\n",
    "\n",
    "sc = spark.sparkContext\n",
    "print(f'num executors: {sc.getConf().get(\"spark.executor.instances\")}')"
   ]
  },
  {
   "cell_type": "markdown",
   "metadata": {
    "application/vnd.databricks.v1+cell": {
     "inputWidgets": {},
     "nuid": "c972f2bf-974e-4b8c-ad0d-05433de19e90",
     "showTitle": false,
     "title": ""
    },
    "id": "IFmlw9SPbGOi"
   },
   "source": [
    "Throughout this assignment, you will be generating plots. `Matplotlib` and other useful Python libraries do not come pre-installed on the cluster. Therefore, you will have to ssh into your master node (think about why it should be the master) using your keypair created earlier and install `matplotlib`. You might have to do this later again for other libraries you use, e.g. `Pandas`.\n",
    "\n",
    "Run the below cell to ensure you installation was successful. If an error occurs, you might want to double check your installation."
   ]
  },
  {
   "cell_type": "code",
   "execution_count": 2,
   "metadata": {},
   "outputs": [
    {
     "data": {
      "application/vnd.jupyter.widget-view+json": {
       "model_id": "",
       "version_major": 2,
       "version_minor": 0
      },
      "text/plain": [
       "FloatProgress(value=0.0, bar_style='info', description='Progress:', layout=Layout(height='25px', width='50%'),…"
      ]
     },
     "metadata": {},
     "output_type": "display_data"
    }
   ],
   "source": [
    "import pyspark"
   ]
  },
  {
   "cell_type": "code",
   "execution_count": 3,
   "metadata": {},
   "outputs": [
    {
     "data": {
      "application/vnd.jupyter.widget-view+json": {
       "model_id": "",
       "version_major": 2,
       "version_minor": 0
      },
      "text/plain": [
       "FloatProgress(value=0.0, bar_style='info', description='Progress:', layout=Layout(height='25px', width='50%'),…"
      ]
     },
     "metadata": {},
     "output_type": "display_data"
    },
    {
     "name": "stdout",
     "output_type": "stream",
     "text": [
      "1.21.5"
     ]
    }
   ],
   "source": [
    "import numpy as np\n",
    "print(np.__version__)"
   ]
  },
  {
   "cell_type": "code",
   "execution_count": 4,
   "metadata": {
    "application/vnd.databricks.v1+cell": {
     "inputWidgets": {},
     "nuid": "488f21b7-f54a-45e0-8dc7-00e8c5577a44",
     "showTitle": false,
     "title": ""
    },
    "id": "foQTxuvwbGOj"
   },
   "outputs": [
    {
     "data": {
      "application/vnd.jupyter.widget-view+json": {
       "model_id": "",
       "version_major": 2,
       "version_minor": 0
      },
      "text/plain": [
       "FloatProgress(value=0.0, bar_style='info', description='Progress:', layout=Layout(height='25px', width='50%'),…"
      ]
     },
     "metadata": {},
     "output_type": "display_data"
    }
   ],
   "source": [
    "import matplotlib.pyplot as plt"
   ]
  },
  {
   "cell_type": "code",
   "execution_count": 5,
   "metadata": {},
   "outputs": [
    {
     "data": {
      "application/vnd.jupyter.widget-view+json": {
       "model_id": "",
       "version_major": 2,
       "version_minor": 0
      },
      "text/plain": [
       "FloatProgress(value=0.0, bar_style='info', description='Progress:', layout=Layout(height='25px', width='50%'),…"
      ]
     },
     "metadata": {},
     "output_type": "display_data"
    }
   ],
   "source": [
    "import pandas as pd"
   ]
  },
  {
   "cell_type": "markdown",
   "metadata": {
    "application/vnd.databricks.v1+cell": {
     "inputWidgets": {},
     "nuid": "5dad8a9c-b4d3-4274-8521-27267223d7ef",
     "showTitle": false,
     "title": ""
    },
    "id": "AbkX3VxWbGOj"
   },
   "source": [
    "### 1. Data Loading and Preparation\n",
    "\n",
    "Earlier, we have extracted relevant features from and converted format of the full raw Million Song Dataset. We now want to load our converted dataset from the S3 Storage.\n",
    "\n",
    "Note that although you can load all chunks of the dataset using `*`, we recommend you only load in a subset while developing so that processing takes shorter time when you are just verifying your ideas. Be sure to add your own S3 bucket name to cmd 8."
   ]
  },
  {
   "cell_type": "code",
   "execution_count": 6,
   "metadata": {
    "application/vnd.databricks.v1+cell": {
     "inputWidgets": {},
     "nuid": "714d2f77-a394-477b-a40a-62f6b2536eae",
     "showTitle": false,
     "title": ""
    },
    "id": "ZG5MFx3VbGOk"
   },
   "outputs": [
    {
     "data": {
      "application/vnd.jupyter.widget-view+json": {
       "model_id": "",
       "version_major": 2,
       "version_minor": 0
      },
      "text/plain": [
       "FloatProgress(value=0.0, bar_style='info', description='Progress:', layout=Layout(height='25px', width='50%'),…"
      ]
     },
     "metadata": {},
     "output_type": "display_data"
    }
   ],
   "source": [
    "from pyspark.sql.types import DoubleType, StringType, StructField, StructType\n",
    "\n",
    "schema = StructType([StructField('song_hotttnesss', DoubleType(), True),\n",
    "                       StructField('artist_familiarity', DoubleType(), True),\n",
    "                       StructField('artist_hotttnesss', DoubleType(), True),\n",
    "                       StructField('artist_id', StringType(), True),\n",
    "                       StructField('artist_latitude', DoubleType(), True),\n",
    "                       StructField('artist_location', StringType(), True),\n",
    "                       StructField('artist_longitude', DoubleType(), True),\n",
    "                       StructField('artist_name', StringType(), True),\n",
    "                       StructField('title', StringType(), True),\n",
    "                       StructField('danceability', DoubleType(), True),\n",
    "                       StructField('duration', DoubleType(), True),\n",
    "                       StructField('end_of_fade_in', DoubleType(), True),\n",
    "                       StructField('energy', DoubleType(), True),\n",
    "                       StructField('key', DoubleType(), True),\n",
    "                       StructField('key_confidence', DoubleType(), True),\n",
    "                       StructField('loudness', DoubleType(), True),\n",
    "                       StructField('mode', DoubleType(), True),\n",
    "                       StructField('mode_confidence', DoubleType(), True),\n",
    "                       StructField('start_of_fade_out', DoubleType(), True),\n",
    "                       StructField('tempo', DoubleType(), True),\n",
    "                       StructField('time_signature', DoubleType(), True),\n",
    "                       StructField('time_signature_confidence', DoubleType(), True),\n",
    "                       StructField('artist_terms', StringType(), True),\n",
    "                       StructField('artist_terms_freq', StringType(), True),\n",
    "                       StructField('artist_terms_weight', StringType(), True),\n",
    "                       StructField('year', DoubleType(), True)]\n",
    "                   )"
   ]
  },
  {
   "cell_type": "code",
   "execution_count": 7,
   "metadata": {
    "application/vnd.databricks.v1+cell": {
     "inputWidgets": {},
     "nuid": "f365d6b4-6a95-43ae-b4eb-7b4e87d6cee4",
     "showTitle": false,
     "title": ""
    },
    "id": "VkMM1pqSbGOl"
   },
   "outputs": [
    {
     "data": {
      "application/vnd.jupyter.widget-view+json": {
       "model_id": "",
       "version_major": 2,
       "version_minor": 0
      },
      "text/plain": [
       "FloatProgress(value=0.0, bar_style='info', description='Progress:', layout=Layout(height='25px', width='50%'),…"
      ]
     },
     "metadata": {},
     "output_type": "display_data"
    },
    {
     "name": "stdout",
     "output_type": "stream",
     "text": [
      "loaded 581965 records"
     ]
    }
   ],
   "source": [
    "#--------------------------------------------------------------------\n",
    "#Set to False after writing your code and run end-to-end on full data\n",
    "#--------------------------------------------------------------------\n",
    "load_subset = False\n",
    "#----------------------------\n",
    "#Add your s3 bucket name below:\n",
    "#----------------------------\n",
    "s3_bucket_name = 'shaofenq'\n",
    "\n",
    "if load_subset:\n",
    "    df = spark.read.format(\"csv\")\\\n",
    "        .option(\"header\", \"false\")\\\n",
    "        .option(\"nanValue\", \"nan\")\\\n",
    "        .option(\"quote\", \"\\\"\")\\\n",
    "        .option(\"escape\", \"\\\"\")\\\n",
    "        .schema(schema)\\\n",
    "        .load(f\"s3://{s3_bucket_name}/processed/A_1.csv\")\n",
    "else:\n",
    "    df = spark.read.format(\"csv\")\\\n",
    "        .option(\"header\", \"false\")\\\n",
    "        .option(\"nanValue\", \"nan\")\\\n",
    "        .option(\"quote\", \"\\\"\")\\\n",
    "        .option(\"escape\", \"\\\"\")\\\n",
    "        .schema(schema)\\\n",
    "        .load(f\"s3://{s3_bucket_name}/processed/*.csv\")\n",
    "\n",
    "print('loaded {} records'.format(df.count()))"
   ]
  },
  {
   "cell_type": "markdown",
   "metadata": {
    "application/vnd.databricks.v1+cell": {
     "inputWidgets": {},
     "nuid": "5906caef-3ef1-446f-a63a-fa74be25e03e",
     "showTitle": false,
     "title": ""
    },
    "id": "1AYyfx6mbGOm"
   },
   "source": [
    "Inspect the `df` we just created by running the below cell:"
   ]
  },
  {
   "cell_type": "code",
   "execution_count": 128,
   "metadata": {
    "application/vnd.databricks.v1+cell": {
     "inputWidgets": {},
     "nuid": "46627166-6d11-4c7a-a7eb-03943226ff03",
     "showTitle": false,
     "title": ""
    },
    "id": "87ggwTuMbGOm"
   },
   "outputs": [
    {
     "data": {
      "application/vnd.jupyter.widget-view+json": {
       "model_id": "",
       "version_major": 2,
       "version_minor": 0
      },
      "text/plain": [
       "FloatProgress(value=0.0, bar_style='info', description='Progress:', layout=Layout(height='25px', width='50%'),…"
      ]
     },
     "metadata": {},
     "output_type": "display_data"
    },
    {
     "name": "stdout",
     "output_type": "stream",
     "text": [
      "root\n",
      " |-- song_hotttnesss: double (nullable = true)\n",
      " |-- artist_familiarity: double (nullable = true)\n",
      " |-- artist_hotttnesss: double (nullable = true)\n",
      " |-- artist_id: string (nullable = true)\n",
      " |-- artist_latitude: double (nullable = true)\n",
      " |-- artist_location: string (nullable = true)\n",
      " |-- artist_longitude: double (nullable = true)\n",
      " |-- artist_name: string (nullable = true)\n",
      " |-- title: string (nullable = true)\n",
      " |-- danceability: double (nullable = true)\n",
      " |-- duration: double (nullable = true)\n",
      " |-- end_of_fade_in: double (nullable = true)\n",
      " |-- energy: double (nullable = true)\n",
      " |-- key: double (nullable = true)\n",
      " |-- key_confidence: double (nullable = true)\n",
      " |-- loudness: double (nullable = true)\n",
      " |-- mode: double (nullable = true)\n",
      " |-- mode_confidence: double (nullable = true)\n",
      " |-- start_of_fade_out: double (nullable = true)\n",
      " |-- tempo: double (nullable = true)\n",
      " |-- time_signature: double (nullable = true)\n",
      " |-- time_signature_confidence: double (nullable = true)\n",
      " |-- artist_terms: string (nullable = true)\n",
      " |-- artist_terms_freq: string (nullable = true)\n",
      " |-- artist_terms_weight: string (nullable = true)\n",
      " |-- year: double (nullable = true)"
     ]
    }
   ],
   "source": [
    "df.printSchema()"
   ]
  },
  {
   "cell_type": "markdown",
   "metadata": {
    "application/vnd.databricks.v1+cell": {
     "inputWidgets": {},
     "nuid": "1081d1ca-bed1-4465-8223-b5a0794ae03c",
     "showTitle": false,
     "title": ""
    },
    "id": "WkaiZerNbGOm"
   },
   "source": [
    "<div align=\"center\">\n",
    "    <h1>------------------- Part B Begins ------------------- </h1>\n",
    "</div>"
   ]
  },
  {
   "cell_type": "markdown",
   "metadata": {
    "application/vnd.databricks.v1+cell": {
     "inputWidgets": {},
     "nuid": "3cebafaa-b3a9-4a1c-9118-42e9ec98a1da",
     "showTitle": false,
     "title": ""
    },
    "id": "jr6kvrk8bGOn"
   },
   "source": [
    "### 2. Exploratory Data Analysis\n",
    "\n",
    "Now we have our data mostly ready. It's a good time to take some deeper look to better understand what we are dealing with here.\n",
    "\n",
    "First, show summary statistics of the features using `.summary()`. Hint: because we have many features, the output might be too long for a single line. The simplest way to resolve this mess is to copy paste the output to some editor (e.g. vscode) and check the result. Another way is you could select only a few features to print at a time so that things could fit into one line."
   ]
  },
  {
   "cell_type": "code",
   "execution_count": 11,
   "metadata": {
    "application/vnd.databricks.v1+cell": {
     "inputWidgets": {},
     "nuid": "1933a481-773a-4eff-8c26-316d6c4b63f7",
     "showTitle": false,
     "title": ""
    },
    "id": "oQu9P_nfbGOn",
    "scrolled": true
   },
   "outputs": [
    {
     "data": {
      "application/vnd.jupyter.widget-view+json": {
       "model_id": "",
       "version_major": 2,
       "version_minor": 0
      },
      "text/plain": [
       "FloatProgress(value=0.0, bar_style='info', description='Progress:', layout=Layout(height='25px', width='50%'),…"
      ]
     },
     "metadata": {},
     "output_type": "display_data"
    },
    {
     "name": "stdout",
     "output_type": "stream",
     "text": [
      "+-------+-------------------+------+------------------+\n",
      "|summary|    song_hotttnesss|energy|          loudness|\n",
      "+-------+-------------------+------+------------------+\n",
      "|  count|             581965|581965|            581965|\n",
      "|   mean| 0.3560510395614853|   0.0|-9.705873464899094|\n",
      "| stddev| 0.2344409011741648|   0.0| 4.969266765337608|\n",
      "|    min|                0.0|   0.0|           -58.178|\n",
      "|    25%|0.21508031850922793|   0.0|           -12.147|\n",
      "|    50%| 0.3775316449767025|   0.0|            -8.593|\n",
      "|    75%| 0.5319846094668594|   0.0|            -6.138|\n",
      "|    max|                1.0|   0.0|             4.318|\n",
      "+-------+-------------------+------+------------------+\n",
      "\n",
      "+-------+------------+------+\n",
      "|summary|danceability|energy|\n",
      "+-------+------------+------+\n",
      "|  count|      581965|581965|\n",
      "|   mean|         0.0|   0.0|\n",
      "| stddev|         0.0|   0.0|\n",
      "|    min|         0.0|   0.0|\n",
      "|    25%|         0.0|   0.0|\n",
      "|    50%|         0.0|   0.0|\n",
      "|    75%|         0.0|   0.0|\n",
      "|    max|         0.0|   0.0|\n",
      "+-------+------------+------+"
     ]
    }
   ],
   "source": [
    "# YOUR CODE HERE\n",
    "df.select([\"song_hotttnesss\", \"energy\", \"loudness\"]).summary().show()\n",
    "\n",
    "# YOUR CODE HERE\n",
    "df.select([\"danceability\", \"energy\"]).summary().show()"
   ]
  },
  {
   "cell_type": "markdown",
   "metadata": {
    "application/vnd.databricks.v1+cell": {
     "inputWidgets": {},
     "nuid": "98330ff9-d36b-4384-b334-f8b6a6daea03",
     "showTitle": false,
     "title": ""
    },
    "id": "oJL6fIm9bGOn"
   },
   "source": [
    "Now looking at the statistics, `danceability` and `energy` appear strange. ✰2.3(a) Explain why these features seem problematic in your writeup.\n",
    "\n",
    "Now we would like to make some histogram plots to inspect the distribution of feature values. \n",
    "\n",
    "✰2.3(b) Plot histograms for `'song_hotttnesss', 'artist_familiarity', 'artist_hotttnesss', 'duration', 'tempo', 'year'`. \n",
    "\n",
    "Note that one of these features may appear weird. \n",
    "\n",
    "✰2.3(c) Explain what is weird about `year`'s distribution and what might cause this. Describe how you could filter `year` to make its histogram look more balanced. Hint: Choose a threshold and filter the `year` values.\n",
    "\n",
    "✰2.3(d) Do it and include the new plot of this feature into your writeup.\n",
    "\n",
    "Note: you may want to use the spark magic commands `%matplot plt` to show the plot."
   ]
  },
  {
   "cell_type": "code",
   "execution_count": 53,
   "metadata": {},
   "outputs": [
    {
     "data": {
      "application/vnd.jupyter.widget-view+json": {
       "model_id": "",
       "version_major": 2,
       "version_minor": 0
      },
      "text/plain": [
       "FloatProgress(value=0.0, bar_style='info', description='Progress:', layout=Layout(height='25px', width='50%'),…"
      ]
     },
     "metadata": {},
     "output_type": "display_data"
    }
   ],
   "source": [
    "#2.3b histograms\n",
    "plt.cla()"
   ]
  },
  {
   "cell_type": "code",
   "execution_count": 54,
   "metadata": {},
   "outputs": [
    {
     "data": {
      "application/vnd.jupyter.widget-view+json": {
       "model_id": "",
       "version_major": 2,
       "version_minor": 0
      },
      "text/plain": [
       "FloatProgress(value=0.0, bar_style='info', description='Progress:', layout=Layout(height='25px', width='50%'),…"
      ]
     },
     "metadata": {},
     "output_type": "display_data"
    },
    {
     "name": "stdout",
     "output_type": "stream",
     "text": [
      "Text(28.097222222222214, 0.5, 'count')"
     ]
    }
   ],
   "source": [
    "bins, counts = df.select('song_hotttnesss').rdd.flatMap(lambda x: x).histogram(20)\n",
    "\n",
    "# This is a bit awkward but I believe this is the correct way to do it \n",
    "plt.hist(bins[:-1], bins=bins, weights=counts)\n",
    "#df.select(\"song_hotttnesss\").rdd.flatMap(lambda x: x).histogram(30)\n",
    "plt.xlabel(\"song_hotttnesss\")\n",
    "plt.ylabel(\"count\")"
   ]
  },
  {
   "cell_type": "code",
   "execution_count": 55,
   "metadata": {},
   "outputs": [
    {
     "data": {
      "application/vnd.jupyter.widget-view+json": {
       "model_id": "",
       "version_major": 2,
       "version_minor": 0
      },
      "text/plain": [
       "FloatProgress(value=0.0, bar_style='info', description='Progress:', layout=Layout(height='25px', width='50%'),…"
      ]
     },
     "metadata": {},
     "output_type": "display_data"
    },
    {
     "data": {
      "image/png": "[encoded data removed]",
      "text/plain": [
       "<IPython.core.display.Image object>"
      ]
     },
     "metadata": {},
     "output_type": "display_data"
    }
   ],
   "source": [
    "%matplot plt"
   ]
  },
  {
   "cell_type": "code",
   "execution_count": 56,
   "metadata": {},
   "outputs": [
    {
     "data": {
      "application/vnd.jupyter.widget-view+json": {
       "model_id": "",
       "version_major": 2,
       "version_minor": 0
      },
      "text/plain": [
       "FloatProgress(value=0.0, bar_style='info', description='Progress:', layout=Layout(height='25px', width='50%'),…"
      ]
     },
     "metadata": {},
     "output_type": "display_data"
    }
   ],
   "source": [
    "plt.cla()"
   ]
  },
  {
   "cell_type": "code",
   "execution_count": 57,
   "metadata": {},
   "outputs": [
    {
     "data": {
      "application/vnd.jupyter.widget-view+json": {
       "model_id": "",
       "version_major": 2,
       "version_minor": 0
      },
      "text/plain": [
       "FloatProgress(value=0.0, bar_style='info', description='Progress:', layout=Layout(height='25px', width='50%'),…"
      ]
     },
     "metadata": {},
     "output_type": "display_data"
    },
    {
     "name": "stdout",
     "output_type": "stream",
     "text": [
      "Text(28.097222222222214, 0.5, 'count')"
     ]
    }
   ],
   "source": [
    "bins, counts = df.select('artist_familiarity').rdd.flatMap(lambda x: x).histogram(20)\n",
    "\n",
    "# This is a bit awkward but I believe this is the correct way to do it \n",
    "plt.hist(bins[:-1], bins=bins, weights=counts)\n",
    "plt.xlabel(\"artist_familiarity\")\n",
    "plt.ylabel(\"count\")"
   ]
  },
  {
   "cell_type": "code",
   "execution_count": 58,
   "metadata": {},
   "outputs": [
    {
     "data": {
      "application/vnd.jupyter.widget-view+json": {
       "model_id": "",
       "version_major": 2,
       "version_minor": 0
      },
      "text/plain": [
       "FloatProgress(value=0.0, bar_style='info', description='Progress:', layout=Layout(height='25px', width='50%'),…"
      ]
     },
     "metadata": {},
     "output_type": "display_data"
    },
    {
     "data": {
      "image/png": "[encoded data removed]",
      "text/plain": [
       "<IPython.core.display.Image object>"
      ]
     },
     "metadata": {},
     "output_type": "display_data"
    }
   ],
   "source": [
    "%matplot plt"
   ]
  },
  {
   "cell_type": "code",
   "execution_count": 59,
   "metadata": {},
   "outputs": [
    {
     "data": {
      "application/vnd.jupyter.widget-view+json": {
       "model_id": "",
       "version_major": 2,
       "version_minor": 0
      },
      "text/plain": [
       "FloatProgress(value=0.0, bar_style='info', description='Progress:', layout=Layout(height='25px', width='50%'),…"
      ]
     },
     "metadata": {},
     "output_type": "display_data"
    }
   ],
   "source": [
    "plt.cla()"
   ]
  },
  {
   "cell_type": "code",
   "execution_count": 60,
   "metadata": {},
   "outputs": [
    {
     "data": {
      "application/vnd.jupyter.widget-view+json": {
       "model_id": "",
       "version_major": 2,
       "version_minor": 0
      },
      "text/plain": [
       "FloatProgress(value=0.0, bar_style='info', description='Progress:', layout=Layout(height='25px', width='50%'),…"
      ]
     },
     "metadata": {},
     "output_type": "display_data"
    },
    {
     "name": "stdout",
     "output_type": "stream",
     "text": [
      "Text(28.097222222222214, 0.5, 'count')"
     ]
    }
   ],
   "source": [
    "bins, counts = df.select('artist_hotttnesss').rdd.flatMap(lambda x: x).histogram(20)\n",
    "\n",
    "# This is a bit awkward but I believe this is the correct way to do it \n",
    "plt.hist(bins[:-1], bins=bins, weights=counts)\n",
    "plt.xlabel(\"artist_hotttnesss\")\n",
    "plt.ylabel(\"count\")"
   ]
  },
  {
   "cell_type": "code",
   "execution_count": 61,
   "metadata": {},
   "outputs": [
    {
     "data": {
      "application/vnd.jupyter.widget-view+json": {
       "model_id": "",
       "version_major": 2,
       "version_minor": 0
      },
      "text/plain": [
       "FloatProgress(value=0.0, bar_style='info', description='Progress:', layout=Layout(height='25px', width='50%'),…"
      ]
     },
     "metadata": {},
     "output_type": "display_data"
    },
    {
     "data": {
      "image/png": "[encoded data removed]",
      "text/plain": [
       "<IPython.core.display.Image object>"
      ]
     },
     "metadata": {},
     "output_type": "display_data"
    }
   ],
   "source": [
    "%matplot plt"
   ]
  },
  {
   "cell_type": "code",
   "execution_count": 62,
   "metadata": {},
   "outputs": [
    {
     "data": {
      "application/vnd.jupyter.widget-view+json": {
       "model_id": "",
       "version_major": 2,
       "version_minor": 0
      },
      "text/plain": [
       "FloatProgress(value=0.0, bar_style='info', description='Progress:', layout=Layout(height='25px', width='50%'),…"
      ]
     },
     "metadata": {},
     "output_type": "display_data"
    }
   ],
   "source": [
    "plt.cla()"
   ]
  },
  {
   "cell_type": "code",
   "execution_count": 63,
   "metadata": {},
   "outputs": [
    {
     "data": {
      "application/vnd.jupyter.widget-view+json": {
       "model_id": "",
       "version_major": 2,
       "version_minor": 0
      },
      "text/plain": [
       "FloatProgress(value=0.0, bar_style='info', description='Progress:', layout=Layout(height='25px', width='50%'),…"
      ]
     },
     "metadata": {},
     "output_type": "display_data"
    },
    {
     "name": "stdout",
     "output_type": "stream",
     "text": [
      "Text(27.972222222222214, 0.5, 'count')"
     ]
    }
   ],
   "source": [
    "bins, counts = df.select('duration').rdd.flatMap(lambda x: x).histogram(20)\n",
    "\n",
    "# This is a bit awkward but I believe this is the correct way to do it \n",
    "plt.hist(bins[:-1], bins=bins, weights=counts)\n",
    "plt.xlabel(\"duration\")\n",
    "plt.ylabel(\"count\")"
   ]
  },
  {
   "cell_type": "code",
   "execution_count": 64,
   "metadata": {},
   "outputs": [
    {
     "data": {
      "application/vnd.jupyter.widget-view+json": {
       "model_id": "",
       "version_major": 2,
       "version_minor": 0
      },
      "text/plain": [
       "FloatProgress(value=0.0, bar_style='info', description='Progress:', layout=Layout(height='25px', width='50%'),…"
      ]
     },
     "metadata": {},
     "output_type": "display_data"
    },
    {
     "data": {
      "image/png": "[encoded data removed]",
      "text/plain": [
       "<IPython.core.display.Image object>"
      ]
     },
     "metadata": {},
     "output_type": "display_data"
    }
   ],
   "source": [
    "%matplot plt"
   ]
  },
  {
   "cell_type": "code",
   "execution_count": 65,
   "metadata": {},
   "outputs": [
    {
     "data": {
      "application/vnd.jupyter.widget-view+json": {
       "model_id": "",
       "version_major": 2,
       "version_minor": 0
      },
      "text/plain": [
       "FloatProgress(value=0.0, bar_style='info', description='Progress:', layout=Layout(height='25px', width='50%'),…"
      ]
     },
     "metadata": {},
     "output_type": "display_data"
    }
   ],
   "source": [
    "plt.cla()"
   ]
  },
  {
   "cell_type": "code",
   "execution_count": 66,
   "metadata": {},
   "outputs": [
    {
     "data": {
      "application/vnd.jupyter.widget-view+json": {
       "model_id": "",
       "version_major": 2,
       "version_minor": 0
      },
      "text/plain": [
       "FloatProgress(value=0.0, bar_style='info', description='Progress:', layout=Layout(height='25px', width='50%'),…"
      ]
     },
     "metadata": {},
     "output_type": "display_data"
    },
    {
     "name": "stdout",
     "output_type": "stream",
     "text": [
      "Text(28.097222222222214, 0.5, 'count')"
     ]
    }
   ],
   "source": [
    "bins, counts = df.select('tempo').rdd.flatMap(lambda x: x).histogram(20)\n",
    "\n",
    "# This is a bit awkward but I believe this is the correct way to do it \n",
    "plt.hist(bins[:-1], bins=bins, weights=counts)\n",
    "plt.xlabel(\"tempo\")\n",
    "plt.ylabel(\"count\")"
   ]
  },
  {
   "cell_type": "code",
   "execution_count": 68,
   "metadata": {},
   "outputs": [
    {
     "data": {
      "application/vnd.jupyter.widget-view+json": {
       "model_id": "",
       "version_major": 2,
       "version_minor": 0
      },
      "text/plain": [
       "FloatProgress(value=0.0, bar_style='info', description='Progress:', layout=Layout(height='25px', width='50%'),…"
      ]
     },
     "metadata": {},
     "output_type": "display_data"
    },
    {
     "data": {
      "image/png": "[encoded data removed]",
      "text/plain": [
       "<IPython.core.display.Image object>"
      ]
     },
     "metadata": {},
     "output_type": "display_data"
    }
   ],
   "source": [
    "%matplot plt"
   ]
  },
  {
   "cell_type": "code",
   "execution_count": 69,
   "metadata": {},
   "outputs": [
    {
     "data": {
      "application/vnd.jupyter.widget-view+json": {
       "model_id": "",
       "version_major": 2,
       "version_minor": 0
      },
      "text/plain": [
       "FloatProgress(value=0.0, bar_style='info', description='Progress:', layout=Layout(height='25px', width='50%'),…"
      ]
     },
     "metadata": {},
     "output_type": "display_data"
    }
   ],
   "source": [
    "plt.cla()"
   ]
  },
  {
   "cell_type": "code",
   "execution_count": 70,
   "metadata": {},
   "outputs": [
    {
     "data": {
      "application/vnd.jupyter.widget-view+json": {
       "model_id": "",
       "version_major": 2,
       "version_minor": 0
      },
      "text/plain": [
       "FloatProgress(value=0.0, bar_style='info', description='Progress:', layout=Layout(height='25px', width='50%'),…"
      ]
     },
     "metadata": {},
     "output_type": "display_data"
    },
    {
     "name": "stdout",
     "output_type": "stream",
     "text": [
      "Text(28.097222222222214, 0.5, 'count')"
     ]
    }
   ],
   "source": [
    "bins, counts = df.select('year').rdd.flatMap(lambda x: x).histogram(20)\n",
    "\n",
    "# This is a bit awkward but I believe this is the correct way to do it \n",
    "plt.hist(bins[:-1], bins=bins, weights=counts)\n",
    "plt.xlabel(\"year\")\n",
    "plt.ylabel(\"count\")"
   ]
  },
  {
   "cell_type": "code",
   "execution_count": 71,
   "metadata": {},
   "outputs": [
    {
     "data": {
      "application/vnd.jupyter.widget-view+json": {
       "model_id": "",
       "version_major": 2,
       "version_minor": 0
      },
      "text/plain": [
       "FloatProgress(value=0.0, bar_style='info', description='Progress:', layout=Layout(height='25px', width='50%'),…"
      ]
     },
     "metadata": {},
     "output_type": "display_data"
    },
    {
     "data": {
      "image/png": "[encoded data removed]",
      "text/plain": [
       "<IPython.core.display.Image object>"
      ]
     },
     "metadata": {},
     "output_type": "display_data"
    }
   ],
   "source": [
    "%matplot plt"
   ]
  },
  {
   "cell_type": "markdown",
   "metadata": {
    "application/vnd.databricks.v1+cell": {
     "inputWidgets": {},
     "nuid": "f50cf7a6-6c68-49a0-ac60-1fce85ede4a9",
     "showTitle": false,
     "title": ""
    },
    "id": "vLN7d7BhbGOo"
   },
   "source": [
    "2.3c \n",
    "Year's distribution is strange because it only has data on two ends, no distribution over the middle range.\n",
    "I think the year data may be taken mistakenly since data around 0 doesnot making sense. We can filter out those data around 0 and only keep data around 2000."
   ]
  },
  {
   "cell_type": "code",
   "execution_count": 72,
   "metadata": {},
   "outputs": [
    {
     "data": {
      "application/vnd.jupyter.widget-view+json": {
       "model_id": "",
       "version_major": 2,
       "version_minor": 0
      },
      "text/plain": [
       "FloatProgress(value=0.0, bar_style='info', description='Progress:', layout=Layout(height='25px', width='50%'),…"
      ]
     },
     "metadata": {},
     "output_type": "display_data"
    }
   ],
   "source": [
    "# 2.3d\n",
    "plt.cla()"
   ]
  },
  {
   "cell_type": "code",
   "execution_count": 73,
   "metadata": {},
   "outputs": [
    {
     "data": {
      "application/vnd.jupyter.widget-view+json": {
       "model_id": "",
       "version_major": 2,
       "version_minor": 0
      },
      "text/plain": [
       "FloatProgress(value=0.0, bar_style='info', description='Progress:', layout=Layout(height='25px', width='50%'),…"
      ]
     },
     "metadata": {},
     "output_type": "display_data"
    },
    {
     "name": "stdout",
     "output_type": "stream",
     "text": [
      "Text(28.097222222222214, 0.5, 'count')"
     ]
    }
   ],
   "source": [
    "bins, counts = df.select('year').rdd.flatMap(lambda x: x).filter(lambda x: x!=0).histogram(20)\n",
    "\n",
    "# This is a bit awkward but I believe this is the correct way to do it \n",
    "plt.hist(bins[:-1], bins=bins, weights=counts)\n",
    "plt.xlabel(\"year\")\n",
    "plt.ylabel(\"count\")"
   ]
  },
  {
   "cell_type": "code",
   "execution_count": 74,
   "metadata": {},
   "outputs": [
    {
     "data": {
      "application/vnd.jupyter.widget-view+json": {
       "model_id": "",
       "version_major": 2,
       "version_minor": 0
      },
      "text/plain": [
       "FloatProgress(value=0.0, bar_style='info', description='Progress:', layout=Layout(height='25px', width='50%'),…"
      ]
     },
     "metadata": {},
     "output_type": "display_data"
    },
    {
     "data": {
      "image/png": "[encoded data removed]",
      "text/plain": [
       "<IPython.core.display.Image object>"
      ]
     },
     "metadata": {},
     "output_type": "display_data"
    }
   ],
   "source": [
    "%matplot plt"
   ]
  },
  {
   "cell_type": "markdown",
   "metadata": {
    "application/vnd.databricks.v1+cell": {
     "inputWidgets": {},
     "nuid": "8a8f8438-166b-44aa-ad20-2cdc3fafdcb3",
     "showTitle": false,
     "title": ""
    },
    "id": "g8OM2ZiEbGOo"
   },
   "source": [
    "Some scatter pair plots would also be interesting to see the correlation between features. ✰2.3(e) Include the plots of the following pairs of features and describe your findings (e.g. what patterns you observe) in your writeup.\n",
    "- `song_hotttnesss` against `artist_familiarity`\n",
    "- `artist_latitude` against `artist_longitude`\n",
    "- `song_hotttnesss` against `year`\n",
    "\n",
    "Plotting all data points might explode matplotlib. Think about what simple technique you could use to visualize large datasets while retaining data distribution. ✰2.3(f) In your writeup, briefly describe what you did."
   ]
  },
  {
   "cell_type": "code",
   "execution_count": 106,
   "metadata": {},
   "outputs": [
    {
     "data": {
      "application/vnd.jupyter.widget-view+json": {
       "model_id": "",
       "version_major": 2,
       "version_minor": 0
      },
      "text/plain": [
       "FloatProgress(value=0.0, bar_style='info', description='Progress:', layout=Layout(height='25px', width='50%'),…"
      ]
     },
     "metadata": {},
     "output_type": "display_data"
    }
   ],
   "source": [
    "plt.cla()"
   ]
  },
  {
   "cell_type": "code",
   "execution_count": 107,
   "metadata": {
    "application/vnd.databricks.v1+cell": {
     "inputWidgets": {},
     "nuid": "41f7f371-fbec-4988-b12c-8e3dd3567488",
     "showTitle": false,
     "title": ""
    },
    "id": "1S111QAjbGOo"
   },
   "outputs": [
    {
     "data": {
      "application/vnd.jupyter.widget-view+json": {
       "model_id": "",
       "version_major": 2,
       "version_minor": 0
      },
      "text/plain": [
       "FloatProgress(value=0.0, bar_style='info', description='Progress:', layout=Layout(height='25px', width='50%'),…"
      ]
     },
     "metadata": {},
     "output_type": "display_data"
    }
   ],
   "source": [
    "# YOUR CODE HERE\n",
    "song_hotttnesss_sampled = df.select(['song_hotttnesss']).rdd.sample(False, 0.001, 81).collect()\n",
    "artist_familiarity_sampled = df.select(['artist_familiarity']).rdd.sample(False, 0.001, 81).collect()\n",
    "plt.scatter(artist_familiarity_sampled,song_hotttnesss_sampled)\n",
    "plt.xlabel(\"artist_familiarity\")\n",
    "plt.ylabel(\"song_hotttnesss\")\n",
    "plt.show()\n",
    "# YOUR CODE HERE"
   ]
  },
  {
   "cell_type": "code",
   "execution_count": 108,
   "metadata": {},
   "outputs": [
    {
     "data": {
      "application/vnd.jupyter.widget-view+json": {
       "model_id": "",
       "version_major": 2,
       "version_minor": 0
      },
      "text/plain": [
       "FloatProgress(value=0.0, bar_style='info', description='Progress:', layout=Layout(height='25px', width='50%'),…"
      ]
     },
     "metadata": {},
     "output_type": "display_data"
    },
    {
     "data": {
      "image/png": "[encoded data removed]",
      "text/plain": [
       "<IPython.core.display.Image object>"
      ]
     },
     "metadata": {},
     "output_type": "display_data"
    }
   ],
   "source": [
    "%matplot plt"
   ]
  },
  {
   "cell_type": "code",
   "execution_count": 111,
   "metadata": {},
   "outputs": [
    {
     "data": {
      "application/vnd.jupyter.widget-view+json": {
       "model_id": "",
       "version_major": 2,
       "version_minor": 0
      },
      "text/plain": [
       "FloatProgress(value=0.0, bar_style='info', description='Progress:', layout=Layout(height='25px', width='50%'),…"
      ]
     },
     "metadata": {},
     "output_type": "display_data"
    }
   ],
   "source": [
    "plt.cla()"
   ]
  },
  {
   "cell_type": "code",
   "execution_count": 112,
   "metadata": {},
   "outputs": [
    {
     "data": {
      "application/vnd.jupyter.widget-view+json": {
       "model_id": "",
       "version_major": 2,
       "version_minor": 0
      },
      "text/plain": [
       "FloatProgress(value=0.0, bar_style='info', description='Progress:', layout=Layout(height='25px', width='50%'),…"
      ]
     },
     "metadata": {},
     "output_type": "display_data"
    }
   ],
   "source": [
    "year = df.select(\"year\").filter(df.year>0).sample(False, 0.001, 81).collect()\n",
    "song_hottness = df.select('song_hotttnesss').filter(df.year>0).sample(False, 0.001, 81).collect()\n",
    "\n",
    "plt.scatter(year, song_hottness)\n",
    "plt.xlabel(\"year\")\n",
    "plt.ylabel(\"song_hotttness\")\n",
    "plt.show()"
   ]
  },
  {
   "cell_type": "code",
   "execution_count": 113,
   "metadata": {},
   "outputs": [
    {
     "data": {
      "application/vnd.jupyter.widget-view+json": {
       "model_id": "",
       "version_major": 2,
       "version_minor": 0
      },
      "text/plain": [
       "FloatProgress(value=0.0, bar_style='info', description='Progress:', layout=Layout(height='25px', width='50%'),…"
      ]
     },
     "metadata": {},
     "output_type": "display_data"
    },
    {
     "data": {
      "image/png": "[encoded data removed]",
      "text/plain": [
       "<IPython.core.display.Image object>"
      ]
     },
     "metadata": {},
     "output_type": "display_data"
    }
   ],
   "source": [
    "%matplot plt"
   ]
  },
  {
   "cell_type": "code",
   "execution_count": 88,
   "metadata": {},
   "outputs": [
    {
     "data": {
      "application/vnd.jupyter.widget-view+json": {
       "model_id": "",
       "version_major": 2,
       "version_minor": 0
      },
      "text/plain": [
       "FloatProgress(value=0.0, bar_style='info', description='Progress:', layout=Layout(height='25px', width='50%'),…"
      ]
     },
     "metadata": {},
     "output_type": "display_data"
    }
   ],
   "source": [
    "plt.cla()"
   ]
  },
  {
   "cell_type": "code",
   "execution_count": 89,
   "metadata": {},
   "outputs": [
    {
     "data": {
      "application/vnd.jupyter.widget-view+json": {
       "model_id": "",
       "version_major": 2,
       "version_minor": 0
      },
      "text/plain": [
       "FloatProgress(value=0.0, bar_style='info', description='Progress:', layout=Layout(height='25px', width='50%'),…"
      ]
     },
     "metadata": {},
     "output_type": "display_data"
    }
   ],
   "source": [
    "artist_longitude_sampled = df.select(['artist_longitude']).rdd.sample(False, 0.001, 81).collect()\n",
    "artist_latitude_sampled = df.select(['artist_latitude']).rdd.sample(False, 0.001, 81).collect()\n",
    "plt.scatter(artist_longitude_sampled,artist_latitude_sampled)\n",
    "plt.xlabel('artist_longitude')\n",
    "plt.ylabel('artist_latitude')\n",
    "plt.show()"
   ]
  },
  {
   "cell_type": "code",
   "execution_count": 90,
   "metadata": {},
   "outputs": [
    {
     "data": {
      "application/vnd.jupyter.widget-view+json": {
       "model_id": "",
       "version_major": 2,
       "version_minor": 0
      },
      "text/plain": [
       "FloatProgress(value=0.0, bar_style='info', description='Progress:', layout=Layout(height='25px', width='50%'),…"
      ]
     },
     "metadata": {},
     "output_type": "display_data"
    },
    {
     "data": {
      "image/png": "[encoded data removed]",
      "text/plain": [
       "<IPython.core.display.Image object>"
      ]
     },
     "metadata": {},
     "output_type": "display_data"
    }
   ],
   "source": [
    "%matplot plt"
   ]
  },
  {
   "cell_type": "markdown",
   "metadata": {},
   "source": [
    "2.3e\n",
    "Findings: we can see artist longitude and latitude are quite independent to each other, such that they lie in tow cluster ranges as shown above. From the song_hotttnesss against artist_familiarity, we can see the geeral trend is the higher artist_familiarity, the higher song_hotttnesss. From song_hotttnesss against year, we can see aournd 2000, people's song hotness has similar ranges but with more data points."
   ]
  },
  {
   "cell_type": "markdown",
   "metadata": {},
   "source": [
    "2.3f\n",
    "we can use random smapling technique to retain the same distribution in the large dataset to a smaller subset, and we need to fix seed to make the relationship between two features accordingly."
   ]
  },
  {
   "cell_type": "markdown",
   "metadata": {
    "application/vnd.databricks.v1+cell": {
     "inputWidgets": {},
     "nuid": "b8a46234-ae5e-4ab7-ba35-4c9a08043c23",
     "showTitle": false,
     "title": ""
    },
    "id": "edOR1LYvbGOo"
   },
   "source": [
    "### 3. Data Cleaning\n",
    "\n",
    "From 2, you should have had a basic understanding of the dataset. In this cleaning step, we are dropping `energy` and `danceability` features. \n",
    "\n",
    "✰2.4(a) In your writeup, justify why we are doing this."
   ]
  },
  {
   "cell_type": "markdown",
   "metadata": {},
   "source": [
    "We drop energy and danceability because data inside those two columns are all zeros."
   ]
  },
  {
   "cell_type": "code",
   "execution_count": 120,
   "metadata": {},
   "outputs": [
    {
     "data": {
      "application/vnd.jupyter.widget-view+json": {
       "model_id": "",
       "version_major": 2,
       "version_minor": 0
      },
      "text/plain": [
       "FloatProgress(value=0.0, bar_style='info', description='Progress:', layout=Layout(height='25px', width='50%'),…"
      ]
     },
     "metadata": {},
     "output_type": "display_data"
    },
    {
     "name": "stdout",
     "output_type": "stream",
     "text": [
      "581965"
     ]
    }
   ],
   "source": [
    "df.count()"
   ]
  },
  {
   "cell_type": "code",
   "execution_count": 8,
   "metadata": {
    "application/vnd.databricks.v1+cell": {
     "inputWidgets": {},
     "nuid": "b491848b-96be-4af8-a64b-4bdecbf907cc",
     "showTitle": false,
     "title": ""
    },
    "id": "K_qoFKDKbGOp"
   },
   "outputs": [
    {
     "data": {
      "application/vnd.jupyter.widget-view+json": {
       "model_id": "",
       "version_major": 2,
       "version_minor": 0
      },
      "text/plain": [
       "FloatProgress(value=0.0, bar_style='info', description='Progress:', layout=Layout(height='25px', width='50%'),…"
      ]
     },
     "metadata": {},
     "output_type": "display_data"
    }
   ],
   "source": [
    "# YOUR CODE HERE\n",
    "df = df.select([c for c in df.columns if c not in {'energy', 'danceability'}])\n",
    "\n",
    "#df = df.drop(['energy', 'danceability'])\n",
    "# YOUR CODE HERE"
   ]
  },
  {
   "cell_type": "code",
   "execution_count": 9,
   "metadata": {},
   "outputs": [
    {
     "data": {
      "application/vnd.jupyter.widget-view+json": {
       "model_id": "",
       "version_major": 2,
       "version_minor": 0
      },
      "text/plain": [
       "FloatProgress(value=0.0, bar_style='info', description='Progress:', layout=Layout(height='25px', width='50%'),…"
      ]
     },
     "metadata": {},
     "output_type": "display_data"
    },
    {
     "name": "stdout",
     "output_type": "stream",
     "text": [
      "['song_hotttnesss', 'artist_familiarity', 'artist_hotttnesss', 'artist_id', 'artist_latitude', 'artist_location', 'artist_longitude', 'artist_name', 'title', 'duration', 'end_of_fade_in', 'key', 'key_confidence', 'loudness', 'mode', 'mode_confidence', 'start_of_fade_out', 'tempo', 'time_signature', 'time_signature_confidence', 'artist_terms', 'artist_terms_freq', 'artist_terms_weight', 'year']"
     ]
    }
   ],
   "source": [
    "df.columns"
   ]
  },
  {
   "cell_type": "markdown",
   "metadata": {
    "application/vnd.databricks.v1+cell": {
     "inputWidgets": {},
     "nuid": "64cb2226-dcf2-4d19-a423-320270a93391",
     "showTitle": false,
     "title": ""
    },
    "id": "rS8RChEBbGOp"
   },
   "source": [
    "For simplicity, we are dropping `year` values that are less or equal to 1920. Print out the number of samples before and after dropping these rows. \n",
    "\n",
    "✰2.4(b) In your writeup, compare these two numbers and explain the advantages and potential problem of doing this step. What other techniques could you use to potentially do better?"
   ]
  },
  {
   "cell_type": "code",
   "execution_count": 10,
   "metadata": {
    "application/vnd.databricks.v1+cell": {
     "inputWidgets": {},
     "nuid": "cd1fb1a7-628b-4f18-b728-d874fa2eecc2",
     "showTitle": false,
     "title": ""
    },
    "id": "IntPLzb0bGOp"
   },
   "outputs": [
    {
     "data": {
      "application/vnd.jupyter.widget-view+json": {
       "model_id": "",
       "version_major": 2,
       "version_minor": 0
      },
      "text/plain": [
       "FloatProgress(value=0.0, bar_style='info', description='Progress:', layout=Layout(height='25px', width='50%'),…"
      ]
     },
     "metadata": {},
     "output_type": "display_data"
    },
    {
     "name": "stdout",
     "output_type": "stream",
     "text": [
      "before drop:  581965\n",
      "after drop:  346444"
     ]
    }
   ],
   "source": [
    "# YOUR CODE HERE\n",
    "# before dropping\n",
    "sample_beforedropping = df.count()\n",
    "print(\"before drop: \", sample_beforedropping)\n",
    "#after dropping\n",
    "df = df.filter((df[\"year\"] > 1920))\n",
    "sample_afterdropping = df.count()\n",
    "print(\"after drop: \", sample_afterdropping )\n",
    "# YOUR CODE HERE"
   ]
  },
  {
   "cell_type": "markdown",
   "metadata": {
    "application/vnd.databricks.v1+cell": {
     "inputWidgets": {},
     "nuid": "0139eb2c-2151-44fb-bc95-da9e1939574f",
     "showTitle": false,
     "title": ""
    },
    "id": "cfPJkDifbGOp"
   },
   "source": [
    "Now, let's do an NaN check to see if there are other problematic features. Print the number of entries that contain NaN for each feature. \n",
    "\n",
    "Hint: use pyspark sql `count(when(isnull(...)))` to count total Null entries for a feature. Replace `isnull` with `isnan` to count nan entries."
   ]
  },
  {
   "cell_type": "code",
   "execution_count": 145,
   "metadata": {},
   "outputs": [
    {
     "data": {
      "application/vnd.jupyter.widget-view+json": {
       "model_id": "",
       "version_major": 2,
       "version_minor": 0
      },
      "text/plain": [
       "FloatProgress(value=0.0, bar_style='info', description='Progress:', layout=Layout(height='25px', width='50%'),…"
      ]
     },
     "metadata": {},
     "output_type": "display_data"
    },
    {
     "name": "stdout",
     "output_type": "stream",
     "text": [
      "['song_hotttnesss', 'artist_familiarity', 'artist_hotttnesss', 'artist_id', 'artist_latitude', 'artist_location', 'artist_longitude', 'artist_name', 'title', 'duration', 'end_of_fade_in', 'key', 'key_confidence', 'loudness', 'mode', 'mode_confidence', 'start_of_fade_out', 'tempo', 'time_signature', 'time_signature_confidence', 'artist_terms', 'artist_terms_freq', 'artist_terms_weight', 'year']"
     ]
    }
   ],
   "source": [
    "df.columns"
   ]
  },
  {
   "cell_type": "code",
   "execution_count": 147,
   "metadata": {},
   "outputs": [
    {
     "data": {
      "application/vnd.jupyter.widget-view+json": {
       "model_id": "",
       "version_major": 2,
       "version_minor": 0
      },
      "text/plain": [
       "FloatProgress(value=0.0, bar_style='info', description='Progress:', layout=Layout(height='25px', width='50%'),…"
      ]
     },
     "metadata": {},
     "output_type": "display_data"
    },
    {
     "name": "stdout",
     "output_type": "stream",
     "text": [
      "346444"
     ]
    }
   ],
   "source": [
    "df.count()"
   ]
  },
  {
   "cell_type": "code",
   "execution_count": 155,
   "metadata": {},
   "outputs": [
    {
     "data": {
      "application/vnd.jupyter.widget-view+json": {
       "model_id": "",
       "version_major": 2,
       "version_minor": 0
      },
      "text/plain": [
       "FloatProgress(value=0.0, bar_style='info', description='Progress:', layout=Layout(height='25px', width='50%'),…"
      ]
     },
     "metadata": {},
     "output_type": "display_data"
    },
    {
     "name": "stdout",
     "output_type": "stream",
     "text": [
      "+----------------------------------------------------------------+\n",
      "|count(CASE WHEN isnan(song_hotttnesss) THEN song_hotttnesss END)|\n",
      "+----------------------------------------------------------------+\n",
      "|                                                               0|\n",
      "+----------------------------------------------------------------+"
     ]
    }
   ],
   "source": [
    "# 2.4c\n",
    "from pyspark.sql.functions import isnan, when, count, isnull\n",
    "df.select(count(when(isnan(df.song_hotttnesss), df.song_hotttnesss))).show()"
   ]
  },
  {
   "cell_type": "code",
   "execution_count": 177,
   "metadata": {},
   "outputs": [
    {
     "data": {
      "application/vnd.jupyter.widget-view+json": {
       "model_id": "",
       "version_major": 2,
       "version_minor": 0
      },
      "text/plain": [
       "FloatProgress(value=0.0, bar_style='info', description='Progress:', layout=Layout(height='25px', width='50%'),…"
      ]
     },
     "metadata": {},
     "output_type": "display_data"
    },
    {
     "name": "stdout",
     "output_type": "stream",
     "text": [
      "+----------------------------------------------------------------------+\n",
      "|count(CASE WHEN isnan(artist_familiarity) THEN artist_familiarity END)|\n",
      "+----------------------------------------------------------------------+\n",
      "|                                                                     1|\n",
      "+----------------------------------------------------------------------+"
     ]
    }
   ],
   "source": [
    "df.select(count(when(isnan(df.artist_familiarity), df.artist_familiarity))).show()"
   ]
  },
  {
   "cell_type": "code",
   "execution_count": 159,
   "metadata": {},
   "outputs": [
    {
     "data": {
      "application/vnd.jupyter.widget-view+json": {
       "model_id": "",
       "version_major": 2,
       "version_minor": 0
      },
      "text/plain": [
       "FloatProgress(value=0.0, bar_style='info', description='Progress:', layout=Layout(height='25px', width='50%'),…"
      ]
     },
     "metadata": {},
     "output_type": "display_data"
    },
    {
     "name": "stdout",
     "output_type": "stream",
     "text": [
      "+--------------------------------------------------------------------+\n",
      "|count(CASE WHEN isnan(artist_hotttnesss) THEN artist_hotttnesss END)|\n",
      "+--------------------------------------------------------------------+\n",
      "|                                                                   0|\n",
      "+--------------------------------------------------------------------+"
     ]
    }
   ],
   "source": [
    "df.select(count(when(isnan(df.artist_hotttnesss), df.artist_hotttnesss))).show()"
   ]
  },
  {
   "cell_type": "code",
   "execution_count": 160,
   "metadata": {},
   "outputs": [
    {
     "data": {
      "application/vnd.jupyter.widget-view+json": {
       "model_id": "",
       "version_major": 2,
       "version_minor": 0
      },
      "text/plain": [
       "FloatProgress(value=0.0, bar_style='info', description='Progress:', layout=Layout(height='25px', width='50%'),…"
      ]
     },
     "metadata": {},
     "output_type": "display_data"
    },
    {
     "name": "stdout",
     "output_type": "stream",
     "text": [
      "+----------------------------------------------------+\n",
      "|count(CASE WHEN isnan(artist_id) THEN artist_id END)|\n",
      "+----------------------------------------------------+\n",
      "|                                                   0|\n",
      "+----------------------------------------------------+"
     ]
    }
   ],
   "source": [
    "df.select(count(when(isnan(df.artist_id), df.artist_id))).show()"
   ]
  },
  {
   "cell_type": "code",
   "execution_count": 182,
   "metadata": {},
   "outputs": [
    {
     "data": {
      "application/vnd.jupyter.widget-view+json": {
       "model_id": "",
       "version_major": 2,
       "version_minor": 0
      },
      "text/plain": [
       "FloatProgress(value=0.0, bar_style='info', description='Progress:', layout=Layout(height='25px', width='50%'),…"
      ]
     },
     "metadata": {},
     "output_type": "display_data"
    },
    {
     "name": "stdout",
     "output_type": "stream",
     "text": [
      "+----------------------------------------------------------------+\n",
      "|count(CASE WHEN isnan(artist_latitude) THEN artist_latitude END)|\n",
      "+----------------------------------------------------------------+\n",
      "|                                                          219399|\n",
      "+----------------------------------------------------------------+"
     ]
    }
   ],
   "source": [
    "df.select(count(when(isnan(df.artist_latitude), df.artist_latitude))).show()"
   ]
  },
  {
   "cell_type": "code",
   "execution_count": 162,
   "metadata": {},
   "outputs": [
    {
     "data": {
      "application/vnd.jupyter.widget-view+json": {
       "model_id": "",
       "version_major": 2,
       "version_minor": 0
      },
      "text/plain": [
       "FloatProgress(value=0.0, bar_style='info', description='Progress:', layout=Layout(height='25px', width='50%'),…"
      ]
     },
     "metadata": {},
     "output_type": "display_data"
    },
    {
     "name": "stdout",
     "output_type": "stream",
     "text": [
      "+----------------------------------------------------------------+\n",
      "|count(CASE WHEN isnan(artist_location) THEN artist_location END)|\n",
      "+----------------------------------------------------------------+\n",
      "|                                                               0|\n",
      "+----------------------------------------------------------------+"
     ]
    }
   ],
   "source": [
    "df.select(count(when(isnan(df.artist_location), df.artist_location))).show()"
   ]
  },
  {
   "cell_type": "code",
   "execution_count": 183,
   "metadata": {},
   "outputs": [
    {
     "data": {
      "application/vnd.jupyter.widget-view+json": {
       "model_id": "",
       "version_major": 2,
       "version_minor": 0
      },
      "text/plain": [
       "FloatProgress(value=0.0, bar_style='info', description='Progress:', layout=Layout(height='25px', width='50%'),…"
      ]
     },
     "metadata": {},
     "output_type": "display_data"
    },
    {
     "name": "stdout",
     "output_type": "stream",
     "text": [
      "+------------------------------------------------------------------+\n",
      "|count(CASE WHEN isnan(artist_longitude) THEN artist_longitude END)|\n",
      "+------------------------------------------------------------------+\n",
      "|                                                            219399|\n",
      "+------------------------------------------------------------------+"
     ]
    }
   ],
   "source": [
    "df.select(count(when(isnan(df.artist_longitude), df.artist_longitude))).show()"
   ]
  },
  {
   "cell_type": "code",
   "execution_count": 164,
   "metadata": {},
   "outputs": [
    {
     "data": {
      "application/vnd.jupyter.widget-view+json": {
       "model_id": "",
       "version_major": 2,
       "version_minor": 0
      },
      "text/plain": [
       "FloatProgress(value=0.0, bar_style='info', description='Progress:', layout=Layout(height='25px', width='50%'),…"
      ]
     },
     "metadata": {},
     "output_type": "display_data"
    },
    {
     "name": "stdout",
     "output_type": "stream",
     "text": [
      "+--------------------------------------------------------+\n",
      "|count(CASE WHEN isnan(artist_name) THEN artist_name END)|\n",
      "+--------------------------------------------------------+\n",
      "|                                                       0|\n",
      "+--------------------------------------------------------+"
     ]
    }
   ],
   "source": [
    "df.select(count(when(isnan(df.artist_name), df.artist_name))).show()"
   ]
  },
  {
   "cell_type": "code",
   "execution_count": 165,
   "metadata": {},
   "outputs": [
    {
     "data": {
      "application/vnd.jupyter.widget-view+json": {
       "model_id": "",
       "version_major": 2,
       "version_minor": 0
      },
      "text/plain": [
       "FloatProgress(value=0.0, bar_style='info', description='Progress:', layout=Layout(height='25px', width='50%'),…"
      ]
     },
     "metadata": {},
     "output_type": "display_data"
    },
    {
     "name": "stdout",
     "output_type": "stream",
     "text": [
      "+--------------------------------------------+\n",
      "|count(CASE WHEN isnan(title) THEN title END)|\n",
      "+--------------------------------------------+\n",
      "|                                           0|\n",
      "+--------------------------------------------+"
     ]
    }
   ],
   "source": [
    "df.select(count(when(isnan(df.title), df.title))).show()"
   ]
  },
  {
   "cell_type": "code",
   "execution_count": 166,
   "metadata": {},
   "outputs": [
    {
     "data": {
      "application/vnd.jupyter.widget-view+json": {
       "model_id": "",
       "version_major": 2,
       "version_minor": 0
      },
      "text/plain": [
       "FloatProgress(value=0.0, bar_style='info', description='Progress:', layout=Layout(height='25px', width='50%'),…"
      ]
     },
     "metadata": {},
     "output_type": "display_data"
    },
    {
     "name": "stdout",
     "output_type": "stream",
     "text": [
      "+--------------------------------------------------+\n",
      "|count(CASE WHEN isnan(duration) THEN duration END)|\n",
      "+--------------------------------------------------+\n",
      "|                                                 0|\n",
      "+--------------------------------------------------+"
     ]
    }
   ],
   "source": [
    "df.select(count(when(isnan(df.duration), df.duration))).show()"
   ]
  },
  {
   "cell_type": "code",
   "execution_count": 167,
   "metadata": {},
   "outputs": [
    {
     "data": {
      "application/vnd.jupyter.widget-view+json": {
       "model_id": "",
       "version_major": 2,
       "version_minor": 0
      },
      "text/plain": [
       "FloatProgress(value=0.0, bar_style='info', description='Progress:', layout=Layout(height='25px', width='50%'),…"
      ]
     },
     "metadata": {},
     "output_type": "display_data"
    },
    {
     "name": "stdout",
     "output_type": "stream",
     "text": [
      "+--------------------------------------------------------------+\n",
      "|count(CASE WHEN isnan(end_of_fade_in) THEN end_of_fade_in END)|\n",
      "+--------------------------------------------------------------+\n",
      "|                                                             0|\n",
      "+--------------------------------------------------------------+"
     ]
    }
   ],
   "source": [
    "df.select(count(when(isnan(df.end_of_fade_in), df.end_of_fade_in))).show()"
   ]
  },
  {
   "cell_type": "code",
   "execution_count": 168,
   "metadata": {},
   "outputs": [
    {
     "data": {
      "application/vnd.jupyter.widget-view+json": {
       "model_id": "",
       "version_major": 2,
       "version_minor": 0
      },
      "text/plain": [
       "FloatProgress(value=0.0, bar_style='info', description='Progress:', layout=Layout(height='25px', width='50%'),…"
      ]
     },
     "metadata": {},
     "output_type": "display_data"
    },
    {
     "name": "stdout",
     "output_type": "stream",
     "text": [
      "+----------------------------------------+\n",
      "|count(CASE WHEN isnan(key) THEN key END)|\n",
      "+----------------------------------------+\n",
      "|                                       0|\n",
      "+----------------------------------------+"
     ]
    }
   ],
   "source": [
    "df.select(count(when(isnan(df.key), df.key))).show()"
   ]
  },
  {
   "cell_type": "code",
   "execution_count": 169,
   "metadata": {},
   "outputs": [
    {
     "data": {
      "application/vnd.jupyter.widget-view+json": {
       "model_id": "",
       "version_major": 2,
       "version_minor": 0
      },
      "text/plain": [
       "FloatProgress(value=0.0, bar_style='info', description='Progress:', layout=Layout(height='25px', width='50%'),…"
      ]
     },
     "metadata": {},
     "output_type": "display_data"
    },
    {
     "name": "stdout",
     "output_type": "stream",
     "text": [
      "+--------------------------------------------------------------+\n",
      "|count(CASE WHEN isnan(key_confidence) THEN key_confidence END)|\n",
      "+--------------------------------------------------------------+\n",
      "|                                                             0|\n",
      "+--------------------------------------------------------------+"
     ]
    }
   ],
   "source": [
    "df.select(count(when(isnan(df.key_confidence), df.key_confidence))).show()"
   ]
  },
  {
   "cell_type": "code",
   "execution_count": 170,
   "metadata": {},
   "outputs": [
    {
     "data": {
      "application/vnd.jupyter.widget-view+json": {
       "model_id": "",
       "version_major": 2,
       "version_minor": 0
      },
      "text/plain": [
       "FloatProgress(value=0.0, bar_style='info', description='Progress:', layout=Layout(height='25px', width='50%'),…"
      ]
     },
     "metadata": {},
     "output_type": "display_data"
    },
    {
     "name": "stdout",
     "output_type": "stream",
     "text": [
      "+--------------------------------------------------+\n",
      "|count(CASE WHEN isnan(loudness) THEN loudness END)|\n",
      "+--------------------------------------------------+\n",
      "|                                                 0|\n",
      "+--------------------------------------------------+"
     ]
    }
   ],
   "source": [
    "df.select(count(when(isnan(df.loudness), df.loudness))).show()"
   ]
  },
  {
   "cell_type": "code",
   "execution_count": 171,
   "metadata": {},
   "outputs": [
    {
     "data": {
      "application/vnd.jupyter.widget-view+json": {
       "model_id": "",
       "version_major": 2,
       "version_minor": 0
      },
      "text/plain": [
       "FloatProgress(value=0.0, bar_style='info', description='Progress:', layout=Layout(height='25px', width='50%'),…"
      ]
     },
     "metadata": {},
     "output_type": "display_data"
    },
    {
     "name": "stdout",
     "output_type": "stream",
     "text": [
      "+------------------------------------------+\n",
      "|count(CASE WHEN isnan(mode) THEN mode END)|\n",
      "+------------------------------------------+\n",
      "|                                         0|\n",
      "+------------------------------------------+"
     ]
    }
   ],
   "source": [
    "df.select(count(when(isnan(df.mode), df.mode))).show()"
   ]
  },
  {
   "cell_type": "code",
   "execution_count": 172,
   "metadata": {},
   "outputs": [
    {
     "data": {
      "application/vnd.jupyter.widget-view+json": {
       "model_id": "",
       "version_major": 2,
       "version_minor": 0
      },
      "text/plain": [
       "FloatProgress(value=0.0, bar_style='info', description='Progress:', layout=Layout(height='25px', width='50%'),…"
      ]
     },
     "metadata": {},
     "output_type": "display_data"
    },
    {
     "name": "stdout",
     "output_type": "stream",
     "text": [
      "+----------------------------------------------------------------+\n",
      "|count(CASE WHEN isnan(mode_confidence) THEN mode_confidence END)|\n",
      "+----------------------------------------------------------------+\n",
      "|                                                               0|\n",
      "+----------------------------------------------------------------+"
     ]
    }
   ],
   "source": [
    "df.select(count(when(isnan(df.mode_confidence), df.mode_confidence))).show()"
   ]
  },
  {
   "cell_type": "code",
   "execution_count": 173,
   "metadata": {},
   "outputs": [
    {
     "data": {
      "application/vnd.jupyter.widget-view+json": {
       "model_id": "",
       "version_major": 2,
       "version_minor": 0
      },
      "text/plain": [
       "FloatProgress(value=0.0, bar_style='info', description='Progress:', layout=Layout(height='25px', width='50%'),…"
      ]
     },
     "metadata": {},
     "output_type": "display_data"
    },
    {
     "name": "stdout",
     "output_type": "stream",
     "text": [
      "+--------------------------------------------------------------------+\n",
      "|count(CASE WHEN isnan(start_of_fade_out) THEN start_of_fade_out END)|\n",
      "+--------------------------------------------------------------------+\n",
      "|                                                                   0|\n",
      "+--------------------------------------------------------------------+"
     ]
    }
   ],
   "source": [
    "df.select(count(when(isnan(df.start_of_fade_out), df.start_of_fade_out))).show()"
   ]
  },
  {
   "cell_type": "code",
   "execution_count": 174,
   "metadata": {},
   "outputs": [
    {
     "data": {
      "application/vnd.jupyter.widget-view+json": {
       "model_id": "",
       "version_major": 2,
       "version_minor": 0
      },
      "text/plain": [
       "FloatProgress(value=0.0, bar_style='info', description='Progress:', layout=Layout(height='25px', width='50%'),…"
      ]
     },
     "metadata": {},
     "output_type": "display_data"
    },
    {
     "name": "stdout",
     "output_type": "stream",
     "text": [
      "+--------------------------------------------+\n",
      "|count(CASE WHEN isnan(tempo) THEN tempo END)|\n",
      "+--------------------------------------------+\n",
      "|                                           0|\n",
      "+--------------------------------------------+"
     ]
    }
   ],
   "source": [
    "df.select(count(when(isnan(df.tempo), df.tempo))).show()"
   ]
  },
  {
   "cell_type": "code",
   "execution_count": 175,
   "metadata": {},
   "outputs": [
    {
     "data": {
      "application/vnd.jupyter.widget-view+json": {
       "model_id": "",
       "version_major": 2,
       "version_minor": 0
      },
      "text/plain": [
       "FloatProgress(value=0.0, bar_style='info', description='Progress:', layout=Layout(height='25px', width='50%'),…"
      ]
     },
     "metadata": {},
     "output_type": "display_data"
    },
    {
     "name": "stdout",
     "output_type": "stream",
     "text": [
      "+--------------------------------------------------------------+\n",
      "|count(CASE WHEN isnan(time_signature) THEN time_signature END)|\n",
      "+--------------------------------------------------------------+\n",
      "|                                                             0|\n",
      "+--------------------------------------------------------------+"
     ]
    }
   ],
   "source": [
    "df.select(count(when(isnan(df.time_signature), df.time_signature))).show()"
   ]
  },
  {
   "cell_type": "code",
   "execution_count": 176,
   "metadata": {},
   "outputs": [
    {
     "data": {
      "application/vnd.jupyter.widget-view+json": {
       "model_id": "",
       "version_major": 2,
       "version_minor": 0
      },
      "text/plain": [
       "FloatProgress(value=0.0, bar_style='info', description='Progress:', layout=Layout(height='25px', width='50%'),…"
      ]
     },
     "metadata": {},
     "output_type": "display_data"
    },
    {
     "name": "stdout",
     "output_type": "stream",
     "text": [
      "+------------------------------------------------------------------------------------+\n",
      "|count(CASE WHEN isnan(time_signature_confidence) THEN time_signature_confidence END)|\n",
      "+------------------------------------------------------------------------------------+\n",
      "|                                                                                   0|\n",
      "+------------------------------------------------------------------------------------+"
     ]
    }
   ],
   "source": [
    "df.select(count(when(isnan(df.time_signature_confidence), df.time_signature_confidence))).show()"
   ]
  },
  {
   "cell_type": "code",
   "execution_count": 178,
   "metadata": {},
   "outputs": [
    {
     "data": {
      "application/vnd.jupyter.widget-view+json": {
       "model_id": "",
       "version_major": 2,
       "version_minor": 0
      },
      "text/plain": [
       "FloatProgress(value=0.0, bar_style='info', description='Progress:', layout=Layout(height='25px', width='50%'),…"
      ]
     },
     "metadata": {},
     "output_type": "display_data"
    },
    {
     "name": "stdout",
     "output_type": "stream",
     "text": [
      "+----------------------------------------------------------+\n",
      "|count(CASE WHEN isnan(artist_terms) THEN artist_terms END)|\n",
      "+----------------------------------------------------------+\n",
      "|                                                         0|\n",
      "+----------------------------------------------------------+"
     ]
    }
   ],
   "source": [
    "df.select(count(when(isnan(df.artist_terms), df.artist_terms))).show()"
   ]
  },
  {
   "cell_type": "code",
   "execution_count": 179,
   "metadata": {},
   "outputs": [
    {
     "data": {
      "application/vnd.jupyter.widget-view+json": {
       "model_id": "",
       "version_major": 2,
       "version_minor": 0
      },
      "text/plain": [
       "FloatProgress(value=0.0, bar_style='info', description='Progress:', layout=Layout(height='25px', width='50%'),…"
      ]
     },
     "metadata": {},
     "output_type": "display_data"
    },
    {
     "name": "stdout",
     "output_type": "stream",
     "text": [
      "+--------------------------------------------------------------------+\n",
      "|count(CASE WHEN isnan(artist_terms_freq) THEN artist_terms_freq END)|\n",
      "+--------------------------------------------------------------------+\n",
      "|                                                                   0|\n",
      "+--------------------------------------------------------------------+"
     ]
    }
   ],
   "source": [
    "df.select(count(when(isnan(df.artist_terms_freq), df.artist_terms_freq))).show()"
   ]
  },
  {
   "cell_type": "code",
   "execution_count": 180,
   "metadata": {},
   "outputs": [
    {
     "data": {
      "application/vnd.jupyter.widget-view+json": {
       "model_id": "",
       "version_major": 2,
       "version_minor": 0
      },
      "text/plain": [
       "FloatProgress(value=0.0, bar_style='info', description='Progress:', layout=Layout(height='25px', width='50%'),…"
      ]
     },
     "metadata": {},
     "output_type": "display_data"
    },
    {
     "name": "stdout",
     "output_type": "stream",
     "text": [
      "+------------------------------------------------------------------------+\n",
      "|count(CASE WHEN isnan(artist_terms_weight) THEN artist_terms_weight END)|\n",
      "+------------------------------------------------------------------------+\n",
      "|                                                                       0|\n",
      "+------------------------------------------------------------------------+"
     ]
    }
   ],
   "source": [
    "df.select(count(when(isnan(df.artist_terms_weight), df.artist_terms_weight))).show()"
   ]
  },
  {
   "cell_type": "code",
   "execution_count": 181,
   "metadata": {},
   "outputs": [
    {
     "data": {
      "application/vnd.jupyter.widget-view+json": {
       "model_id": "",
       "version_major": 2,
       "version_minor": 0
      },
      "text/plain": [
       "FloatProgress(value=0.0, bar_style='info', description='Progress:', layout=Layout(height='25px', width='50%'),…"
      ]
     },
     "metadata": {},
     "output_type": "display_data"
    },
    {
     "name": "stdout",
     "output_type": "stream",
     "text": [
      "+------------------------------------------+\n",
      "|count(CASE WHEN isnan(year) THEN year END)|\n",
      "+------------------------------------------+\n",
      "|                                         0|\n",
      "+------------------------------------------+"
     ]
    }
   ],
   "source": [
    "df.select(count(when(isnan(df.year), df.year))).show()"
   ]
  },
  {
   "cell_type": "markdown",
   "metadata": {
    "application/vnd.databricks.v1+cell": {
     "inputWidgets": {},
     "nuid": "2ee11481-e983-42b7-a35c-67f2cd0bfd58",
     "showTitle": false,
     "title": ""
    },
    "id": "NUFuO6SrbGOq"
   },
   "source": [
    "2.4c\n",
    "We can see the two features that contain a lot of nan are artist_longitude and artist_latitude"
   ]
  },
  {
   "cell_type": "markdown",
   "metadata": {
    "application/vnd.databricks.v1+cell": {
     "inputWidgets": {},
     "nuid": "b64e1319-1b0f-4d05-90a2-332968de3545",
     "showTitle": false,
     "title": ""
    },
    "id": "KMIBhrFjbGOq"
   },
   "source": [
    "We should see two features that contain (a lot of) `nan` in them. ✰2.4(c) Which two are they? \n",
    "\n",
    "For simplicity, we are dropping all records with `nan` in these two features. Note that this drops a significant proportion of our dataset. Since we have a lot of data to fit some rather simple models, this might be ok. \n",
    "\n",
    "However, do note that this is not usually desirable in the real-word because we always want to retain as much data as possible, especially when training larger, more complex models. ✰2.4(d) In your writeup, explain what possible techniques could you employ to deal with this situation. Discuss the pros and cons of your proposed solution."
   ]
  },
  {
   "cell_type": "code",
   "execution_count": 187,
   "metadata": {},
   "outputs": [
    {
     "data": {
      "application/vnd.jupyter.widget-view+json": {
       "model_id": "",
       "version_major": 2,
       "version_minor": 0
      },
      "text/plain": [
       "FloatProgress(value=0.0, bar_style='info', description='Progress:', layout=Layout(height='25px', width='50%'),…"
      ]
     },
     "metadata": {},
     "output_type": "display_data"
    },
    {
     "name": "stdout",
     "output_type": "stream",
     "text": [
      "127045"
     ]
    }
   ],
   "source": [
    "df.na.drop(subset = ['artist_longitude', 'artist_latitude']).count()"
   ]
  },
  {
   "cell_type": "code",
   "execution_count": 11,
   "metadata": {
    "application/vnd.databricks.v1+cell": {
     "inputWidgets": {},
     "nuid": "ecc73bc3-a9de-4af6-be6d-3d629b4edc25",
     "showTitle": false,
     "title": ""
    },
    "id": "FfTUaV9MbGOq"
   },
   "outputs": [
    {
     "data": {
      "application/vnd.jupyter.widget-view+json": {
       "model_id": "",
       "version_major": 2,
       "version_minor": 0
      },
      "text/plain": [
       "FloatProgress(value=0.0, bar_style='info', description='Progress:', layout=Layout(height='25px', width='50%'),…"
      ]
     },
     "metadata": {},
     "output_type": "display_data"
    }
   ],
   "source": [
    "# YOUR CODE HERE\n",
    "# drop nan in artist_longitude and artist_latitude\n",
    "df = df.na.drop(subset = ['artist_longitude', 'artist_latitude'])\n",
    "# YOUR CODE HERE"
   ]
  },
  {
   "cell_type": "markdown",
   "metadata": {
    "application/vnd.databricks.v1+cell": {
     "inputWidgets": {},
     "nuid": "5337b93b-2e7b-42a3-95af-acb04aa860f0",
     "showTitle": false,
     "title": ""
    },
    "id": "C5YQ936PbGOq"
   },
   "source": [
    "✰2.4(e) Finally in your writeup, report the percentage of records that survived our very aggressive data cleaning."
   ]
  },
  {
   "cell_type": "code",
   "execution_count": 12,
   "metadata": {
    "application/vnd.databricks.v1+cell": {
     "inputWidgets": {},
     "nuid": "5d738d09-aba9-4e13-a9b5-365ed92131a4",
     "showTitle": false,
     "title": ""
    },
    "id": "Hno4Hve4bGOq"
   },
   "outputs": [
    {
     "data": {
      "application/vnd.jupyter.widget-view+json": {
       "model_id": "",
       "version_major": 2,
       "version_minor": 0
      },
      "text/plain": [
       "FloatProgress(value=0.0, bar_style='info', description='Progress:', layout=Layout(height='25px', width='50%'),…"
      ]
     },
     "metadata": {},
     "output_type": "display_data"
    },
    {
     "name": "stdout",
     "output_type": "stream",
     "text": [
      "the percentage of records that survived our very aggressive data cleaning is:  0.21830350622460112"
     ]
    }
   ],
   "source": [
    "# counting code\n",
    "# 581965 is the sample size of the original large dataset\n",
    "final_sample = df.na.drop(subset = ['artist_longitude', 'artist_latitude']).count()\n",
    "percentage = final_sample/581965\n",
    "print(\"the percentage of records that survived our very aggressive data cleaning is: \", percentage)"
   ]
  },
  {
   "cell_type": "markdown",
   "metadata": {
    "application/vnd.databricks.v1+cell": {
     "inputWidgets": {},
     "nuid": "eb77bbcf-691d-46dd-b405-5dd4ba0b1eb8",
     "showTitle": false,
     "title": ""
    },
    "id": "I3p1DrvmbGOq"
   },
   "source": [
    "### 4. Baseline\n",
    "\n",
    "Now we have the data (almost) ready to do some preliminary modeling! \n",
    "\n",
    "We will be treating this problem as a classification problem, i.e. given some features, predict whether a song will be popular. We define a song to be popular if its `song_hotttnesss` value is above average. \n",
    "\n",
    "✰2.5(a) Explain in your writeup why treating this as a classification problem (instead of a regression problem) might be a sensible choice. \n",
    "\n",
    "Then, assign labels to the dataset with the above definition of \"popularity\"."
   ]
  },
  {
   "cell_type": "markdown",
   "metadata": {},
   "source": [
    "Because the popularity is a relative value, so if we treat as regression probelm, it may be hard to define what popularity should be. So we can set the average as a threshold, and whose song_hottness above the average can be define as more popular. So we classify as popular, otherwise, not popular."
   ]
  },
  {
   "cell_type": "code",
   "execution_count": 14,
   "metadata": {},
   "outputs": [
    {
     "data": {
      "application/vnd.jupyter.widget-view+json": {
       "model_id": "",
       "version_major": 2,
       "version_minor": 0
      },
      "text/plain": [
       "FloatProgress(value=0.0, bar_style='info', description='Progress:', layout=Layout(height='25px', width='50%'),…"
      ]
     },
     "metadata": {},
     "output_type": "display_data"
    },
    {
     "name": "stdout",
     "output_type": "stream",
     "text": [
      "+--------------------+\n",
      "|avg(song_hotttnesss)|\n",
      "+--------------------+\n",
      "|  0.4271275159918452|\n",
      "+--------------------+"
     ]
    }
   ],
   "source": [
    "from pyspark.sql.functions import col, expr, when\n",
    "df.agg({'song_hotttnesss': 'avg'}).show()\n",
    "# avergae song_hottness is 0.4271275159918452"
   ]
  },
  {
   "cell_type": "code",
   "execution_count": 15,
   "metadata": {},
   "outputs": [
    {
     "data": {
      "application/vnd.jupyter.widget-view+json": {
       "model_id": "",
       "version_major": 2,
       "version_minor": 0
      },
      "text/plain": [
       "FloatProgress(value=0.0, bar_style='info', description='Progress:', layout=Layout(height='25px', width='50%'),…"
      ]
     },
     "metadata": {},
     "output_type": "display_data"
    },
    {
     "name": "stdout",
     "output_type": "stream",
     "text": [
      "['song_hotttnesss', 'artist_familiarity', 'artist_hotttnesss', 'artist_id', 'artist_latitude', 'artist_location', 'artist_longitude', 'artist_name', 'title', 'duration', 'end_of_fade_in', 'key', 'key_confidence', 'loudness', 'mode', 'mode_confidence', 'start_of_fade_out', 'tempo', 'time_signature', 'time_signature_confidence', 'artist_terms', 'artist_terms_freq', 'artist_terms_weight', 'year', 'popularity']"
     ]
    }
   ],
   "source": [
    "df.withColumn('popularity', when(df.song_hotttnesss > 0.4271275, 1).otherwise(0)).columns"
   ]
  },
  {
   "cell_type": "code",
   "execution_count": 16,
   "metadata": {
    "application/vnd.databricks.v1+cell": {
     "inputWidgets": {},
     "nuid": "2960145a-91b9-4f1f-aa69-fd49829bda64",
     "showTitle": false,
     "title": ""
    },
    "id": "yCGy3UtUbGOr"
   },
   "outputs": [
    {
     "data": {
      "application/vnd.jupyter.widget-view+json": {
       "model_id": "",
       "version_major": 2,
       "version_minor": 0
      },
      "text/plain": [
       "FloatProgress(value=0.0, bar_style='info', description='Progress:', layout=Layout(height='25px', width='50%'),…"
      ]
     },
     "metadata": {},
     "output_type": "display_data"
    }
   ],
   "source": [
    "from pyspark.sql.functions import col, expr, when\n",
    "\n",
    "\n",
    "# YOUR CODE HERE\n",
    "df = df.withColumn('popularity', when(df.song_hotttnesss > 0.4271275, 1).otherwise(0))\n",
    "# YOUR CODE HERE"
   ]
  },
  {
   "cell_type": "code",
   "execution_count": 17,
   "metadata": {},
   "outputs": [
    {
     "data": {
      "application/vnd.jupyter.widget-view+json": {
       "model_id": "",
       "version_major": 2,
       "version_minor": 0
      },
      "text/plain": [
       "FloatProgress(value=0.0, bar_style='info', description='Progress:', layout=Layout(height='25px', width='50%'),…"
      ]
     },
     "metadata": {},
     "output_type": "display_data"
    },
    {
     "name": "stdout",
     "output_type": "stream",
     "text": [
      "['song_hotttnesss', 'artist_familiarity', 'artist_hotttnesss', 'artist_id', 'artist_latitude', 'artist_location', 'artist_longitude', 'artist_name', 'title', 'duration', 'end_of_fade_in', 'key', 'key_confidence', 'loudness', 'mode', 'mode_confidence', 'start_of_fade_out', 'tempo', 'time_signature', 'time_signature_confidence', 'artist_terms', 'artist_terms_freq', 'artist_terms_weight', 'year', 'popularity']"
     ]
    }
   ],
   "source": [
    "df.columns"
   ]
  },
  {
   "cell_type": "code",
   "execution_count": 18,
   "metadata": {},
   "outputs": [
    {
     "data": {
      "application/vnd.jupyter.widget-view+json": {
       "model_id": "",
       "version_major": 2,
       "version_minor": 0
      },
      "text/plain": [
       "FloatProgress(value=0.0, bar_style='info', description='Progress:', layout=Layout(height='25px', width='50%'),…"
      ]
     },
     "metadata": {},
     "output_type": "display_data"
    },
    {
     "name": "stdout",
     "output_type": "stream",
     "text": [
      "127045"
     ]
    }
   ],
   "source": [
    "df.count()"
   ]
  },
  {
   "cell_type": "markdown",
   "metadata": {
    "application/vnd.databricks.v1+cell": {
     "inputWidgets": {},
     "nuid": "5cc243f5-904c-46a9-a45f-95cf47086ae4",
     "showTitle": false,
     "title": ""
    },
    "id": "7P7RUcVGbGOr"
   },
   "source": [
    "Now let's take a look at how balanced the two classes are. ✰2.5(b) Report what percentage of songs are assigned the \"popular\" label."
   ]
  },
  {
   "cell_type": "code",
   "execution_count": 242,
   "metadata": {
    "application/vnd.databricks.v1+cell": {
     "inputWidgets": {},
     "nuid": "fffe7c1f-ab19-414a-b073-a07e5de6d7de",
     "showTitle": false,
     "title": ""
    },
    "id": "lijIsObbbGOr"
   },
   "outputs": [
    {
     "data": {
      "application/vnd.jupyter.widget-view+json": {
       "model_id": "",
       "version_major": 2,
       "version_minor": 0
      },
      "text/plain": [
       "FloatProgress(value=0.0, bar_style='info', description='Progress:', layout=Layout(height='25px', width='50%'),…"
      ]
     },
     "metadata": {},
     "output_type": "display_data"
    },
    {
     "name": "stdout",
     "output_type": "stream",
     "text": [
      "+-----------------------------------------------------+\n",
      "|count(CASE WHEN (popularity = 1) THEN popularity END)|\n",
      "+-----------------------------------------------------+\n",
      "|                                                71137|\n",
      "+-----------------------------------------------------+"
     ]
    }
   ],
   "source": [
    "# YOUR CODE HERE\n",
    "\n",
    "df.select(count(when(df.popularity == 1, df.popularity))).show()\n",
    "# YOUR CODE HERE"
   ]
  },
  {
   "cell_type": "code",
   "execution_count": 243,
   "metadata": {},
   "outputs": [
    {
     "data": {
      "application/vnd.jupyter.widget-view+json": {
       "model_id": "",
       "version_major": 2,
       "version_minor": 0
      },
      "text/plain": [
       "FloatProgress(value=0.0, bar_style='info', description='Progress:', layout=Layout(height='25px', width='50%'),…"
      ]
     },
     "metadata": {},
     "output_type": "display_data"
    },
    {
     "name": "stdout",
     "output_type": "stream",
     "text": [
      "+-----------------------------------------------------+\n",
      "|count(CASE WHEN (popularity = 0) THEN popularity END)|\n",
      "+-----------------------------------------------------+\n",
      "|                                                55908|\n",
      "+-----------------------------------------------------+"
     ]
    }
   ],
   "source": [
    "df.select(count(when(df.popularity == 0, df.popularity))).show()"
   ]
  },
  {
   "cell_type": "code",
   "execution_count": 244,
   "metadata": {},
   "outputs": [
    {
     "data": {
      "application/vnd.jupyter.widget-view+json": {
       "model_id": "",
       "version_major": 2,
       "version_minor": 0
      },
      "text/plain": [
       "FloatProgress(value=0.0, bar_style='info', description='Progress:', layout=Layout(height='25px', width='50%'),…"
      ]
     },
     "metadata": {},
     "output_type": "display_data"
    },
    {
     "name": "stdout",
     "output_type": "stream",
     "text": [
      "percentage of songs are assigned the 'popular' label is:  0.5599354559408084"
     ]
    }
   ],
   "source": [
    "# popularity percentage\n",
    "popular_percentage = 71137/127045\n",
    "print(\"percentage of songs are assigned the 'popular' label is: \", popular_percentage)"
   ]
  },
  {
   "cell_type": "markdown",
   "metadata": {
    "application/vnd.databricks.v1+cell": {
     "inputWidgets": {},
     "nuid": "a49f1fe3-9ecc-4f0a-8721-1da6bddf901d",
     "showTitle": false,
     "title": ""
    },
    "id": "CAFx-f3NbGOr"
   },
   "source": [
    "As how we've been dealing with the `year` feature in earlier assignments, we will shift the feature so that it starts from 0.\n",
    "\n",
    "✰2.5(c) Explain why we want to do this."
   ]
  },
  {
   "cell_type": "markdown",
   "metadata": {},
   "source": [
    "We shift the year so that it starts from 0 in order to make the visualization easier and let the bias to be zero. This will make the data more centralized around zero, and make our computation be more intuitive. "
   ]
  },
  {
   "cell_type": "code",
   "execution_count": 245,
   "metadata": {},
   "outputs": [
    {
     "data": {
      "application/vnd.jupyter.widget-view+json": {
       "model_id": "",
       "version_major": 2,
       "version_minor": 0
      },
      "text/plain": [
       "FloatProgress(value=0.0, bar_style='info', description='Progress:', layout=Layout(height='25px', width='50%'),…"
      ]
     },
     "metadata": {},
     "output_type": "display_data"
    },
    {
     "name": "stdout",
     "output_type": "stream",
     "text": [
      "+---------+\n",
      "|min(year)|\n",
      "+---------+\n",
      "|   1924.0|\n",
      "+---------+"
     ]
    }
   ],
   "source": [
    "df.agg({'year': 'min'}).show()"
   ]
  },
  {
   "cell_type": "code",
   "execution_count": 19,
   "metadata": {
    "application/vnd.databricks.v1+cell": {
     "inputWidgets": {},
     "nuid": "464fd15a-eb38-4767-9961-7367f398a2cf",
     "showTitle": false,
     "title": ""
    },
    "id": "vWfY2SR_bGOr"
   },
   "outputs": [
    {
     "data": {
      "application/vnd.jupyter.widget-view+json": {
       "model_id": "",
       "version_major": 2,
       "version_minor": 0
      },
      "text/plain": [
       "FloatProgress(value=0.0, bar_style='info', description='Progress:', layout=Layout(height='25px', width='50%'),…"
      ]
     },
     "metadata": {},
     "output_type": "display_data"
    }
   ],
   "source": [
    "# shift years to start from zero\n",
    "# the minmum year is 1924, so we delete 1924 to all years\n",
    "# YOUR CODE HERE\n",
    "\n",
    "df = df.withColumn(\"year\",col(\"year\")-1924.0)\n",
    "\n",
    "\n",
    "# YOUR CODE HERE"
   ]
  },
  {
   "cell_type": "markdown",
   "metadata": {
    "application/vnd.databricks.v1+cell": {
     "inputWidgets": {},
     "nuid": "cba48875-ef80-4ef8-9b9d-f65ff3463ebc",
     "showTitle": false,
     "title": ""
    },
    "id": "iQypQ7mobGOr"
   },
   "source": [
    "Finally, let's concatenate all features (using VectorAssembler) into a feature vector and scale it. \n",
    "\n",
    "✰2.5(d) Explain what scaling means and why we want to perform scaling before the learning step.\n",
    "\n",
    "Note: we will only be using the numeric features for now. Excluding `song_hotttnesss` and the two features we dropped in the data cleaning step, there should be 19-3=16 of them."
   ]
  },
  {
   "cell_type": "markdown",
   "metadata": {},
   "source": [
    "2.5d\n",
    "The main idea is to normalize/standardize i.e. μ = 0 and σ = 1 features/variables/columns, individually, before applying to any machine learning model. Thus, StandardScaler() will normalize the features i.e. each column of input features, so that each column/feature/variable will have μ = 0 and σ = 1. The normalization formula is given in lecture. We are using standard scaler to scale the features because variables that are measured at different scales do not contribute equally to the model fitting & model learned function and might end up creatin"
   ]
  },
  {
   "cell_type": "code",
   "execution_count": 27,
   "metadata": {},
   "outputs": [
    {
     "data": {
      "application/vnd.jupyter.widget-view+json": {
       "model_id": "",
       "version_major": 2,
       "version_minor": 0
      },
      "text/plain": [
       "FloatProgress(value=0.0, bar_style='info', description='Progress:', layout=Layout(height='25px', width='50%'),…"
      ]
     },
     "metadata": {},
     "output_type": "display_data"
    },
    {
     "name": "stdout",
     "output_type": "stream",
     "text": [
      "['song_hotttnesss', 'artist_familiarity', 'artist_hotttnesss', 'artist_id', 'artist_latitude', 'artist_location', 'artist_longitude', 'artist_name', 'title', 'duration', 'end_of_fade_in', 'key', 'key_confidence', 'loudness', 'mode', 'mode_confidence', 'start_of_fade_out', 'tempo', 'time_signature', 'time_signature_confidence', 'artist_terms', 'artist_terms_freq', 'artist_terms_weight', 'year', 'popularity']"
     ]
    }
   ],
   "source": [
    "df.columns"
   ]
  },
  {
   "cell_type": "code",
   "execution_count": 20,
   "metadata": {
    "application/vnd.databricks.v1+cell": {
     "inputWidgets": {},
     "nuid": "5edbc59d-3f87-4436-9f5f-14928035d6ae",
     "showTitle": false,
     "title": ""
    },
    "id": "VOs9nbj3bGOr"
   },
   "outputs": [
    {
     "data": {
      "application/vnd.jupyter.widget-view+json": {
       "model_id": "",
       "version_major": 2,
       "version_minor": 0
      },
      "text/plain": [
       "FloatProgress(value=0.0, bar_style='info', description='Progress:', layout=Layout(height='25px', width='50%'),…"
      ]
     },
     "metadata": {},
     "output_type": "display_data"
    },
    {
     "name": "stdout",
     "output_type": "stream",
     "text": [
      "16\n",
      "+-------------------+------------------+-------------------+------------------+---------------+--------------------+----------------+--------------------+--------------------+---------+--------------+---+--------------+--------+----+---------------+-----------------+-------+--------------+-------------------------+--------------------+--------------------+--------------------+----+----------+--------------------+\n",
      "|    song_hotttnesss|artist_familiarity|  artist_hotttnesss|         artist_id|artist_latitude|     artist_location|artist_longitude|         artist_name|               title| duration|end_of_fade_in|key|key_confidence|loudness|mode|mode_confidence|start_of_fade_out|  tempo|time_signature|time_signature_confidence|        artist_terms|   artist_terms_freq| artist_terms_weight|year|popularity|            features|\n",
      "+-------------------+------------------+-------------------+------------------+---------------+--------------------+----------------+--------------------+--------------------+---------+--------------+---+--------------+--------+----+---------------+-----------------+-------+--------------+-------------------------+--------------------+--------------------+--------------------+----+----------+--------------------+\n",
      "| 0.6347590376502138|0.6848662614713856| 0.3703747804252691|ARLL29O1187B996028|        40.7038|          Queens, NY|       -73.83168|         Sworn Enemy|      On The Outside|187.42812|         0.218|2.0|         0.974|  -4.694| 1.0|          0.643|          184.134| 93.378|           4.0|                    0.298|['hardcore punk',...|[0.99879572358827...|[1.0, 0.956594670...|85.0|         1|[0.68486626147138...|\n",
      "|                0.0|0.4810953219796546|  0.337443414857431|ARG9ASU1187B9B3E29|       47.60356|         Seattle, WA|      -122.32944| Young Fresh Fellows|If You Believe In...|235.12771|         0.293|4.0|         0.787|  -7.707| 0.0|          0.869|          227.213|125.355|           4.0|                    0.065|['garage rock', '...|[0.96438144054603...|[1.0, 0.978411494...|85.0|         0|[0.48109532197965...|\n",
      "| 0.4890382091726831|0.7611392059735534|0.46229329215620313|ARCA4IN1187B9B338B|       50.51444| Liberchies, Belgium|         4.42508|    Django Reinhardt|      Stormy Weather|250.72281|           0.0|8.0|         0.608| -22.078| 1.0|           0.58|          247.705| 40.414|           1.0|                      0.0|['gypsy jazz', 'j...|[0.97258177482148...|[1.0, 0.890443466...|63.0|         1|[0.76113920597355...|\n",
      "|0.37616992484089345|  0.58980360563622|0.39892002748899763|ARNYTHG1187B9B760F|       40.85715|New York, NY [The...|       -73.85678|        The Chantels|     Goodbye To Love|152.73751|         0.212|3.0|         0.381| -11.202| 1.0|          0.576|          145.833| 92.585|           3.0|                    0.798|['doo-wop', 'all-...|[0.96823750114527...|[1.0, 0.944468393...|36.0|         0|[0.58980360563622...|\n",
      "| 0.6040940827164238| 0.736677413340632| 0.5261825563468479|ARNDB1X1187B990AA0|       34.05349|          Venice, CA|      -118.24532| Suicidal Tendencies|  Send Me Your Money|202.16118|         0.065|9.0|         0.193| -11.012| 1.0|          0.191|          198.356|140.688|           4.0|                      0.0|['hardcore punk',...|[1.0, 0.999850039...|[1.0, 0.970934100...|66.0|         1|[0.73667741334063...|\n",
      "| 0.3626026747646407|0.4923218705874481| 0.3486099592932765|AR8K6F31187B99C2BC|       46.44231|     Twin Cities, MN|       -93.36586|             Go Fish|Please_ Please Li...|200.14975|         0.433|7.0|         0.047|  -5.976| 1.0|          0.223|          197.137|114.971|           4.0|                    0.075|['male vocalist',...|[0.98695514022854...|[1.0, 0.955312277...|79.0|         0|[0.49232187058744...|\n",
      "| 0.3725300393660796|0.6417801156537767| 0.4019498560274774|ARQ3TK91187FB3C060|       51.50632|     London, England|        -0.12714|          Lucky Soul|Lonely This Chris...|205.42649|           0.2|2.0|         0.657|  -5.582| 1.0|          0.616|          200.301|166.783|           3.0|                      1.0|['bass music', 'h...|[1.0, 1.0, 0.8222...|[1.0, 0.872607545...|83.0|         0|[0.64178011565377...|\n",
      "|0.21508031850922793|0.6718936738175618|0.40807785961774273|ARJT7OG1187FB3A07F|       30.33138|    Jacksonville, FL|        -81.6558|       Molly Hatchet|    Heartbreak Radio|207.28118|           0.0|5.0|         0.665| -11.908| 0.0|          0.541|          204.179| 138.83|           4.0|                      0.0|['southern rock',...|[1.0, 0.862171129...|[1.0, 0.896178433...|60.0|         0|[0.67189367381756...|\n",
      "| 0.4719711717935417|0.7011808736075507| 0.4825738736586879|AR7TTS41187B9B42D3|       34.36401|          Oxford, MS|       -89.51877|       R.L. Burnside|     Goin' Away Baby|197.48526|         0.245|2.0|         0.198|  -4.909| 0.0|          0.369|          188.761|104.072|           4.0|                      1.0|['delta blues', '...|[0.98035047140021...|[1.0, 0.970286200...|77.0|         1|[0.70118087360755...|\n",
      "| 0.3347065490692206|0.5344643522287597|0.36868937254805195|AR243ZT1187B9A98D2|       32.29869|         Jackson, MS|       -90.18049|          Otis Spann|I'd Rather Be The...|161.61914|         0.212|4.0|         0.521| -10.299| 0.0|           0.42|          156.299|128.772|           4.0|                      1.0|['piano blues', '...|[1.0, 0.986478280...|[1.0, 0.989370627...|85.0|         0|[0.53446435222875...|\n",
      "| 0.2563659883289303| 0.571926730797233|  0.368446211679491|ARM7UY51187B993E17|       40.71455|        New York, NY|       -74.00712|      Eddie Palmieri|Don't Stop The Train|401.84118|         0.982|0.0|         0.668| -11.889| 1.0|          0.577|          398.965| 81.409|           4.0|                    0.442|['salsa', 'latin ...|[1.0, 0.984731713...|[1.0, 0.987986658...|71.0|         0|[0.57192673079723...|\n",
      "|0.27371317195435296|0.7175282007429807| 0.5181627803580122|ARDI3SN1187B996E7B|       39.55792|            Portugal|        -7.84481|                 GNR|            Lovenita|232.25424|         0.432|5.0|         0.482| -12.559| 1.0|          0.524|          220.868|160.349|           4.0|                      1.0|['british pop', '...|[0.84431149929385...|[1.0, 0.991354385...|70.0|         0|[0.71752820074298...|\n",
      "| 0.6993880904885734|0.5983145139817652|0.45370424460544134|ARX59131187FB48353|       31.57182|            Waco, TX|        -97.1495|        Roy Hargrove|     I'm Not So Sure|348.94322|         2.374|6.0|         0.298| -11.171| 1.0|          0.562|          345.972|171.063|           1.0|                      0.0|['hard bop', 'jaz...|[1.0, 0.747061146...|[1.0, 0.801731329...|84.0|         1|[0.59831451398176...|\n",
      "|0.26586104921065007|0.5045657618752406|0.34948848236169633|ARZEA421187FB5B5BA|       34.05349|     Los Angeles, CA|      -118.24532|        Lee Michaels|          Heighty Hi|364.35546|         0.351|5.0|         0.051| -13.905| 1.0|          0.479|          346.569|174.787|           4.0|                      0.0|['blue-eyed soul'...|[1.0, 0.951217149...|[1.0, 0.840775835...|45.0|         0|[0.50456576187524...|\n",
      "| 0.6383503909484499| 0.669447158240317| 0.4492009433224182|ARKOP291187FB41271|       45.19398|    Grenoble, France|           5.732|            Calogero|       Danser Encore|188.81261|           0.0|7.0|         0.547| -11.234| 0.0|          0.711|          172.629|119.977|           3.0|                      1.0|['chanson', 'pop ...|[0.91733275181219...|[1.0, 0.965365804...|83.0|         1|[0.66944715824031...|\n",
      "| 0.3864772912554594|0.6112326661298194|0.38583469850431884|AROFGAP1187B98CD72|       55.67631| Copenhagen, Denmark|        12.56935|     Tim Christensen|            Stranger|270.78485|         0.369|2.0|         0.077| -10.804| 1.0|          0.353|          258.514|100.112|           4.0|                    0.697|['soft rock', 'ar...|[0.99350566424451...|[1.0, 0.836003537...|76.0|         0|[0.61123266612981...|\n",
      "| 0.8062588299632518|0.7851261415198875| 0.5121540979385281|AR97LLY1187FB536A0|      -37.81753|             Florida|       144.96715|                 JET|Timothy (Album Ve...|270.07955|           0.0|2.0|         0.771|  -7.846| 1.0|          0.828|          252.221|  111.4|           4.0|                      1.0|['rock', 'reggae'...|[1.0, 0.833631414...|[1.0, 0.955020630...|79.0|         1|[0.78512614151988...|\n",
      "| 0.4471357962861778|0.7199354367204581|0.48695047399477875|ARLIQ281187FB3DC05|       51.73569|Chelmsford, Essex...|         0.47791|        Squarepusher| Schizm Track #2 Mix|225.41016|         2.531|6.0|         0.549| -10.691| 1.0|          0.455|          221.559|131.806|           4.0|                    0.487|['future jazz', '...|[0.96332593457993...|[1.0, 0.967795963...|75.0|         1|[0.71993543672045...|\n",
      "|                0.0|0.7015086736569764| 0.4237779855289749|ARYGKAY1187FB4A56B|        39.7666|      St. Joseph, MO|       -94.85607|Coleman Hawkins /...|        Bean's Blues|713.97832|         0.235|5.0|         0.058| -21.658| 0.0|          0.325|          697.539|  99.59|           3.0|                      1.0|['jump blues', 's...|[0.91371488760349...|[1.0, 1.0, 0.9808...|82.0|         0|[0.70150867365697...|\n",
      "| 0.6833591924556595| 0.682861221497907| 0.5003557503816916|ARA3YV11187B9A916A|       32.77815|          Dallas, TX|        -96.7954|     Secret Machines|You Are Chains (A...|349.25669|           0.0|6.0|         0.054|  -9.894| 0.0|          0.244|           317.51| 91.102|           1.0|                    0.692|['space rock', 'a...|[0.94264925979666...|[1.0, 0.916492409...|80.0|         1|[0.68286122149790...|\n",
      "+-------------------+------------------+-------------------+------------------+---------------+--------------------+----------------+--------------------+--------------------+---------+--------------+---+--------------+--------+----+---------------+-----------------+-------+--------------+-------------------------+--------------------+--------------------+--------------------+----+----------+--------------------+\n",
      "only showing top 20 rows"
     ]
    }
   ],
   "source": [
    "# assembling vector\n",
    "features = ['artist_familiarity', 'artist_hotttnesss', 'artist_latitude',  'artist_longitude', 'duration', 'end_of_fade_in', 'key', 'key_confidence', 'loudness', 'mode', 'mode_confidence', 'start_of_fade_out', 'tempo', 'time_signature', 'time_signature_confidence',  'year']\n",
    "print(len(features))\n",
    "\n",
    "from pyspark.ml.feature import VectorAssembler\n",
    "asm = VectorAssembler(inputCols = features,\n",
    "                      outputCol = \"features\")\n",
    "\n",
    "df_features = asm.transform(df)\n",
    "\n",
    "df_features.show()\n",
    "\n",
    "\n",
    "# YOUR CODE HERE\n",
    "\n",
    "# YOUR CODE HERE"
   ]
  },
  {
   "cell_type": "code",
   "execution_count": 21,
   "metadata": {
    "application/vnd.databricks.v1+cell": {
     "inputWidgets": {},
     "nuid": "4f2dc7fa-29fb-46fd-b4db-c6ea6c017abb",
     "showTitle": false,
     "title": ""
    },
    "id": "J04hWIfybGOs"
   },
   "outputs": [
    {
     "data": {
      "application/vnd.jupyter.widget-view+json": {
       "model_id": "",
       "version_major": 2,
       "version_minor": 0
      },
      "text/plain": [
       "FloatProgress(value=0.0, bar_style='info', description='Progress:', layout=Layout(height='25px', width='50%'),…"
      ]
     },
     "metadata": {},
     "output_type": "display_data"
    },
    {
     "name": "stdout",
     "output_type": "stream",
     "text": [
      "+-------------------+------------------+-------------------+------------------+---------------+--------------------+----------------+--------------------+--------------------+---------+--------------+---+--------------+--------+----+---------------+-----------------+-------+--------------+-------------------------+--------------------+--------------------+--------------------+----+----------+--------------------+--------------------+\n",
      "|    song_hotttnesss|artist_familiarity|  artist_hotttnesss|         artist_id|artist_latitude|     artist_location|artist_longitude|         artist_name|               title| duration|end_of_fade_in|key|key_confidence|loudness|mode|mode_confidence|start_of_fade_out|  tempo|time_signature|time_signature_confidence|        artist_terms|   artist_terms_freq| artist_terms_weight|year|popularity|            features|      Scaledfeatures|\n",
      "+-------------------+------------------+-------------------+------------------+---------------+--------------------+----------------+--------------------+--------------------+---------+--------------+---+--------------+--------+----+---------------+-----------------+-------+--------------+-------------------------+--------------------+--------------------+--------------------+----+----------+--------------------+--------------------+\n",
      "| 0.6347590376502138|0.6848662614713856| 0.3703747804252691|ARLL29O1187B996028|        40.7038|          Queens, NY|       -73.83168|         Sworn Enemy|      On The Outside|187.42812|         0.218|2.0|         0.974|  -4.694| 1.0|          0.643|          184.134| 93.378|           4.0|                    0.298|['hardcore punk',...|[0.99879572358827...|[1.0, 0.956594670...|85.0|         1|[0.68486626147138...|[6.25208335912879...|\n",
      "|                0.0|0.4810953219796546|  0.337443414857431|ARG9ASU1187B9B3E29|       47.60356|         Seattle, WA|      -122.32944| Young Fresh Fellows|If You Believe In...|235.12771|         0.293|4.0|         0.787|  -7.707| 0.0|          0.869|          227.213|125.355|           4.0|                    0.065|['garage rock', '...|[0.96438144054603...|[1.0, 0.978411494...|85.0|         0|[0.48109532197965...|[4.39187652526722...|\n",
      "| 0.4890382091726831|0.7611392059735534|0.46229329215620313|ARCA4IN1187B9B338B|       50.51444| Liberchies, Belgium|         4.42508|    Django Reinhardt|      Stormy Weather|250.72281|           0.0|8.0|         0.608| -22.078| 1.0|           0.58|          247.705| 40.414|           1.0|                      0.0|['gypsy jazz', 'j...|[0.97258177482148...|[1.0, 0.890443466...|63.0|         1|[0.76113920597355...|[6.94837230472416...|\n",
      "|0.37616992484089345|  0.58980360563622|0.39892002748899763|ARNYTHG1187B9B760F|       40.85715|New York, NY [The...|       -73.85678|        The Chantels|     Goodbye To Love|152.73751|         0.212|3.0|         0.381| -11.202| 1.0|          0.576|          145.833| 92.585|           3.0|                    0.798|['doo-wop', 'all-...|[0.96823750114527...|[1.0, 0.944468393...|36.0|         0|[0.58980360563622...|[5.38426480526291...|\n",
      "| 0.6040940827164238| 0.736677413340632| 0.5261825563468479|ARNDB1X1187B990AA0|       34.05349|          Venice, CA|      -118.24532| Suicidal Tendencies|  Send Me Your Money|202.16118|         0.065|9.0|         0.193| -11.012| 1.0|          0.191|          198.356|140.688|           4.0|                      0.0|['hardcore punk',...|[1.0, 0.999850039...|[1.0, 0.970934100...|66.0|         1|[0.73667741334063...|[6.72506276933228...|\n",
      "| 0.3626026747646407|0.4923218705874481| 0.3486099592932765|AR8K6F31187B99C2BC|       46.44231|     Twin Cities, MN|       -93.36586|             Go Fish|Please_ Please Li...|200.14975|         0.433|7.0|         0.047|  -5.976| 1.0|          0.223|          197.137|114.971|           4.0|                    0.075|['male vocalist',...|[0.98695514022854...|[1.0, 0.955312277...|79.0|         0|[0.49232187058744...|[4.49436269180788...|\n",
      "| 0.3725300393660796|0.6417801156537767| 0.4019498560274774|ARQ3TK91187FB3C060|       51.50632|     London, England|        -0.12714|          Lucky Soul|Lonely This Chris...|205.42649|           0.2|2.0|         0.657|  -5.582| 1.0|          0.616|          200.301|166.783|           3.0|                      1.0|['bass music', 'h...|[1.0, 1.0, 0.8222...|[1.0, 0.872607545...|83.0|         0|[0.64178011565377...|[5.85875375533646...|\n",
      "|0.21508031850922793|0.6718936738175618|0.40807785961774273|ARJT7OG1187FB3A07F|       30.33138|    Jacksonville, FL|        -81.6558|       Molly Hatchet|    Heartbreak Radio|207.28118|           0.0|5.0|         0.665| -11.908| 0.0|          0.541|          204.179| 138.83|           4.0|                      0.0|['southern rock',...|[1.0, 0.862171129...|[1.0, 0.896178433...|60.0|         0|[0.67189367381756...|[6.13365775699580...|\n",
      "| 0.4719711717935417|0.7011808736075507| 0.4825738736586879|AR7TTS41187B9B42D3|       34.36401|          Oxford, MS|       -89.51877|       R.L. Burnside|     Goin' Away Baby|197.48526|         0.245|2.0|         0.198|  -4.909| 0.0|          0.369|          188.761|104.072|           4.0|                      1.0|['delta blues', '...|[0.98035047140021...|[1.0, 0.970286200...|77.0|         1|[0.70118087360755...|[6.40101800635176...|\n",
      "| 0.3347065490692206|0.5344643522287597|0.36868937254805195|AR243ZT1187B9A98D2|       32.29869|         Jackson, MS|       -90.18049|          Otis Spann|I'd Rather Be The...|161.61914|         0.212|4.0|         0.521| -10.299| 0.0|           0.42|          156.299|128.772|           4.0|                      1.0|['piano blues', '...|[1.0, 0.986478280...|[1.0, 0.989370627...|85.0|         0|[0.53446435222875...|[4.87907766902982...|\n",
      "| 0.2563659883289303| 0.571926730797233|  0.368446211679491|ARM7UY51187B993E17|       40.71455|        New York, NY|       -74.00712|      Eddie Palmieri|Don't Stop The Train|401.84118|         0.982|0.0|         0.668| -11.889| 1.0|          0.577|          398.965| 81.409|           4.0|                    0.442|['salsa', 'latin ...|[1.0, 0.984731713...|[1.0, 0.987986658...|71.0|         0|[0.57192673079723...|[5.22106840038536...|\n",
      "|0.27371317195435296|0.7175282007429807| 0.5181627803580122|ARDI3SN1187B996E7B|       39.55792|            Portugal|        -7.84481|                 GNR|            Lovenita|232.25424|         0.432|5.0|         0.482| -12.559| 1.0|          0.524|          220.868|160.349|           4.0|                      1.0|['british pop', '...|[0.84431149929385...|[1.0, 0.991354385...|70.0|         0|[0.71752820074298...|[6.55025130590148...|\n",
      "| 0.6993880904885734|0.5983145139817652|0.45370424460544134|ARX59131187FB48353|       31.57182|            Waco, TX|        -97.1495|        Roy Hargrove|     I'm Not So Sure|348.94322|         2.374|6.0|         0.298| -11.171| 1.0|          0.562|          345.972|171.063|           1.0|                      0.0|['hard bop', 'jaz...|[1.0, 0.747061146...|[1.0, 0.801731329...|84.0|         1|[0.59831451398176...|[5.46196013270382...|\n",
      "|0.26586104921065007|0.5045657618752406|0.34948848236169633|ARZEA421187FB5B5BA|       34.05349|     Los Angeles, CA|      -118.24532|        Lee Michaels|          Heighty Hi|364.35546|         0.351|5.0|         0.051| -13.905| 1.0|          0.479|          346.569|174.787|           4.0|                      0.0|['blue-eyed soul'...|[1.0, 0.951217149...|[1.0, 0.840775835...|45.0|         0|[0.50456576187524...|[4.60613608944457...|\n",
      "| 0.6383503909484499| 0.669447158240317| 0.4492009433224182|ARKOP291187FB41271|       45.19398|    Grenoble, France|           5.732|            Calogero|       Danser Encore|188.81261|           0.0|7.0|         0.547| -11.234| 0.0|          0.711|          172.629|119.977|           3.0|                      1.0|['chanson', 'pop ...|[0.91733275181219...|[1.0, 0.965365804...|83.0|         1|[0.66944715824031...|[6.11132373327637...|\n",
      "| 0.3864772912554594|0.6112326661298194|0.38583469850431884|AROFGAP1187B98CD72|       55.67631| Copenhagen, Denmark|        12.56935|     Tim Christensen|            Stranger|270.78485|         0.369|2.0|         0.077| -10.804| 1.0|          0.353|          258.514|100.112|           4.0|                    0.697|['soft rock', 'ar...|[0.99350566424451...|[1.0, 0.836003537...|76.0|         0|[0.61123266612981...|[5.57988879793260...|\n",
      "| 0.8062588299632518|0.7851261415198875| 0.5121540979385281|AR97LLY1187FB536A0|      -37.81753|             Florida|       144.96715|                 JET|Timothy (Album Ve...|270.07955|           0.0|2.0|         0.771|  -7.846| 1.0|          0.828|          252.221|  111.4|           4.0|                      1.0|['rock', 'reggae'...|[1.0, 0.833631414...|[1.0, 0.955020630...|79.0|         1|[0.78512614151988...|[7.16734691188839...|\n",
      "| 0.4471357962861778|0.7199354367204581|0.48695047399477875|ARLIQ281187FB3DC05|       51.73569|Chelmsford, Essex...|         0.47791|        Squarepusher| Schizm Track #2 Mix|225.41016|         2.531|6.0|         0.549| -10.691| 1.0|          0.455|          221.559|131.806|           4.0|                    0.487|['future jazz', '...|[0.96332593457993...|[1.0, 0.967795963...|75.0|         1|[0.71993543672045...|[6.57222674963841...|\n",
      "|                0.0|0.7015086736569764| 0.4237779855289749|ARYGKAY1187FB4A56B|        39.7666|      St. Joseph, MO|       -94.85607|Coleman Hawkins /...|        Bean's Blues|713.97832|         0.235|5.0|         0.058| -21.658| 0.0|          0.325|          697.539|  99.59|           3.0|                      1.0|['jump blues', 's...|[0.91371488760349...|[1.0, 1.0, 0.9808...|82.0|         0|[0.70150867365697...|[6.40401046392988...|\n",
      "| 0.6833591924556595| 0.682861221497907| 0.5003557503816916|ARA3YV11187B9A916A|       32.77815|          Dallas, TX|        -96.7954|     Secret Machines|You Are Chains (A...|349.25669|           0.0|6.0|         0.054|  -9.894| 0.0|          0.244|           317.51| 91.102|           1.0|                    0.692|['space rock', 'a...|[0.94264925979666...|[1.0, 0.916492409...|80.0|         1|[0.68286122149790...|[6.23377952704098...|\n",
      "+-------------------+------------------+-------------------+------------------+---------------+--------------------+----------------+--------------------+--------------------+---------+--------------+---+--------------+--------+----+---------------+-----------------+-------+--------------+-------------------------+--------------------+--------------------+--------------------+----+----------+--------------------+--------------------+\n",
      "only showing top 20 rows"
     ]
    }
   ],
   "source": [
    "# scaling\n",
    "\n",
    "from pyspark.ml.feature import StandardScaler\n",
    "\n",
    "# YOUR CODE HERE\n",
    "standardScaler = StandardScaler(inputCol=\"features\", outputCol=\"Scaledfeatures\", withStd=True, withMean=False)\n",
    "df_scaled = standardScaler.fit(df_features)\n",
    "df_features = df_scaled.transform(df_features)\n",
    "# YOUR CODE HERE\n",
    "df_features.show()"
   ]
  },
  {
   "cell_type": "markdown",
   "metadata": {
    "application/vnd.databricks.v1+cell": {
     "inputWidgets": {},
     "nuid": "18b3d8b7-ca44-4790-a2a9-30b30b80c612",
     "showTitle": false,
     "title": ""
    },
    "id": "_04B0N44bGOs"
   },
   "source": [
    "Now let's verify the resulting feature vector is of expected length 16."
   ]
  },
  {
   "cell_type": "code",
   "execution_count": 22,
   "metadata": {
    "application/vnd.databricks.v1+cell": {
     "inputWidgets": {},
     "nuid": "028b1e4e-dfe8-4191-a49b-f29f23ab8aac",
     "showTitle": false,
     "title": ""
    },
    "id": "XSzZdDxebGOs"
   },
   "outputs": [
    {
     "data": {
      "application/vnd.jupyter.widget-view+json": {
       "model_id": "",
       "version_major": 2,
       "version_minor": 0
      },
      "text/plain": [
       "FloatProgress(value=0.0, bar_style='info', description='Progress:', layout=Layout(height='25px', width='50%'),…"
      ]
     },
     "metadata": {},
     "output_type": "display_data"
    },
    {
     "name": "stdout",
     "output_type": "stream",
     "text": [
      "vector len: 16"
     ]
    }
   ],
   "source": [
    "# change your variable/column names accordingly\n",
    "l = df_features.select('features').take(1)[0].features\n",
    "print('vector len:',len(l))\n",
    "assert len(l) == 16"
   ]
  },
  {
   "cell_type": "markdown",
   "metadata": {
    "application/vnd.databricks.v1+cell": {
     "inputWidgets": {},
     "nuid": "c54cf7b6-0109-493b-bf45-58ae23407c64",
     "showTitle": false,
     "title": ""
    },
    "id": "cA6ciqngbGOs"
   },
   "source": [
    "Now, we are really ready to fit some models. \n",
    "\n",
    "First, do a train-test split on the dataset, with test ratio 0.2 and seed 10605."
   ]
  },
  {
   "cell_type": "code",
   "execution_count": 23,
   "metadata": {
    "application/vnd.databricks.v1+cell": {
     "inputWidgets": {},
     "nuid": "adaa8b39-f18e-47b6-bc98-8996bf4397bc",
     "showTitle": false,
     "title": ""
    },
    "id": "rZvvEWTrbGOs"
   },
   "outputs": [
    {
     "data": {
      "application/vnd.jupyter.widget-view+json": {
       "model_id": "",
       "version_major": 2,
       "version_minor": 0
      },
      "text/plain": [
       "FloatProgress(value=0.0, bar_style='info', description='Progress:', layout=Layout(height='25px', width='50%'),…"
      ]
     },
     "metadata": {},
     "output_type": "display_data"
    }
   ],
   "source": [
    "# YOUR CODE HERE\n",
    "\n",
    "\n",
    "\n",
    "train, test = df_features.randomSplit([0.8, 0.2], 10605)\n",
    "\n",
    "\n",
    "# YOUR CODE HERE"
   ]
  },
  {
   "cell_type": "code",
   "execution_count": 24,
   "metadata": {},
   "outputs": [
    {
     "data": {
      "application/vnd.jupyter.widget-view+json": {
       "model_id": "",
       "version_major": 2,
       "version_minor": 0
      },
      "text/plain": [
       "FloatProgress(value=0.0, bar_style='info', description='Progress:', layout=Layout(height='25px', width='50%'),…"
      ]
     },
     "metadata": {},
     "output_type": "display_data"
    },
    {
     "name": "stdout",
     "output_type": "stream",
     "text": [
      "['song_hotttnesss', 'artist_familiarity', 'artist_hotttnesss', 'artist_id', 'artist_latitude', 'artist_location', 'artist_longitude', 'artist_name', 'title', 'duration', 'end_of_fade_in', 'key', 'key_confidence', 'loudness', 'mode', 'mode_confidence', 'start_of_fade_out', 'tempo', 'time_signature', 'time_signature_confidence', 'artist_terms', 'artist_terms_freq', 'artist_terms_weight', 'year', 'popularity', 'features', 'Scaledfeatures']"
     ]
    }
   ],
   "source": [
    "train.columns"
   ]
  },
  {
   "cell_type": "markdown",
   "metadata": {
    "application/vnd.databricks.v1+cell": {
     "inputWidgets": {},
     "nuid": "00a18243-93e3-4368-a753-8bde1d19633a",
     "showTitle": false,
     "title": ""
    },
    "id": "qbmIO2ibbGOs"
   },
   "source": [
    "We have to select a metric to evaluate our models on. For classification, potential choices include accuracy and AUC. ✰2.5(e) In your writeup, explain the difference between these two metrics and when AUC might be more useful than accuracy.\n",
    "\n",
    "We will be going with AUC here. Instantiate an AUC Evaluator in the following cell."
   ]
  },
  {
   "cell_type": "markdown",
   "metadata": {},
   "source": [
    "2.5e\n",
    "accuracy is just correct classification/prediction over all classification, and AUC means the are under the ROC curve. And since the ROC curve is created by plotting the true positive rate (TPR) against the false positive rate (FPR) at various threshold settings, so AOC can test whether positives are ranked higher than negatives. For binary classification problem, AUC is better measure of classifier performance than accuracy because it does not bias on size of test or evaluation data. However, accuracy is always biased on size of test data. Moreover, accuracy depends on threshold, but AUC considers all possible thresholds, which provides a broader view of the performance of the classifier."
   ]
  },
  {
   "cell_type": "code",
   "execution_count": 25,
   "metadata": {
    "application/vnd.databricks.v1+cell": {
     "inputWidgets": {},
     "nuid": "a318a005-a6f2-4d1e-89b2-83949396fb72",
     "showTitle": false,
     "title": ""
    },
    "id": "dK2VbP_obGOt"
   },
   "outputs": [
    {
     "data": {
      "application/vnd.jupyter.widget-view+json": {
       "model_id": "",
       "version_major": 2,
       "version_minor": 0
      },
      "text/plain": [
       "FloatProgress(value=0.0, bar_style='info', description='Progress:', layout=Layout(height='25px', width='50%'),…"
      ]
     },
     "metadata": {},
     "output_type": "display_data"
    }
   ],
   "source": [
    "from pyspark.ml.evaluation import BinaryClassificationEvaluator\n",
    "\n",
    "# YOUR CODE HERE\n",
    "\n",
    "evaluator = BinaryClassificationEvaluator(rawPredictionCol='rawPrediction', labelCol = 'popularity')\n",
    "# YOUR CODE HERE"
   ]
  },
  {
   "cell_type": "markdown",
   "metadata": {
    "application/vnd.databricks.v1+cell": {
     "inputWidgets": {},
     "nuid": "1968687d-252d-4073-a78c-12bafdfd5927",
     "showTitle": false,
     "title": ""
    },
    "id": "kLGozCzDbGOt"
   },
   "source": [
    "We will be fitting two models, logistic regression, and random forest, in the mandatory part. You have the chance go with fancier models in the last section to achieve higher accuracy to earn additional points.\n",
    "\n",
    "Train a LR and a RF model with default hyperparameters. ✰2.5(f) Calculate the train and test AUC of both models and report them in your writeup."
   ]
  },
  {
   "cell_type": "code",
   "execution_count": 26,
   "metadata": {
    "application/vnd.databricks.v1+cell": {
     "inputWidgets": {},
     "nuid": "49d94a8d-e607-4beb-8a06-30bbe5a2e542",
     "showTitle": false,
     "title": ""
    },
    "id": "ks5RQm4DbGOt"
   },
   "outputs": [
    {
     "data": {
      "application/vnd.jupyter.widget-view+json": {
       "model_id": "",
       "version_major": 2,
       "version_minor": 0
      },
      "text/plain": [
       "FloatProgress(value=0.0, bar_style='info', description='Progress:', layout=Layout(height='25px', width='50%'),…"
      ]
     },
     "metadata": {},
     "output_type": "display_data"
    },
    {
     "name": "stdout",
     "output_type": "stream",
     "text": [
      "Train AUC is: \n",
      "0.7551169875851208\n",
      "Test AUC is: \n",
      "0.7525550793709143"
     ]
    }
   ],
   "source": [
    "# Logistic Regression\n",
    "from pyspark.ml.classification import LogisticRegression\n",
    "\n",
    "# YOUR CODE HERE\n",
    "lgr = LogisticRegression(featuresCol='Scaledfeatures', labelCol='popularity')\n",
    "lgr_model = lgr.fit(train)\n",
    "train_prediction = lgr_model.transform(train)\n",
    "print(\"Train AUC is: \")\n",
    "print(evaluator.evaluate(train_prediction))\n",
    "\n",
    "print(\"Test AUC is: \")\n",
    "test_prediction = lgr_model.transform(test)\n",
    "print(evaluator.evaluate(test_prediction))\n",
    "# YOUR CODE HERE"
   ]
  },
  {
   "cell_type": "code",
   "execution_count": 27,
   "metadata": {
    "application/vnd.databricks.v1+cell": {
     "inputWidgets": {},
     "nuid": "d8e65973-9032-4f58-a280-45315d68b498",
     "showTitle": false,
     "title": ""
    },
    "id": "EXQ93tnObGOt"
   },
   "outputs": [
    {
     "data": {
      "application/vnd.jupyter.widget-view+json": {
       "model_id": "",
       "version_major": 2,
       "version_minor": 0
      },
      "text/plain": [
       "FloatProgress(value=0.0, bar_style='info', description='Progress:', layout=Layout(height='25px', width='50%'),…"
      ]
     },
     "metadata": {},
     "output_type": "display_data"
    },
    {
     "name": "stdout",
     "output_type": "stream",
     "text": [
      "Train AUC is: \n",
      "0.7615262997628088\n",
      "Test AUC is: \n",
      "0.7589313445359629"
     ]
    }
   ],
   "source": [
    "# Random Forest\n",
    "\n",
    "from pyspark.ml.classification import RandomForestClassifier\n",
    "\n",
    "# YOUR CODE HERE\n",
    "rdf = RandomForestClassifier(featuresCol='Scaledfeatures', labelCol='popularity')\n",
    "rdf_model = rdf.fit(train)\n",
    "train_prediction = rdf_model.transform(train)\n",
    "print(\"Train AUC is: \")\n",
    "print(evaluator.evaluate(train_prediction))\n",
    "\n",
    "print(\"Test AUC is: \")\n",
    "test_prediction = rdf_model.transform(test)\n",
    "print(evaluator.evaluate(test_prediction))\n",
    "# YOUR CODE HERE"
   ]
  },
  {
   "cell_type": "markdown",
   "metadata": {
    "application/vnd.databricks.v1+cell": {
     "inputWidgets": {},
     "nuid": "48a5b8d3-d12f-4366-9cb7-9c36ad772196",
     "showTitle": false,
     "title": ""
    },
    "id": "hIa9p1q9bGOt"
   },
   "source": [
    "### 5. Featurization: Bag-of-Words and TF-IDF\n",
    "\n",
    "In our list of features, we have two features that contain text data, namely `title` and `artist_terms`. In the entity resolution task of HW1, we've seen how TF-IDF could help us featurize textual data. Let's do that here as well. [Bag-of-Words](https://en.wikipedia.org/wiki/Bag-of-words_model) is yet another technique (arguably simpler than TF-IDF) to featurize text features.\n",
    "\n",
    "\n",
    "To get yourself familiar with both in Spark, let's treat titles and artist terms as mini documents and compute TF-IDF for `title` and BoW for `artist_terms`."
   ]
  },
  {
   "cell_type": "code",
   "execution_count": 28,
   "metadata": {},
   "outputs": [
    {
     "data": {
      "application/vnd.jupyter.widget-view+json": {
       "model_id": "",
       "version_major": 2,
       "version_minor": 0
      },
      "text/plain": [
       "FloatProgress(value=0.0, bar_style='info', description='Progress:', layout=Layout(height='25px', width='50%'),…"
      ]
     },
     "metadata": {},
     "output_type": "display_data"
    },
    {
     "name": "stdout",
     "output_type": "stream",
     "text": [
      "['song_hotttnesss', 'artist_familiarity', 'artist_hotttnesss', 'artist_id', 'artist_latitude', 'artist_location', 'artist_longitude', 'artist_name', 'title', 'duration', 'end_of_fade_in', 'key', 'key_confidence', 'loudness', 'mode', 'mode_confidence', 'start_of_fade_out', 'tempo', 'time_signature', 'time_signature_confidence', 'artist_terms', 'artist_terms_freq', 'artist_terms_weight', 'year', 'popularity', 'features', 'Scaledfeatures']"
     ]
    }
   ],
   "source": [
    "df_features.columns"
   ]
  },
  {
   "cell_type": "code",
   "execution_count": 29,
   "metadata": {
    "application/vnd.databricks.v1+cell": {
     "inputWidgets": {},
     "nuid": "e660b9c3-d8df-40db-8634-b8675a63e24a",
     "showTitle": false,
     "title": ""
    },
    "id": "6jqlCBvMbGOt"
   },
   "outputs": [
    {
     "data": {
      "application/vnd.jupyter.widget-view+json": {
       "model_id": "",
       "version_major": 2,
       "version_minor": 0
      },
      "text/plain": [
       "FloatProgress(value=0.0, bar_style='info', description='Progress:', layout=Layout(height='25px', width='50%'),…"
      ]
     },
     "metadata": {},
     "output_type": "display_data"
    }
   ],
   "source": [
    "# tf-idf on title\n",
    "\n",
    "from pyspark.ml.feature import Tokenizer, HashingTF, IDF\n",
    "\n",
    "TF_IDF_NUM_FEATS = 5 # HashingTF(..., numFeatures=TF_IDF_NUM_FEATS)\n",
    "\n",
    "# YOUR CODE HERE\n",
    "tokenizer = Tokenizer(inputCol= 'title', outputCol= \"title_tokenize\")\n",
    "tokenized_df = tokenizer.transform(df_features)\n",
    "\n",
    "hashingTF = HashingTF(inputCol= \"title_tokenize\", outputCol=\"hashed_title\", numFeatures= TF_IDF_NUM_FEATS)\n",
    "title_hashed = hashingTF.transform(tokenized_df)\n",
    "# alternatively, CountVectorizer can also be used to get term frequency vectors\n",
    " \n",
    "idf = IDF(inputCol=\"hashed_title\", outputCol=\"title_features\")\n",
    "idfModel = idf.fit(title_hashed)\n",
    "df_tf_idf = idfModel.transform(title_hashed)\n",
    "\n",
    "\n",
    "\n"
   ]
  },
  {
   "cell_type": "markdown",
   "metadata": {
    "application/vnd.databricks.v1+cell": {
     "inputWidgets": {},
     "nuid": "db6c37e5-acc3-459d-af44-0aebeef4e223",
     "showTitle": false,
     "title": ""
    },
    "id": "JK40r1AlbGOt"
   },
   "source": [
    "Verify the resulting TF-IDF feature is indeed a vector of length `TF_IDF_NUM_FEATS`."
   ]
  },
  {
   "cell_type": "code",
   "execution_count": 30,
   "metadata": {
    "application/vnd.databricks.v1+cell": {
     "inputWidgets": {},
     "nuid": "93935194-25b2-43cc-b529-078353cddda4",
     "showTitle": false,
     "title": ""
    },
    "id": "gmz9L9kybGOt"
   },
   "outputs": [
    {
     "data": {
      "application/vnd.jupyter.widget-view+json": {
       "model_id": "",
       "version_major": 2,
       "version_minor": 0
      },
      "text/plain": [
       "FloatProgress(value=0.0, bar_style='info', description='Progress:', layout=Layout(height='25px', width='50%'),…"
      ]
     },
     "metadata": {},
     "output_type": "display_data"
    },
    {
     "name": "stdout",
     "output_type": "stream",
     "text": [
      "Row(title_features=SparseVector(5, {0: 1.1932, 2: 0.814}))"
     ]
    }
   ],
   "source": [
    "# change variable/column name to yours\n",
    "col_name = 'title_features'\n",
    "head = df_tf_idf.select(col_name).head() \n",
    "print(head)\n",
    "assert type(head[col_name]) == pyspark.ml.linalg.SparseVector\n",
    "assert len(head[col_name]) == TF_IDF_NUM_FEATS"
   ]
  },
  {
   "cell_type": "markdown",
   "metadata": {
    "application/vnd.databricks.v1+cell": {
     "inputWidgets": {},
     "nuid": "2569bd2b-1646-4c9c-b2dd-a2d8f1dcaa35",
     "showTitle": false,
     "title": ""
    },
    "id": "45v57XVXbGOu"
   },
   "source": [
    "Recall that `artist_terms` should be of type string array but we have not yet interpreted from a string literal. Let's do that now. \n",
    "\n",
    "Hint: start by defining a UDF to convert a single string literal to type `T.ArrayType(T.StringType())`."
   ]
  },
  {
   "cell_type": "code",
   "execution_count": 31,
   "metadata": {},
   "outputs": [
    {
     "data": {
      "application/vnd.jupyter.widget-view+json": {
       "model_id": "",
       "version_major": 2,
       "version_minor": 0
      },
      "text/plain": [
       "FloatProgress(value=0.0, bar_style='info', description='Progress:', layout=Layout(height='25px', width='50%'),…"
      ]
     },
     "metadata": {},
     "output_type": "display_data"
    },
    {
     "name": "stdout",
     "output_type": "stream",
     "text": [
      "['song_hotttnesss', 'artist_familiarity', 'artist_hotttnesss', 'artist_id', 'artist_latitude', 'artist_location', 'artist_longitude', 'artist_name', 'title', 'duration', 'end_of_fade_in', 'key', 'key_confidence', 'loudness', 'mode', 'mode_confidence', 'start_of_fade_out', 'tempo', 'time_signature', 'time_signature_confidence', 'artist_terms', 'artist_terms_freq', 'artist_terms_weight', 'year', 'popularity', 'features', 'Scaledfeatures', 'title_tokenize', 'hashed_title', 'title_features']"
     ]
    }
   ],
   "source": [
    "df_tf_idf.columns"
   ]
  },
  {
   "cell_type": "code",
   "execution_count": 32,
   "metadata": {},
   "outputs": [
    {
     "data": {
      "application/vnd.jupyter.widget-view+json": {
       "model_id": "",
       "version_major": 2,
       "version_minor": 0
      },
      "text/plain": [
       "FloatProgress(value=0.0, bar_style='info', description='Progress:', layout=Layout(height='25px', width='50%'),…"
      ]
     },
     "metadata": {},
     "output_type": "display_data"
    },
    {
     "name": "stdout",
     "output_type": "stream",
     "text": [
      "+--------------------------------------------------------------------------------------------------------------------------------------------------------------------------------------------------------------------------------------------------------------------------------------------------------------------------------------------------------------------------------------------------------------------------------------------------------------------------------------------------------------------------------------------------------------------------------------------------------------------------------------------------------------+\n",
      "|artist_terms                                                                                                                                                                                                                                                                                                                                                                                                                                                                                                                                                                                                                                                  |\n",
      "+--------------------------------------------------------------------------------------------------------------------------------------------------------------------------------------------------------------------------------------------------------------------------------------------------------------------------------------------------------------------------------------------------------------------------------------------------------------------------------------------------------------------------------------------------------------------------------------------------------------------------------------------------------------+\n",
      "|['hardcore punk', 'heavy metal', 'hardcore metal', 'thrash core', 'hard rock', 'death core', 'crossover thrash', 'metalcore', 'nu metal', 'rock', 'melodic black metal', 'thrash metal', 'hardcore', 'melodic death metal', 'power metal', 'screamo', 'progressive metal', 'black metal', 'punk', 'emo', 'death metal', 'hip hop', 'rap', 'alternative rock', 'punk metal', 'united states', 'singer-songwriter', 'metal', 'american', 'new york hardcore', 'alternative', 'germany', 'indie', 'christian', '00s', 'heavy', 'new york', 'crossover', 'new york city', 'old school hardcore', 'drums', 'trash metal', 'beat down']                             |\n",
      "|['garage rock', 'indie pop', 'alternative rock', 'grunge', 'indie rock', 'rock', 'power pop', 'rockabilly', 'tech house', 'college rock', 'alternative pop rock', 'techno', 'trance', 'folk rock', 'pop rock', 'soundtrack', 'hard rock', 'united states', 'punk', 'electronic', 'male vocalist', 'alternative country', 'seattle', 'indie', 'pop', 'surf music', 'alternative', 'folk', 'house', 'hardcore', 'american', 'world', 'germany', '90s', '00s', 'country', 'energetic', 'modern classical', 'washington', 'thrash metal', 'rousing', 'witty']                                                                                                     |\n",
      "|['gypsy jazz', 'jazz', 'latin jazz', 'cool jazz', 'ragtime', 'manouche', 'chill-out', 'southern rock', 'free jazz', 'swing', 'cabaret', 'tango', 'blues', 'stoner rock', 'grunge', 'smooth jazz', 'oldies', 'easy listening', 'reggae', 'classic rock', 'soundtrack', 'pop', 'french', 'funk', 'gypsy', 'alternative country', 'country', 'folk', 'latin', 'guitar', 'belgium', 'rock', 'instrumental', 'germany', 'world', 'metal', 'noise', 'alternative', 'indie', 'ambient', 'punk', 'acoustic', 'soul', 'fusion', '80s', 'psychedelic', 'lounge', 'mellow']                                                                                              |\n",
      "|['doo-wop', 'all-female', 'blues-rock', 'ballad', 'german pop', 'pop rock', 'oldies', 'rock', 'rockabilly', 'classic rock', 'disco', 'soundtrack', 'blues', 'pop', 'female vocalist', 'jazz', 'funk', 'soul', 'r&b', '50s', '60s', 'vocal', 'united states', 'american', 'new york', 'female', 'funk soul', 'western', 'harmony vocal group', '60s girl group', 'burke music']                                                                                                                                                                                                                                                                                |\n",
      "|['hardcore punk', 'heavy metal', 'alternative metal', 'speed metal', 'metalcore', 'skate punk', 'thrash metal', 'funk metal', 'crossover thrash', 'rapcore', 'grunge', 'american underground', 'punk metal', 'california', 'progressive metal', 'rock', 'punk', 'gothic metal', 'melodic death metal', 'doom metal', 'hip hop', 'emo', 'death metal', 'progressive rock', 'hard rock', 'funk', 'black metal', 'alternative rock', 'united states', 'rap', 'metal', 'alternative pop rock', 'hardcore', 'crossover', 'jazz', 'american', 'indie', 'electronic', 'alternative', '80s', '90s', 'gothic', 'noise']                                                |\n",
      "|['male vocalist', 'christian', 'christian music', 'beat', 'minnesota', 'lullaby', 'vocal jazz', 'twin cities', 'game', 'kids', 'sing along', 'beautiful', 'christmas music', 'up beat', 'vocal', 'funny', 'jazz', 'rap', 'rock', 'group', 'original', 'soft', 'traditional', 'lyrics', 'r&b', 'a cappella', 'worship music', 'slow', 'old', 'pretty', 'songs', 'pop', 'powerful', 'girl', 'poignant', 'fresh', '90s', 'beats', 'relax', 'gospel', 'concert', 'children music', 'percussion', 'harmonies', 'master', 'feel good', 'dream', 'artist', 'light', 'praise']                                                                                        |\n",
      "|['bass music', 'hip hop', 'british pop', 'motown', 'twee pop', 'indie pop', 'dream pop', 'pop rock', 'indie rock', 'power pop', 'pop', 'female vocalist', 'rock', 'soul', 'alternative rock', 'indie', 'british', '60s', 'alternative', 'germany', 'twee', 'london', 'england', '00s', 'beautiful', 'english', 'female vocals', 'swedish', 'female', 'sexy', 'alternative pop']                                                                                                                                                                                                                                                                               |\n",
      "|['southern rock', 'blues-rock', 'hard rock', 'classic rock', \"rock 'n roll\", 'country rock', 'rock', 'heavy metal', 'stoner rock', 'garage rock', 'death metal', 'blues', 'boogie rock', 'alternative rock', 'indie rock', 'arena rock', 'male vocalist', 'germany', 'united states', '70s', 'jam band', 'american', 'acoustic', 'hardcore', 'punk', '80s', 'industrial', 'spain', 'classic', 'crossover', 'epic', 'stoner', 'soft', 'aor', 'florida', 'nederland', 'zommetal', 'british pop', 'southern', 'white power', 'southern metal']                                                                                                                   |\n",
      "|['delta blues', 'blues-rock', 'electric blues', 'blues', 'juke joint blues', 'chicago blues', 'texas blues', 'breakbeat', 'rock', 'downtempo', 'europop', 'big beat', 'future jazz', 'chanson', 'bluegrass', 'pop rock', 'smooth jazz', 'folk rock', 'deep house', 'alternative rock', 'acid jazz', 'soundtrack', 'electronic', 'reggae', 'hip hop', 'classic rock', 'indie rock', 'lo-fi', 'oldies', 'ska', 'jazz', 'hard rock', 'funk', 'united states', 'intelligent dance music', 'singer-songwriter', 'male vocalist', 'pop', 'punk', 'hardcore', 'alternative', 'house', 'industrial', 'noise', 'folk', 'indie', 'ambient', 'american', '80s', 'guitar']|\n",
      "|['piano blues', 'chicago blues', 'blues-rock', 'blues', 'electric blues', 'delta blues', 'country blues', 'piedmont blues', 'texas blues', 'cool jazz', 'gaita', 'northern soul', 'latin jazz', 'bossa nova', 'rock', 'jazz', 'united states', 'male vocalist', '50s', 'piano', '60s', 'electric chicago blues', 'american', 'psychedelic', 'folk', 'stoner', 'mod', 'classic blues', 'bebop', 'chess records', 'old blues', 'gramusels bluesrock', 'modern electric blues']                                                                                                                                                                                  |\n",
      "|['salsa', 'latin jazz', 'boogaloo', 'mambo', 'bolero', 'merengue', 'samba', 'jazz funk', 'soul jazz', 'charanga', 'jazz', 'acid jazz', 'deep house', 'batucada', 'rumba', 'cumbia', 'bossa nova', 'latin', 'disco', 'brazilian pop music', 'doo-wop', 'afrobeat', 'tango', 'brass band', 'kraut rock', 'rock steady', 'hard bop', 'country rock', 'calypso', 'flamenco', 'bachata', 'roots reggae', 'chanson', 'funk', 'tech house', 'trip hop', 'progressive house', 'downtempo', 'dub', 'psychedelic rock', 'folk rock', 'reggae', 'world music', 'pop rock', 'electronic', 'blues', 'hard rock', 'hip hop', 'dance', 'rock']                               |\n",
      "|['british pop', 'pop rock', 'southern rock', 'psychobilly', 'grunge', 'new wave', 'thrash metal', 'rock', 'alternative rock', 'reggae', 'heavy metal', 'classic rock', 'emo', 'hard rock', 'portugal', 'pop', 'hip hop', 'techno', 'rap', 'singer-songwriter', 'dance', 'indie rock', 'jazz', 'r&b', 'electronica', 'portugese', '80s', 'electronic', 'punk', 'alternative', 'house', 'folk', '90s', 'experimental', 'indie', 'german', 'metal', 'acoustic', 'classical', '00s', 'latin', 'germany', 'gothic', '70s', 'mellow']                                                                                                                               |\n",
      "|['hard bop', 'jazz funk', 'jazz', 'neo soul', 'cool jazz', 'fusion jazz', 'latin jazz', 'jazz fusion', 'smooth jazz', 'nu jazz', 'soul jazz', 'bebop', 'funk', 'acid jazz', 'post-bop', 'hip hop', 'contemporary jazz', 'trumpet', 'world fusion', 'blues', 'techno', 'soul', 'trumpet jazz', 'fusion', 'american', 'guitar', 'piano', 'funky', 'bass', 'saxophone', 'classic', 'pop', '90s', 'instrumental']                                                                                                                                                                                                                                                 |\n",
      "|['blue-eyed soul', 'hard rock', 'pop rock', 'soul', 'blues-rock', 'psychedelic', 'classic rock', 'blues', 'psychedelic rock', 'california', 'rock', 'psychedelic pop', 'folk rock', 'progressive rock', 'oldies', 'pop', '70s', 'am pop', 'experimental', 'organ', '60s', 'smooth', 'american', 'classic', 'christian', 'texas', 'cover', 'los angeles', '70s rock', '60s rock', 'sunshine pop', 'baroque pop', 'pop life', 'acid rock', 'keyboard']                                                                                                                                                                                                          |\n",
      "|['chanson', 'pop rock', 'acid jazz', 'grunge', 'oldies', 'singer-songwriter', 'soundtrack', 'hip hop', 'chill-out', 'alternative rock', 'rock', 'punk', 'jazz', 'male vocalist', 'french', 'chanson francaise', 'pop', 'french rock', 'alternative pop rock', 'francophone', 'alternative', 'male', 'instrumental', 'world', 'lounge', 'piano', 'urban', 'french pop', 'nouvelle scene francaise', 'rock francais', 'light', 'fr', 'french artist', 'grenoble']                                                                                                                                                                                               |\n",
      "|['soft rock', 'art rock', 'alternative rock', 'rock', 'garage rock', 'progressive metal', 'hard rock', 'singer-songwriter', 'downtempo', 'classic rock', 'blues', 'indie rock', 'scandinavia', 'chill-out', 'pop', 'danish', 'folk', 'alternative', 'denmark', 'relax', 'acoustic', 'indie', 'experimental', 'electronic', 'norway', 'duyster', 'nordic', 'synthpop', 'golden oldies', 'warm', 'danish music', 'queen', 'morning music', 'dk', 'danish bands', 'copenhagen', 'danish artist']                                                                                                                                                                 |\n",
      "|['rock', 'reggae', 'hard rock', 'alternative rock', 'garage rock revival', 'garage rock', 'classic rock', 'blues', 'soundtrack', 'guitar', 'classic', 'electronica', 'garage', 'party music', 'retro']                                                                                                                                                                                                                                                                                                                                                                                                                                                        |\n",
      "|['future jazz', 'jungle music', 'intelligent dance music', 'acid jazz', 'breakcore', 'electronica', 'electronic', 'downtempo', 'uk garage', 'breakbeat', 'funk', 'trip hop', 'jazz', 'experimental', 'glitch', 'illbient', 'rhythm noise', 'chill-out', 'drum and bass', 'jazz fusion', 'nu jazz', 'electro', 'deep house', 'dub', 'soundtrack', 'acid', 'techno', 'abstract', 'folk rock', 'rock', 'hip hop', 'indie rock', 'japan', 'fusion', 'noise', 'alternative rock', 'dance', 'ambient', 'garage', 'house', 'punk', 'instrumental', 'indie', 'alternative', 'soul', 'hardcore', 'psychedelic', 'industrial']                                          |\n",
      "|['jump blues', 'stride', 'bossa nova', 'latin jazz', 'bebop', 'samba', 'swing', 'jazz', 'cool jazz', 'free jazz', 'chill-out', 'hard bop', 'smooth jazz', 'soul jazz', 'free improvisation', 'mainstream jazz', 'big band', 'easy listening', 'blues', 'united states', 'funk', 'oldies', 'classic jazz', 'latin', 'early jazz', 'saxophone', 'dixieland', 'germany', 'experimental', 'american', 'instrumental', 'piano', 'soul', 'male', 'contemporary jazz', 'smooth', 'relax', 'fusion', '60s', 'classic', 'romantic', 'french']                                                                                                                          |\n",
      "|['space rock', 'alternative rock', 'kraut rock', 'indie rock', 'dream pop', 'rock', 'psychedelic rock', 'new weird america', 'big beat', 'british pop', 'new prog', 'soft rock', 'post rock', 'pop rock', 'stoner rock', 'blues-rock', 'uk garage', 'garage rock', 'grunge', 'shoegaze', 'power pop', 'soundtrack', 'folk rock', 'progressive rock', 'electro', 'hip hop', 'blues', 'indie pop', 'downtempo', 'classic rock', 'hard rock', 'new wave', 'emo', 'indie', 'electronic', 'electronica', 'techno', 'punk', 'singer-songwriter', 'pop', 'alternative', 'experimental', 'jazz', 'psychedelic', 'metal', 'folk']                                      |\n",
      "+--------------------------------------------------------------------------------------------------------------------------------------------------------------------------------------------------------------------------------------------------------------------------------------------------------------------------------------------------------------------------------------------------------------------------------------------------------------------------------------------------------------------------------------------------------------------------------------------------------------------------------------------------------------+\n",
      "only showing top 20 rows"
     ]
    }
   ],
   "source": [
    "df_tf_idf.select('artist_terms').show(truncate = False)"
   ]
  },
  {
   "cell_type": "code",
   "execution_count": 33,
   "metadata": {},
   "outputs": [
    {
     "data": {
      "application/vnd.jupyter.widget-view+json": {
       "model_id": "",
       "version_major": 2,
       "version_minor": 0
      },
      "text/plain": [
       "FloatProgress(value=0.0, bar_style='info', description='Progress:', layout=Layout(height='25px', width='50%'),…"
      ]
     },
     "metadata": {},
     "output_type": "display_data"
    },
    {
     "name": "stdout",
     "output_type": "stream",
     "text": [
      "['song_hotttnesss', 'artist_familiarity', 'artist_hotttnesss', 'artist_id', 'artist_latitude', 'artist_location', 'artist_longitude', 'artist_name', 'title', 'duration', 'end_of_fade_in', 'key', 'key_confidence', 'loudness', 'mode', 'mode_confidence', 'start_of_fade_out', 'tempo', 'time_signature', 'time_signature_confidence', 'artist_terms', 'artist_terms_freq', 'artist_terms_weight', 'year', 'popularity', 'features', 'Scaledfeatures', 'title_tokenize', 'hashed_title', 'title_features']"
     ]
    }
   ],
   "source": [
    "df_tf_idf.columns"
   ]
  },
  {
   "cell_type": "code",
   "execution_count": 34,
   "metadata": {
    "application/vnd.databricks.v1+cell": {
     "inputWidgets": {},
     "nuid": "09a6183e-6f84-4c3d-ba90-4b48cb653c3f",
     "showTitle": false,
     "title": ""
    },
    "id": "NKzvQv_obGOu"
   },
   "outputs": [
    {
     "data": {
      "application/vnd.jupyter.widget-view+json": {
       "model_id": "",
       "version_major": 2,
       "version_minor": 0
      },
      "text/plain": [
       "FloatProgress(value=0.0, bar_style='info', description='Progress:', layout=Layout(height='25px', width='50%'),…"
      ]
     },
     "metadata": {},
     "output_type": "display_data"
    }
   ],
   "source": [
    "from pyspark.sql.functions import udf\n",
    "import pyspark.sql.types as T\n",
    "\n",
    "\n",
    "# YOUR CODE HERE\n",
    "transform = udf(lambda s: s.split(\" \") , T.ArrayType(T.StringType()))\n",
    "\n",
    "df_tags_arr= df_tf_idf.withColumn('artist_terms_arr', transform(df_tf_idf.artist_terms))\n",
    "\n",
    "\n",
    "# YOUR CODE HERE"
   ]
  },
  {
   "cell_type": "code",
   "execution_count": 35,
   "metadata": {},
   "outputs": [
    {
     "data": {
      "application/vnd.jupyter.widget-view+json": {
       "model_id": "",
       "version_major": 2,
       "version_minor": 0
      },
      "text/plain": [
       "FloatProgress(value=0.0, bar_style='info', description='Progress:', layout=Layout(height='25px', width='50%'),…"
      ]
     },
     "metadata": {},
     "output_type": "display_data"
    },
    {
     "name": "stdout",
     "output_type": "stream",
     "text": [
      "+-------------------+------------------+-------------------+------------------+---------------+--------------------+----------------+--------------------+--------------------+---------+--------------+---+--------------+--------+----+---------------+-----------------+-------+--------------+-------------------------+--------------------+--------------------+--------------------+----+----------+--------------------+--------------------+--------------------+--------------------+--------------------+--------------------+\n",
      "|    song_hotttnesss|artist_familiarity|  artist_hotttnesss|         artist_id|artist_latitude|     artist_location|artist_longitude|         artist_name|               title| duration|end_of_fade_in|key|key_confidence|loudness|mode|mode_confidence|start_of_fade_out|  tempo|time_signature|time_signature_confidence|        artist_terms|   artist_terms_freq| artist_terms_weight|year|popularity|            features|      Scaledfeatures|      title_tokenize|        hashed_title|      title_features|    artist_terms_arr|\n",
      "+-------------------+------------------+-------------------+------------------+---------------+--------------------+----------------+--------------------+--------------------+---------+--------------+---+--------------+--------+----+---------------+-----------------+-------+--------------+-------------------------+--------------------+--------------------+--------------------+----+----------+--------------------+--------------------+--------------------+--------------------+--------------------+--------------------+\n",
      "| 0.6347590376502138|0.6848662614713856| 0.3703747804252691|ARLL29O1187B996028|        40.7038|          Queens, NY|       -73.83168|         Sworn Enemy|      On The Outside|187.42812|         0.218|2.0|         0.974|  -4.694| 1.0|          0.643|          184.134| 93.378|           4.0|                    0.298|['hardcore punk',...|[0.99879572358827...|[1.0, 0.956594670...|85.0|         1|[0.68486626147138...|[6.25208335912879...|  [on, the, outside]| (5,[0,2],[2.0,1.0])|(5,[0,2],[1.19319...|[['hardcore, punk...|\n",
      "|                0.0|0.4810953219796546|  0.337443414857431|ARG9ASU1187B9B3E29|       47.60356|         Seattle, WA|      -122.32944| Young Fresh Fellows|If You Believe In...|235.12771|         0.293|4.0|         0.787|  -7.707| 0.0|          0.869|          227.213|125.355|           4.0|                    0.065|['garage rock', '...|[0.96438144054603...|[1.0, 0.978411494...|85.0|         0|[0.48109532197965...|[4.39187652526722...|[if, you, believe...|(5,[0,1,4],[3.0,1...|(5,[0,1,4],[1.789...|[['garage, rock',...|\n",
      "| 0.4890382091726831|0.7611392059735534|0.46229329215620313|ARCA4IN1187B9B338B|       50.51444| Liberchies, Belgium|         4.42508|    Django Reinhardt|      Stormy Weather|250.72281|           0.0|8.0|         0.608| -22.078| 1.0|           0.58|          247.705| 40.414|           1.0|                      0.0|['gypsy jazz', 'j...|[0.97258177482148...|[1.0, 0.890443466...|63.0|         1|[0.76113920597355...|[6.94837230472416...|   [stormy, weather]|       (5,[2],[2.0])|(5,[2],[1.6280291...|[['gypsy, jazz',,...|\n",
      "|0.37616992484089345|  0.58980360563622|0.39892002748899763|ARNYTHG1187B9B760F|       40.85715|New York, NY [The...|       -73.85678|        The Chantels|     Goodbye To Love|152.73751|         0.212|3.0|         0.381| -11.202| 1.0|          0.576|          145.833| 92.585|           3.0|                    0.798|['doo-wop', 'all-...|[0.96823750114527...|[1.0, 0.944468393...|36.0|         0|[0.58980360563622...|[5.38426480526291...| [goodbye, to, love]|(5,[0,3,4],[1.0,1...|(5,[0,3,4],[0.596...|[['doo-wop',, 'al...|\n",
      "| 0.6040940827164238| 0.736677413340632| 0.5261825563468479|ARNDB1X1187B990AA0|       34.05349|          Venice, CA|      -118.24532| Suicidal Tendencies|  Send Me Your Money|202.16118|         0.065|9.0|         0.193| -11.012| 1.0|          0.191|          198.356|140.688|           4.0|                      0.0|['hardcore punk',...|[1.0, 0.999850039...|[1.0, 0.970934100...|66.0|         1|[0.73667741334063...|[6.72506276933228...|[send, me, your, ...|(5,[1,2,3],[1.0,1...|(5,[1,2,3],[0.796...|[['hardcore, punk...|\n",
      "| 0.3626026747646407|0.4923218705874481| 0.3486099592932765|AR8K6F31187B99C2BC|       46.44231|     Twin Cities, MN|       -93.36586|             Go Fish|Please_ Please Li...|200.14975|         0.433|7.0|         0.047|  -5.976| 1.0|          0.223|          197.137|114.971|           4.0|                    0.075|['male vocalist',...|[0.98695514022854...|[1.0, 0.955312277...|79.0|         0|[0.49232187058744...|[4.49436269180788...|[please_, please,...|(5,[0,1,2,3],[2.0...|(5,[0,1,2,3],[1.1...|[['male, vocalist...|\n",
      "| 0.3725300393660796|0.6417801156537767| 0.4019498560274774|ARQ3TK91187FB3C060|       51.50632|     London, England|        -0.12714|          Lucky Soul|Lonely This Chris...|205.42649|           0.2|2.0|         0.657|  -5.582| 1.0|          0.616|          200.301|166.783|           3.0|                      1.0|['bass music', 'h...|[1.0, 1.0, 0.8222...|[1.0, 0.872607545...|83.0|         0|[0.64178011565377...|[5.85875375533646...|[lonely, this, ch...|(5,[1,3,4],[1.0,1...|(5,[1,3,4],[0.796...|[['bass, music',,...|\n",
      "|0.21508031850922793|0.6718936738175618|0.40807785961774273|ARJT7OG1187FB3A07F|       30.33138|    Jacksonville, FL|        -81.6558|       Molly Hatchet|    Heartbreak Radio|207.28118|           0.0|5.0|         0.665| -11.908| 0.0|          0.541|          204.179| 138.83|           4.0|                      0.0|['southern rock',...|[1.0, 0.862171129...|[1.0, 0.896178433...|60.0|         0|[0.67189367381756...|[6.13365775699580...| [heartbreak, radio]| (5,[1,2],[1.0,1.0])|(5,[1,2],[0.79666...|[['southern, rock...|\n",
      "| 0.4719711717935417|0.7011808736075507| 0.4825738736586879|AR7TTS41187B9B42D3|       34.36401|          Oxford, MS|       -89.51877|       R.L. Burnside|     Goin' Away Baby|197.48526|         0.245|2.0|         0.198|  -4.909| 0.0|          0.369|          188.761|104.072|           4.0|                      1.0|['delta blues', '...|[0.98035047140021...|[1.0, 0.970286200...|77.0|         1|[0.70118087360755...|[6.40101800635176...| [goin', away, baby]|(5,[0,2,3],[1.0,1...|(5,[0,2,3],[0.596...|[['delta, blues',...|\n",
      "| 0.3347065490692206|0.5344643522287597|0.36868937254805195|AR243ZT1187B9A98D2|       32.29869|         Jackson, MS|       -90.18049|          Otis Spann|I'd Rather Be The...|161.61914|         0.212|4.0|         0.521| -10.299| 0.0|           0.42|          156.299|128.772|           4.0|                      1.0|['piano blues', '...|[1.0, 0.986478280...|[1.0, 0.989370627...|85.0|         0|[0.53446435222875...|[4.87907766902982...|[i'd, rather, be,...|(5,[0,1,2,4],[1.0...|(5,[0,1,2,4],[0.5...|[['piano, blues',...|\n",
      "| 0.2563659883289303| 0.571926730797233|  0.368446211679491|ARM7UY51187B993E17|       40.71455|        New York, NY|       -74.00712|      Eddie Palmieri|Don't Stop The Train|401.84118|         0.982|0.0|         0.668| -11.889| 1.0|          0.577|          398.965| 81.409|           4.0|                    0.442|['salsa', 'latin ...|[1.0, 0.984731713...|[1.0, 0.987986658...|71.0|         0|[0.57192673079723...|[5.22106840038536...|[don't, stop, the...|(5,[0,1,2],[1.0,2...|(5,[0,1,2],[0.596...|[['salsa',, 'lati...|\n",
      "|0.27371317195435296|0.7175282007429807| 0.5181627803580122|ARDI3SN1187B996E7B|       39.55792|            Portugal|        -7.84481|                 GNR|            Lovenita|232.25424|         0.432|5.0|         0.482| -12.559| 1.0|          0.524|          220.868|160.349|           4.0|                      1.0|['british pop', '...|[0.84431149929385...|[1.0, 0.991354385...|70.0|         0|[0.71752820074298...|[6.55025130590148...|          [lovenita]|       (5,[3],[1.0])|(5,[3],[0.7410962...|[['british, pop',...|\n",
      "| 0.6993880904885734|0.5983145139817652|0.45370424460544134|ARX59131187FB48353|       31.57182|            Waco, TX|        -97.1495|        Roy Hargrove|     I'm Not So Sure|348.94322|         2.374|6.0|         0.298| -11.171| 1.0|          0.562|          345.972|171.063|           1.0|                      0.0|['hard bop', 'jaz...|[1.0, 0.747061146...|[1.0, 0.801731329...|84.0|         1|[0.59831451398176...|[5.46196013270382...|[i'm, not, so, sure]| (5,[1,3],[1.0,3.0])|(5,[1,3],[0.79666...|[['hard, bop',, '...|\n",
      "|0.26586104921065007|0.5045657618752406|0.34948848236169633|ARZEA421187FB5B5BA|       34.05349|     Los Angeles, CA|      -118.24532|        Lee Michaels|          Heighty Hi|364.35546|         0.351|5.0|         0.051| -13.905| 1.0|          0.479|          346.569|174.787|           4.0|                      0.0|['blue-eyed soul'...|[1.0, 0.951217149...|[1.0, 0.840775835...|45.0|         0|[0.50456576187524...|[4.60613608944457...|       [heighty, hi]| (5,[0,1],[1.0,1.0])|(5,[0,1],[0.59659...|[['blue-eyed, sou...|\n",
      "| 0.6383503909484499| 0.669447158240317| 0.4492009433224182|ARKOP291187FB41271|       45.19398|    Grenoble, France|           5.732|            Calogero|       Danser Encore|188.81261|           0.0|7.0|         0.547| -11.234| 0.0|          0.711|          172.629|119.977|           3.0|                      1.0|['chanson', 'pop ...|[0.91733275181219...|[1.0, 0.965365804...|83.0|         1|[0.66944715824031...|[6.11132373327637...|    [danser, encore]| (5,[2,3],[1.0,1.0])|(5,[2,3],[0.81401...|[['chanson',, 'po...|\n",
      "| 0.3864772912554594|0.6112326661298194|0.38583469850431884|AROFGAP1187B98CD72|       55.67631| Copenhagen, Denmark|        12.56935|     Tim Christensen|            Stranger|270.78485|         0.369|2.0|         0.077| -10.804| 1.0|          0.353|          258.514|100.112|           4.0|                    0.697|['soft rock', 'ar...|[0.99350566424451...|[1.0, 0.836003537...|76.0|         0|[0.61123266612981...|[5.57988879793260...|          [stranger]|       (5,[2],[1.0])|(5,[2],[0.8140145...|[['soft, rock',, ...|\n",
      "| 0.8062588299632518|0.7851261415198875| 0.5121540979385281|AR97LLY1187FB536A0|      -37.81753|             Florida|       144.96715|                 JET|Timothy (Album Ve...|270.07955|           0.0|2.0|         0.771|  -7.846| 1.0|          0.828|          252.221|  111.4|           4.0|                      1.0|['rock', 'reggae'...|[1.0, 0.833631414...|[1.0, 0.955020630...|79.0|         1|[0.78512614151988...|[7.16734691188839...|[timothy, (album,...|(5,[0,1,2],[1.0,1...|(5,[0,1,2],[0.596...|[['rock',, 'regga...|\n",
      "| 0.4471357962861778|0.7199354367204581|0.48695047399477875|ARLIQ281187FB3DC05|       51.73569|Chelmsford, Essex...|         0.47791|        Squarepusher| Schizm Track #2 Mix|225.41016|         2.531|6.0|         0.549| -10.691| 1.0|          0.455|          221.559|131.806|           4.0|                    0.487|['future jazz', '...|[0.96332593457993...|[1.0, 0.967795963...|75.0|         1|[0.71993543672045...|[6.57222674963841...|[schizm, track, #...|(5,[0,3,4],[1.0,2...|(5,[0,3,4],[0.596...|[['future, jazz',...|\n",
      "|                0.0|0.7015086736569764| 0.4237779855289749|ARYGKAY1187FB4A56B|        39.7666|      St. Joseph, MO|       -94.85607|Coleman Hawkins /...|        Bean's Blues|713.97832|         0.235|5.0|         0.058| -21.658| 0.0|          0.325|          697.539|  99.59|           3.0|                      1.0|['jump blues', 's...|[0.91371488760349...|[1.0, 1.0, 0.9808...|82.0|         0|[0.70150867365697...|[6.40401046392988...|     [bean's, blues]| (5,[2,3],[1.0,1.0])|(5,[2,3],[0.81401...|[['jump, blues',,...|\n",
      "| 0.6833591924556595| 0.682861221497907| 0.5003557503816916|ARA3YV11187B9A916A|       32.77815|          Dallas, TX|        -96.7954|     Secret Machines|You Are Chains (A...|349.25669|           0.0|6.0|         0.054|  -9.894| 0.0|          0.244|           317.51| 91.102|           1.0|                    0.692|['space rock', 'a...|[0.94264925979666...|[1.0, 0.916492409...|80.0|         1|[0.68286122149790...|[6.23377952704098...|[you, are, chains...|(5,[0,1,2,3],[1.0...|(5,[0,1,2,3],[0.5...|[['space, rock',,...|\n",
      "+-------------------+------------------+-------------------+------------------+---------------+--------------------+----------------+--------------------+--------------------+---------+--------------+---+--------------+--------+----+---------------+-----------------+-------+--------------+-------------------------+--------------------+--------------------+--------------------+----+----------+--------------------+--------------------+--------------------+--------------------+--------------------+--------------------+\n",
      "only showing top 20 rows"
     ]
    }
   ],
   "source": [
    "df_tags_arr.show()"
   ]
  },
  {
   "cell_type": "markdown",
   "metadata": {
    "application/vnd.databricks.v1+cell": {
     "inputWidgets": {},
     "nuid": "fb38600e-8562-4ddc-a3c9-2bd8a37b9a2e",
     "showTitle": false,
     "title": ""
    },
    "id": "JuSwcIRKbGOu"
   },
   "source": [
    "Let's do a quick check things indeed worked out."
   ]
  },
  {
   "cell_type": "code",
   "execution_count": 36,
   "metadata": {},
   "outputs": [
    {
     "data": {
      "application/vnd.jupyter.widget-view+json": {
       "model_id": "",
       "version_major": 2,
       "version_minor": 0
      },
      "text/plain": [
       "FloatProgress(value=0.0, bar_style='info', description='Progress:', layout=Layout(height='25px', width='50%'),…"
      ]
     },
     "metadata": {},
     "output_type": "display_data"
    },
    {
     "name": "stdout",
     "output_type": "stream",
     "text": [
      "['song_hotttnesss', 'artist_familiarity', 'artist_hotttnesss', 'artist_id', 'artist_latitude', 'artist_location', 'artist_longitude', 'artist_name', 'title', 'duration', 'end_of_fade_in', 'key', 'key_confidence', 'loudness', 'mode', 'mode_confidence', 'start_of_fade_out', 'tempo', 'time_signature', 'time_signature_confidence', 'artist_terms', 'artist_terms_freq', 'artist_terms_weight', 'year', 'popularity', 'features', 'Scaledfeatures', 'title_tokenize', 'hashed_title', 'title_features', 'artist_terms_arr']"
     ]
    }
   ],
   "source": [
    "df_tags_arr.columns"
   ]
  },
  {
   "cell_type": "code",
   "execution_count": 37,
   "metadata": {
    "application/vnd.databricks.v1+cell": {
     "inputWidgets": {},
     "nuid": "ad3d7ac2-13ba-4b70-9dbb-b44aa2ab73c7",
     "showTitle": false,
     "title": ""
    },
    "id": "81Ta3_ljbGOu"
   },
   "outputs": [
    {
     "data": {
      "application/vnd.jupyter.widget-view+json": {
       "model_id": "",
       "version_major": 2,
       "version_minor": 0
      },
      "text/plain": [
       "FloatProgress(value=0.0, bar_style='info', description='Progress:', layout=Layout(height='25px', width='50%'),…"
      ]
     },
     "metadata": {},
     "output_type": "display_data"
    },
    {
     "name": "stdout",
     "output_type": "stream",
     "text": [
      "Row(artist_terms_arr=[\"['hardcore\", \"punk',\", \"'heavy\", \"metal',\", \"'hardcore\", \"metal',\", \"'thrash\", \"core',\", \"'hard\", \"rock',\", \"'death\", \"core',\", \"'crossover\", \"thrash',\", \"'metalcore',\", \"'nu\", \"metal',\", \"'rock',\", \"'melodic\", 'black', \"metal',\", \"'thrash\", \"metal',\", \"'hardcore',\", \"'melodic\", 'death', \"metal',\", \"'power\", \"metal',\", \"'screamo',\", \"'progressive\", \"metal',\", \"'black\", \"metal',\", \"'punk',\", \"'emo',\", \"'death\", \"metal',\", \"'hip\", \"hop',\", \"'rap',\", \"'alternative\", \"rock',\", \"'punk\", \"metal',\", \"'united\", \"states',\", \"'singer-songwriter',\", \"'metal',\", \"'american',\", \"'new\", 'york', \"hardcore',\", \"'alternative',\", \"'germany',\", \"'indie',\", \"'christian',\", \"'00s',\", \"'heavy',\", \"'new\", \"york',\", \"'crossover',\", \"'new\", 'york', \"city',\", \"'old\", 'school', \"hardcore',\", \"'drums',\", \"'trash\", \"metal',\", \"'beat\", \"down']\"])"
     ]
    }
   ],
   "source": [
    "# change to your variable/column names\n",
    "col_name = 'artist_terms_arr'\n",
    "head = df_tags_arr.select(col_name).head()\n",
    "print(head)\n",
    "assert type(head[col_name]) == list"
   ]
  },
  {
   "cell_type": "markdown",
   "metadata": {
    "application/vnd.databricks.v1+cell": {
     "inputWidgets": {},
     "nuid": "3b6e99de-065e-4b99-8af8-43b2be8a701c",
     "showTitle": false,
     "title": ""
    },
    "id": "hxEv4U3XbGOu"
   },
   "source": [
    "Now perform BoW on the array feature you just created.\n",
    "\n",
    "✰2.6(a) In your writeup, explain what the `vocabSize` hyperparameter means in the context of Bag-of-Words. Remember you can tune this later in the last section."
   ]
  },
  {
   "cell_type": "markdown",
   "metadata": {},
   "source": [
    "In the context of Bag-of-Words, vocabSize means the size of the dictionary, also the size of the vector representation. This will affect the dimensionality in our computation of model, so we can tune this hyperparameter."
   ]
  },
  {
   "cell_type": "code",
   "execution_count": 38,
   "metadata": {
    "application/vnd.databricks.v1+cell": {
     "inputWidgets": {},
     "nuid": "41494760-f599-41ac-8940-51aafd925454",
     "showTitle": false,
     "title": ""
    },
    "id": "7M3D9CCUbGOu"
   },
   "outputs": [
    {
     "data": {
      "application/vnd.jupyter.widget-view+json": {
       "model_id": "",
       "version_major": 2,
       "version_minor": 0
      },
      "text/plain": [
       "FloatProgress(value=0.0, bar_style='info', description='Progress:', layout=Layout(height='25px', width='50%'),…"
      ]
     },
     "metadata": {},
     "output_type": "display_data"
    }
   ],
   "source": [
    "# BoW on artist_terms\n",
    "\n",
    "from pyspark.ml.feature import CountVectorizer\n",
    "\n",
    "BOW_VOCAB_SIZE = 10 \n",
    "BOW_MIN_DF = 2\n",
    "# CountVectorizer(..., vocabSize=BOW_VOCAB_SIZE, minDF=BOW_MIN_DF)\n",
    "\n",
    "# YOUR CODE HERE\n",
    "cv = CountVectorizer(inputCol=\"artist_terms_arr\", outputCol=\"artist_terms_bow\", vocabSize=BOW_VOCAB_SIZE, minDF=BOW_MIN_DF)\n",
    "model = cv.fit(df_tags_arr)\n",
    "df_final = model.transform(df_tags_arr)\n",
    "# YOUR CODE HERE"
   ]
  },
  {
   "cell_type": "markdown",
   "metadata": {
    "application/vnd.databricks.v1+cell": {
     "inputWidgets": {},
     "nuid": "d2b709df-209e-4e60-a420-7a7ecf22869c",
     "showTitle": false,
     "title": ""
    },
    "id": "RDAOyBfkbGOu"
   },
   "source": [
    "Verify the result of BoW is indeed a vector of length `BOW_VOCAB_SIZE`."
   ]
  },
  {
   "cell_type": "code",
   "execution_count": 39,
   "metadata": {
    "application/vnd.databricks.v1+cell": {
     "inputWidgets": {},
     "nuid": "43d9ea21-0b8d-40e2-a0e8-7da406c39e45",
     "showTitle": false,
     "title": ""
    },
    "id": "j89WWdllbGOv"
   },
   "outputs": [
    {
     "data": {
      "application/vnd.jupyter.widget-view+json": {
       "model_id": "",
       "version_major": 2,
       "version_minor": 0
      },
      "text/plain": [
       "FloatProgress(value=0.0, bar_style='info', description='Progress:', layout=Layout(height='25px', width='50%'),…"
      ]
     },
     "metadata": {},
     "output_type": "display_data"
    },
    {
     "name": "stdout",
     "output_type": "stream",
     "text": [
      "Row(artist_terms_bow=SparseVector(10, {0: 2.0, 1: 12.0, 2: 1.0, 3: 1.0, 7: 1.0}))"
     ]
    }
   ],
   "source": [
    "# change variable/column name to yours\n",
    "col_name = 'artist_terms_bow'\n",
    "head = df_final.select(col_name).head() \n",
    "print(head)\n",
    "assert type(head[col_name]) == pyspark.ml.linalg.SparseVector\n",
    "assert len(head[col_name]) == BOW_VOCAB_SIZE"
   ]
  },
  {
   "cell_type": "markdown",
   "metadata": {
    "application/vnd.databricks.v1+cell": {
     "inputWidgets": {},
     "nuid": "d044f7fd-00b2-4257-8343-b61a38c3fe7d",
     "showTitle": false,
     "title": ""
    },
    "id": "kTQ1nlX0bGOv"
   },
   "source": [
    "✰2.6(b) Other than featurizing texts, what other feature engineering would you do on the dataset? Briefly describe one in your writeup."
   ]
  },
  {
   "cell_type": "markdown",
   "metadata": {},
   "source": [
    "We can do PCA for feature engineering to reduce dimension"
   ]
  },
  {
   "cell_type": "markdown",
   "metadata": {
    "application/vnd.databricks.v1+cell": {
     "inputWidgets": {},
     "nuid": "1eac2c14-eb99-4792-8525-6e727adab8ef",
     "showTitle": false,
     "title": ""
    },
    "id": "yexg1l-UbGOv"
   },
   "source": [
    "Now with the new feature columns ready, let's assemble and scale our features once again as we did to prepare for training. \n",
    "\n",
    "This time, we should have 16+2=18 features with the two being TF-IDF and BoW features we just created. The total length of the resulting feature vector should be 31. ✰2.6(c) Explain where this number (31) comes from in your writeup."
   ]
  },
  {
   "cell_type": "markdown",
   "metadata": {},
   "source": [
    "2.6c\n",
    "Originally, we have 16 numerical features in df, and then we add two features from TFIDF(title_features) and from BoW(artist_terms_bow). Since feats in TFIDF = 5, BOW_VOCAB_SIZE = 10, which are the vector size of their feature. So the total feature vector size(numerical) will be 16+5+10 = 31, which is how we get 31. "
   ]
  },
  {
   "cell_type": "code",
   "execution_count": 40,
   "metadata": {},
   "outputs": [
    {
     "data": {
      "application/vnd.jupyter.widget-view+json": {
       "model_id": "",
       "version_major": 2,
       "version_minor": 0
      },
      "text/plain": [
       "FloatProgress(value=0.0, bar_style='info', description='Progress:', layout=Layout(height='25px', width='50%'),…"
      ]
     },
     "metadata": {},
     "output_type": "display_data"
    },
    {
     "name": "stdout",
     "output_type": "stream",
     "text": [
      "['song_hotttnesss', 'artist_familiarity', 'artist_hotttnesss', 'artist_id', 'artist_latitude', 'artist_location', 'artist_longitude', 'artist_name', 'title', 'duration', 'end_of_fade_in', 'key', 'key_confidence', 'loudness', 'mode', 'mode_confidence', 'start_of_fade_out', 'tempo', 'time_signature', 'time_signature_confidence', 'artist_terms', 'artist_terms_freq', 'artist_terms_weight', 'year', 'popularity', 'features', 'Scaledfeatures', 'title_tokenize', 'hashed_title', 'title_features', 'artist_terms_arr', 'artist_terms_bow']"
     ]
    }
   ],
   "source": [
    "df_final.columns"
   ]
  },
  {
   "cell_type": "code",
   "execution_count": 44,
   "metadata": {
    "application/vnd.databricks.v1+cell": {
     "inputWidgets": {},
     "nuid": "5fd58d44-1e9d-4584-ade0-44514938d227",
     "showTitle": false,
     "title": ""
    },
    "id": "WnIpicdFbGOv"
   },
   "outputs": [
    {
     "data": {
      "application/vnd.jupyter.widget-view+json": {
       "model_id": "",
       "version_major": 2,
       "version_minor": 0
      },
      "text/plain": [
       "FloatProgress(value=0.0, bar_style='info', description='Progress:', layout=Layout(height='25px', width='50%'),…"
      ]
     },
     "metadata": {},
     "output_type": "display_data"
    },
    {
     "name": "stdout",
     "output_type": "stream",
     "text": [
      "+-------------------+------------------+-------------------+------------------+---------------+--------------------+----------------+--------------------+--------------------+---------+--------------+---+--------------+--------+----+---------------+-----------------+-------+--------------+-------------------------+--------------------+--------------------+--------------------+----+----------+--------------------+--------------------+--------------------+--------------------+--------------------+--------------------+--------------------+--------------------+\n",
      "|    song_hotttnesss|artist_familiarity|  artist_hotttnesss|         artist_id|artist_latitude|     artist_location|artist_longitude|         artist_name|               title| duration|end_of_fade_in|key|key_confidence|loudness|mode|mode_confidence|start_of_fade_out|  tempo|time_signature|time_signature_confidence|        artist_terms|   artist_terms_freq| artist_terms_weight|year|popularity|            features|      Scaledfeatures|      title_tokenize|        hashed_title|      title_features|    artist_terms_arr|    artist_terms_bow|        new_features|\n",
      "+-------------------+------------------+-------------------+------------------+---------------+--------------------+----------------+--------------------+--------------------+---------+--------------+---+--------------+--------+----+---------------+-----------------+-------+--------------+-------------------------+--------------------+--------------------+--------------------+----+----------+--------------------+--------------------+--------------------+--------------------+--------------------+--------------------+--------------------+--------------------+\n",
      "| 0.6347590376502138|0.6848662614713856| 0.3703747804252691|ARLL29O1187B996028|        40.7038|          Queens, NY|       -73.83168|         Sworn Enemy|      On The Outside|187.42812|         0.218|2.0|         0.974|  -4.694| 1.0|          0.643|          184.134| 93.378|           4.0|                    0.298|['hardcore punk',...|[0.99879572358827...|[1.0, 0.956594670...|85.0|         1|[0.68486626147138...|[6.25208335912879...|  [on, the, outside]| (5,[0,2],[2.0,1.0])|(5,[0,2],[1.19319...|[['hardcore, punk...|(10,[0,1,2,3,7],[...|[0.68486626147138...|\n",
      "|                0.0|0.4810953219796546|  0.337443414857431|ARG9ASU1187B9B3E29|       47.60356|         Seattle, WA|      -122.32944| Young Fresh Fellows|If You Believe In...|235.12771|         0.293|4.0|         0.787|  -7.707| 0.0|          0.869|          227.213|125.355|           4.0|                    0.065|['garage rock', '...|[0.96438144054603...|[1.0, 0.978411494...|85.0|         0|[0.48109532197965...|[4.39187652526722...|[if, you, believe...|(5,[0,1,4],[3.0,1...|(5,[0,1,4],[1.789...|[['garage, rock',...|(10,[0,1,2,3,4,6,...|[0.48109532197965...|\n",
      "| 0.4890382091726831|0.7611392059735534|0.46229329215620313|ARCA4IN1187B9B338B|       50.51444| Liberchies, Belgium|         4.42508|    Django Reinhardt|      Stormy Weather|250.72281|           0.0|8.0|         0.608| -22.078| 1.0|           0.58|          247.705| 40.414|           1.0|                      0.0|['gypsy jazz', 'j...|[0.97258177482148...|[1.0, 0.890443466...|63.0|         1|[0.76113920597355...|[6.94837230472416...|   [stormy, weather]|       (5,[2],[2.0])|(5,[2],[1.6280291...|[['gypsy, jazz',,...|(10,[0,2,3,5,6],[...|[0.76113920597355...|\n",
      "|0.37616992484089345|  0.58980360563622|0.39892002748899763|ARNYTHG1187B9B760F|       40.85715|New York, NY [The...|       -73.85678|        The Chantels|     Goodbye To Love|152.73751|         0.212|3.0|         0.381| -11.202| 1.0|          0.576|          145.833| 92.585|           3.0|                    0.798|['doo-wop', 'all-...|[0.96823750114527...|[1.0, 0.944468393...|36.0|         0|[0.58980360563622...|[5.38426480526291...| [goodbye, to, love]|(5,[0,3,4],[1.0,1...|(5,[0,3,4],[0.596...|[['doo-wop',, 'al...|(10,[0,2,4,6],[2....|[0.58980360563622...|\n",
      "| 0.6040940827164238| 0.736677413340632| 0.5261825563468479|ARNDB1X1187B990AA0|       34.05349|          Venice, CA|      -118.24532| Suicidal Tendencies|  Send Me Your Money|202.16118|         0.065|9.0|         0.193| -11.012| 1.0|          0.191|          198.356|140.688|           4.0|                      0.0|['hardcore punk',...|[1.0, 0.999850039...|[1.0, 0.970934100...|66.0|         1|[0.73667741334063...|[6.72506276933228...|[send, me, your, ...|(5,[1,2,3],[1.0,1...|(5,[1,2,3],[0.796...|[['hardcore, punk...|(10,[0,1,2,3,7,8]...|[0.73667741334063...|\n",
      "| 0.3626026747646407|0.4923218705874481| 0.3486099592932765|AR8K6F31187B99C2BC|       46.44231|     Twin Cities, MN|       -93.36586|             Go Fish|Please_ Please Li...|200.14975|         0.433|7.0|         0.047|  -5.976| 1.0|          0.223|          197.137|114.971|           4.0|                    0.075|['male vocalist',...|[0.98695514022854...|[1.0, 0.955312277...|79.0|         0|[0.49232187058744...|[4.49436269180788...|[please_, please,...|(5,[0,1,2,3],[2.0...|(5,[0,1,2,3],[1.1...|[['male, vocalist...|(10,[2,5,6],[1.0,...|[0.49232187058744...|\n",
      "| 0.3725300393660796|0.6417801156537767| 0.4019498560274774|ARQ3TK91187FB3C060|       51.50632|     London, England|        -0.12714|          Lucky Soul|Lonely This Chris...|205.42649|           0.2|2.0|         0.657|  -5.582| 1.0|          0.616|          200.301|166.783|           3.0|                      1.0|['bass music', 'h...|[1.0, 1.0, 0.8222...|[1.0, 0.872607545...|83.0|         0|[0.64178011565377...|[5.85875375533646...|[lonely, this, ch...|(5,[1,3,4],[1.0,1...|(5,[1,3,4],[0.796...|[['bass, music',,...|(10,[0,2,3,4,6,7,...|[0.64178011565377...|\n",
      "|0.21508031850922793|0.6718936738175618|0.40807785961774273|ARJT7OG1187FB3A07F|       30.33138|    Jacksonville, FL|        -81.6558|       Molly Hatchet|    Heartbreak Radio|207.28118|           0.0|5.0|         0.665| -11.908| 0.0|          0.541|          204.179| 138.83|           4.0|                      0.0|['southern rock',...|[1.0, 0.862171129...|[1.0, 0.896178433...|60.0|         0|[0.67189367381756...|[6.13365775699580...| [heartbreak, radio]| (5,[1,2],[1.0,1.0])|(5,[1,2],[0.79666...|[['southern, rock...|(10,[0,1,2,3,4,9]...|[0.67189367381756...|\n",
      "| 0.4719711717935417|0.7011808736075507| 0.4825738736586879|AR7TTS41187B9B42D3|       34.36401|          Oxford, MS|       -89.51877|       R.L. Burnside|     Goin' Away Baby|197.48526|         0.245|2.0|         0.198|  -4.909| 0.0|          0.369|          188.761|104.072|           4.0|                      1.0|['delta blues', '...|[0.98035047140021...|[1.0, 0.970286200...|77.0|         1|[0.70118087360755...|[6.40101800635176...| [goin', away, baby]|(5,[0,2,3],[1.0,1...|(5,[0,2,3],[0.596...|[['delta, blues',...|(10,[0,2,3,5,6,7,...|[0.70118087360755...|\n",
      "| 0.3347065490692206|0.5344643522287597|0.36868937254805195|AR243ZT1187B9A98D2|       32.29869|         Jackson, MS|       -90.18049|          Otis Spann|I'd Rather Be The...|161.61914|         0.212|4.0|         0.521| -10.299| 0.0|           0.42|          156.299|128.772|           4.0|                      1.0|['piano blues', '...|[1.0, 0.986478280...|[1.0, 0.989370627...|85.0|         0|[0.53446435222875...|[4.87907766902982...|[i'd, rather, be,...|(5,[0,1,2,4],[1.0...|(5,[0,1,2,4],[0.5...|[['piano, blues',...|(10,[2,5],[1.0,2.0])|[0.53446435222875...|\n",
      "| 0.2563659883289303| 0.571926730797233|  0.368446211679491|ARM7UY51187B993E17|       40.71455|        New York, NY|       -74.00712|      Eddie Palmieri|Don't Stop The Train|401.84118|         0.982|0.0|         0.668| -11.889| 1.0|          0.577|          398.965| 81.409|           4.0|                    0.442|['salsa', 'latin ...|[1.0, 0.984731713...|[1.0, 0.987986658...|71.0|         0|[0.57192673079723...|[5.22106840038536...|[don't, stop, the...|(5,[0,1,2],[1.0,2...|(5,[0,1,2],[0.596...|[['salsa',, 'lati...|(10,[0,5,7,8],[6....|[0.57192673079723...|\n",
      "|0.27371317195435296|0.7175282007429807| 0.5181627803580122|ARDI3SN1187B996E7B|       39.55792|            Portugal|        -7.84481|                 GNR|            Lovenita|232.25424|         0.432|5.0|         0.482| -12.559| 1.0|          0.524|          220.868|160.349|           4.0|                      1.0|['british pop', '...|[0.84431149929385...|[1.0, 0.991354385...|70.0|         0|[0.71752820074298...|[6.55025130590148...|          [lovenita]|       (5,[3],[1.0])|(5,[3],[0.7410962...|[['british, pop',...|(10,[0,1,2,3,4,6,...|[0.71752820074298...|\n",
      "| 0.6993880904885734|0.5983145139817652|0.45370424460544134|ARX59131187FB48353|       31.57182|            Waco, TX|        -97.1495|        Roy Hargrove|     I'm Not So Sure|348.94322|         2.374|6.0|         0.298| -11.171| 1.0|          0.562|          345.972|171.063|           1.0|                      0.0|['hard bop', 'jaz...|[1.0, 0.747061146...|[1.0, 0.801731329...|84.0|         1|[0.59831451398176...|[5.46196013270382...|[i'm, not, so, sure]| (5,[1,3],[1.0,3.0])|(5,[1,3],[0.79666...|[['hard, bop',, '...|(10,[5,6,7],[9.0,...|[0.59831451398176...|\n",
      "|0.26586104921065007|0.5045657618752406|0.34948848236169633|ARZEA421187FB5B5BA|       34.05349|     Los Angeles, CA|      -118.24532|        Lee Michaels|          Heighty Hi|364.35546|         0.351|5.0|         0.051| -13.905| 1.0|          0.479|          346.569|174.787|           4.0|                      0.0|['blue-eyed soul'...|[1.0, 0.951217149...|[1.0, 0.840775835...|45.0|         0|[0.50456576187524...|[4.60613608944457...|       [heighty, hi]| (5,[0,1],[1.0,1.0])|(5,[0,1],[0.59659...|[['blue-eyed, sou...|(10,[0,2,4,6],[9....|[0.50456576187524...|\n",
      "| 0.6383503909484499| 0.669447158240317| 0.4492009433224182|ARKOP291187FB41271|       45.19398|    Grenoble, France|           5.732|            Calogero|       Danser Encore|188.81261|           0.0|7.0|         0.547| -11.234| 0.0|          0.711|          172.629|119.977|           3.0|                      1.0|['chanson', 'pop ...|[0.91733275181219...|[1.0, 0.965365804...|83.0|         1|[0.66944715824031...|[6.11132373327637...|    [danser, encore]| (5,[2,3],[1.0,1.0])|(5,[2,3],[0.81401...|[['chanson',, 'po...|(10,[0,2,3,4,5,6,...|[0.66944715824031...|\n",
      "| 0.3864772912554594|0.6112326661298194|0.38583469850431884|AROFGAP1187B98CD72|       55.67631| Copenhagen, Denmark|        12.56935|     Tim Christensen|            Stranger|270.78485|         0.369|2.0|         0.077| -10.804| 1.0|          0.353|          258.514|100.112|           4.0|                    0.697|['soft rock', 'ar...|[0.99350566424451...|[1.0, 0.836003537...|76.0|         0|[0.61123266612981...|[5.57988879793260...|          [stranger]|       (5,[2],[1.0])|(5,[2],[0.8140145...|[['soft, rock',, ...|(10,[0,1,2,3,6,8,...|[0.61123266612981...|\n",
      "| 0.8062588299632518|0.7851261415198875| 0.5121540979385281|AR97LLY1187FB536A0|      -37.81753|             Florida|       144.96715|                 JET|Timothy (Album Ve...|270.07955|           0.0|2.0|         0.771|  -7.846| 1.0|          0.828|          252.221|  111.4|           4.0|                      1.0|['rock', 'reggae'...|[1.0, 0.833631414...|[1.0, 0.955020630...|79.0|         1|[0.78512614151988...|[7.16734691188839...|[timothy, (album,...|(5,[0,1,2],[1.0,1...|(5,[0,1,2],[0.596...|[['rock',, 'regga...|(10,[0,3],[4.0,1.0])|[0.78512614151988...|\n",
      "| 0.4471357962861778|0.7199354367204581|0.48695047399477875|ARLIQ281187FB3DC05|       51.73569|Chelmsford, Essex...|         0.47791|        Squarepusher| Schizm Track #2 Mix|225.41016|         2.531|6.0|         0.549| -10.691| 1.0|          0.455|          221.559|131.806|           4.0|                    0.487|['future jazz', '...|[0.96332593457993...|[1.0, 0.967795963...|75.0|         1|[0.71993543672045...|[6.57222674963841...|[schizm, track, #...|(5,[0,3,4],[1.0,2...|(5,[0,3,4],[0.596...|[['future, jazz',...|(10,[0,2,3,5,7,8,...|[0.71993543672045...|\n",
      "|                0.0|0.7015086736569764| 0.4237779855289749|ARYGKAY1187FB4A56B|        39.7666|      St. Joseph, MO|       -94.85607|Coleman Hawkins /...|        Bean's Blues|713.97832|         0.235|5.0|         0.058| -21.658| 0.0|          0.325|          697.539|  99.59|           3.0|                      1.0|['jump blues', 's...|[0.91371488760349...|[1.0, 1.0, 0.9808...|82.0|         0|[0.70150867365697...|[6.40401046392988...|     [bean's, blues]| (5,[2,3],[1.0,1.0])|(5,[2,3],[0.81401...|[['jump, blues',,...|      (10,[5],[9.0])|(31,[0,1,2,3,4,5,...|\n",
      "| 0.6833591924556595| 0.682861221497907| 0.5003557503816916|ARA3YV11187B9A916A|       32.77815|          Dallas, TX|        -96.7954|     Secret Machines|You Are Chains (A...|349.25669|           0.0|6.0|         0.054|  -9.894| 0.0|          0.244|           317.51| 91.102|           1.0|                    0.692|['space rock', 'a...|[0.94264925979666...|[1.0, 0.916492409...|80.0|         1|[0.68286122149790...|[6.23377952704098...|[you, are, chains...|(5,[0,1,2,3],[1.0...|(5,[0,1,2,3],[0.5...|[['space, rock',,...|(10,[0,2,3,4,6,7,...|[0.68286122149790...|\n",
      "+-------------------+------------------+-------------------+------------------+---------------+--------------------+----------------+--------------------+--------------------+---------+--------------+---+--------------+--------+----+---------------+-----------------+-------+--------------+-------------------------+--------------------+--------------------+--------------------+----+----------+--------------------+--------------------+--------------------+--------------------+--------------------+--------------------+--------------------+--------------------+\n",
      "only showing top 20 rows"
     ]
    }
   ],
   "source": [
    "# assembling vector\n",
    "features = ['artist_familiarity', 'artist_hotttnesss', 'artist_latitude',  'artist_longitude', 'duration', 'end_of_fade_in', 'key', 'key_confidence', 'loudness', 'mode', 'mode_confidence', 'start_of_fade_out', 'tempo', 'time_signature', 'time_signature_confidence',  'year', 'title_features', 'artist_terms_bow' ]\n",
    "\n",
    "# YOUR CODE HERE\n",
    "asm = VectorAssembler(inputCols = features,outputCol = \"new_features\")\n",
    "\n",
    "df_vectorized = asm.transform(df_final)\n",
    "\n",
    "df_vectorized.show()\n",
    "# YOUR CODE HERE"
   ]
  },
  {
   "cell_type": "code",
   "execution_count": 45,
   "metadata": {},
   "outputs": [
    {
     "data": {
      "application/vnd.jupyter.widget-view+json": {
       "model_id": "",
       "version_major": 2,
       "version_minor": 0
      },
      "text/plain": [
       "FloatProgress(value=0.0, bar_style='info', description='Progress:', layout=Layout(height='25px', width='50%'),…"
      ]
     },
     "metadata": {},
     "output_type": "display_data"
    },
    {
     "name": "stdout",
     "output_type": "stream",
     "text": [
      "['song_hotttnesss', 'artist_familiarity', 'artist_hotttnesss', 'artist_id', 'artist_latitude', 'artist_location', 'artist_longitude', 'artist_name', 'title', 'duration', 'end_of_fade_in', 'key', 'key_confidence', 'loudness', 'mode', 'mode_confidence', 'start_of_fade_out', 'tempo', 'time_signature', 'time_signature_confidence', 'artist_terms', 'artist_terms_freq', 'artist_terms_weight', 'year', 'popularity', 'features', 'Scaledfeatures', 'title_tokenize', 'hashed_title', 'title_features', 'artist_terms_arr', 'artist_terms_bow', 'new_features']"
     ]
    }
   ],
   "source": [
    "df_vectorized.columns"
   ]
  },
  {
   "cell_type": "code",
   "execution_count": 46,
   "metadata": {
    "application/vnd.databricks.v1+cell": {
     "inputWidgets": {},
     "nuid": "378f4098-7052-47bd-9af8-cadb54cb133a",
     "showTitle": false,
     "title": ""
    },
    "id": "ZdnoSxLqbGOv"
   },
   "outputs": [
    {
     "data": {
      "application/vnd.jupyter.widget-view+json": {
       "model_id": "102fa9c5ce4640fab3079ec06e7de4bd",
       "version_major": 2,
       "version_minor": 0
      },
      "text/plain": [
       "FloatProgress(value=0.0, bar_style='info', description='Progress:', layout=Layout(height='25px', width='50%'),…"
      ]
     },
     "metadata": {},
     "output_type": "display_data"
    },
    {
     "name": "stderr",
     "output_type": "stream",
     "text": [
      "An error was encountered:\n",
      "Invalid status code '400' from http://ip-172-31-69-13.ec2.internal:8998/sessions/1/statements/46 with error payload: {\"msg\":\"requirement failed: Session isn't active.\"}\n"
     ]
    }
   ],
   "source": [
    "# scaling\n",
    "\n",
    "# YOUR CODE HERE\n",
    "standardScaler = StandardScaler(inputCol=\"new_features\", outputCol=\"new_Scaledfeatures\", withStd=True, withMean=False)\n",
    "df_scaled = standardScaler.fit(df_vectorized)\n",
    "df_scaled_features = df_scaled.transform(df_vectorized)\n",
    "\n",
    "# YOUR CODE HERE\n",
    "#df_scaled_features.toPandas().head()"
   ]
  },
  {
   "cell_type": "markdown",
   "metadata": {
    "application/vnd.databricks.v1+cell": {
     "inputWidgets": {},
     "nuid": "614933d1-1ab5-49a9-8e93-1e36da2e7f39",
     "showTitle": false,
     "title": ""
    },
    "id": "7AYxB7XMbGOv"
   },
   "source": [
    "Now let's verify the feature vector is of expected length 31."
   ]
  },
  {
   "cell_type": "code",
   "execution_count": null,
   "metadata": {
    "application/vnd.databricks.v1+cell": {
     "inputWidgets": {},
     "nuid": "b12fbc10-a30c-47f9-a405-4b20c47a4458",
     "showTitle": false,
     "title": ""
    },
    "id": "WWtHDij2bGOv"
   },
   "outputs": [],
   "source": [
    "# change your variable/column names accordingly\n",
    "l = df_scaled_features.select('new_Scaledfeatures').take(1)[0].new_Scaledfeatures\n",
    "print('vector len:',len(l))\n",
    "assert len(l) == 31"
   ]
  },
  {
   "cell_type": "markdown",
   "metadata": {
    "application/vnd.databricks.v1+cell": {
     "inputWidgets": {},
     "nuid": "210655de-2f0c-4406-9603-b24f515236a7",
     "showTitle": false,
     "title": ""
    },
    "id": "qiELJKJvbGOv"
   },
   "source": [
    "### 6. Modeling with New Features"
   ]
  },
  {
   "cell_type": "markdown",
   "metadata": {
    "application/vnd.databricks.v1+cell": {
     "inputWidgets": {},
     "nuid": "f65fb59c-7633-4116-aad9-7f4e1e218eec",
     "showTitle": false,
     "title": ""
    },
    "id": "zQD8qUrUbGOv"
   },
   "source": [
    "Now let's fit LR and RF on our new data. As before, first do a train-test split with test ratio 0.2 and seed 10605."
   ]
  },
  {
   "cell_type": "code",
   "execution_count": null,
   "metadata": {
    "application/vnd.databricks.v1+cell": {
     "inputWidgets": {},
     "nuid": "30ccee50-61a1-4b2a-a71f-7ec982384c37",
     "showTitle": false,
     "title": ""
    },
    "id": "dsXN1DHEbGOw"
   },
   "outputs": [],
   "source": [
    "# YOUR CODE HERE\n",
    "train, test = df_scaled_features.randomSplit([0.8, 0.2], 10605)\n",
    "# YOUR CODE HERE"
   ]
  },
  {
   "cell_type": "markdown",
   "metadata": {
    "application/vnd.databricks.v1+cell": {
     "inputWidgets": {},
     "nuid": "9e3bd4f6-c1be-4a8e-8f67-78068a40aa89",
     "showTitle": false,
     "title": ""
    },
    "id": "UVmYHu4jbGOw"
   },
   "source": [
    "Now train the LR and RF model with default hyperparameters. ✰2.7(a) Evaluate train and test AUC for each model and report them in your writeup."
   ]
  },
  {
   "cell_type": "code",
   "execution_count": null,
   "metadata": {
    "application/vnd.databricks.v1+cell": {
     "inputWidgets": {},
     "nuid": "e53618df-d85b-4de1-98c9-dbcf8b1bb13a",
     "showTitle": false,
     "title": ""
    },
    "id": "BMIltHGQbGOw"
   },
   "outputs": [],
   "source": [
    "# Logistic Regression\n",
    "\n",
    "# YOUR CODE HERE\n",
    "lgr = LogisticRegression(featuresCol='new_Scaledfeatures', labelCol='popularity')\n",
    "lgr_model = lgr.fit(train)\n",
    "train_prediction = lgr_model.transform(train)\n",
    "print(\"Train AUC is: \")\n",
    "print(evaluator.evaluate(train_prediction))\n",
    "\n",
    "print(\"Test AUC is: \")\n",
    "new_lgr_test_prediction = lgr_model.transform(test)\n",
    "\n",
    "print(evaluator.evaluate(new_lgr_test_prediction))\n",
    "# YOUR CODE HERE"
   ]
  },
  {
   "cell_type": "code",
   "execution_count": null,
   "metadata": {
    "application/vnd.databricks.v1+cell": {
     "inputWidgets": {},
     "nuid": "2a20b8f0-79ee-4acd-8c9b-a1bb2c064464",
     "showTitle": false,
     "title": ""
    },
    "id": "XW1MkYvibGOw"
   },
   "outputs": [],
   "source": [
    "# Random Forest\n",
    "\n",
    "# YOUR CODE HERE\n",
    "rdf = RandomForestClassifier(featuresCol='new_Scaledfeatures', labelCol='popularity')\n",
    "rdf_model = rdf.fit(train)\n",
    "train_prediction = rdf_model.transform(train)\n",
    "print(\"Train AUC is: \")\n",
    "print(evaluator.evaluate(train_prediction))\n",
    "\n",
    "print(\"Test AUC is: \")\n",
    "new_rdf_test_prediction = rdf_model.transform(test)\n",
    "new_test_label = test.popularity\n",
    "print(evaluator.evaluate(new_rdf_test_prediction))\n",
    "# YOUR CODE HERE"
   ]
  },
  {
   "cell_type": "markdown",
   "metadata": {
    "application/vnd.databricks.v1+cell": {
     "inputWidgets": {},
     "nuid": "d848886b-1e65-4482-9a04-44c8ee5d3c36",
     "showTitle": false,
     "title": ""
    },
    "id": "LPiEUwnfbGOw"
   },
   "source": [
    "Recall that AUC is the area under the ROC curve. Now, plot the ROC curves for the four models (including two baselines) in **one single plot**. \n",
    "\n",
    "✰2.7(b) In your writeup:\n",
    "- Include the plot (with legends)\n",
    "- Explain how the ROC curve is derived and what it measures\n",
    "- Explain, from the ROC curves, how do you discover which models are performing better than others, and in this case, which model performs the best."
   ]
  },
  {
   "cell_type": "code",
   "execution_count": null,
   "metadata": {},
   "outputs": [],
   "source": [
    "from pyspark.mllib.evaluation import BinaryClassificationMetrics\n",
    "class CurveMetrics(BinaryClassificationMetrics):\n",
    "    def __init__(self, *args):\n",
    "        super(CurveMetrics, self).__init__(*args)\n",
    "\n",
    "    def _to_list(self, rdd):\n",
    "        points = []\n",
    "        # Note this collect could be inefficient for large datasets \n",
    "        # considering there may be one probability per datapoint (at most)\n",
    "        # The Scala version takes a numBins parameter, \n",
    "        # but it doesn't seem possible to pass this from Python to Java\n",
    "        for row in rdd.collect():\n",
    "            # Results are returned as type scala.Tuple2, \n",
    "            # which doesn't appear to have a py4j mapping\n",
    "            points += [(float(row._1()), float(row._2()))]\n",
    "        return points\n",
    "\n",
    "    def get_curve(self, method):\n",
    "        rdd = getattr(self._java_model, method)().toJavaRDD()\n",
    "        return self._to_list(rdd)"
   ]
  },
  {
   "cell_type": "code",
   "execution_count": null,
   "metadata": {},
   "outputs": [],
   "source": [
    "preds_old_lgr = old_lgr_test_prediction.select('popularity','probability').rdd.map(lambda row: (float(row['probability'][1]), float(row['popularity'])))\n",
    "points_old_lgr = CurveMetrics(preds_old_lgr).get_curve('roc')\n",
    "\n",
    "preds_old_rdf = old_rdf_test_prediction.select('popularity','probability').rdd.map(lambda row: (float(row['probability'][1]), float(row['popularity'])))\n",
    "points_old_rdf = CurveMetrics(preds_old_rdf).get_curve('roc')\n",
    "\n",
    "preds_new_lgr = new_lgr_test_prediction.select('popularity','probability').rdd.map(lambda row: (float(row['probability'][1]), float(row['popularity'])))\n",
    "points_new_lgr = CurveMetrics(preds_new_lgr).get_curve('roc')\n",
    "\n",
    "preds_new_rdf = new_rdf_test_prediction.select('popularity','probability').rdd.map(lambda row: (float(row['probability'][1]), float(row['popularity'])))\n",
    "points_new_rdf = CurveMetrics(preds_new_rdf).get_curve('roc')\n",
    "\n",
    "plt.figure()\n",
    "x_old_lgr = [x[0] for x in points_old_lgr]\n",
    "y_old_lgr = [x[1] for x in points_old_lgr]\n",
    "\n",
    "x_old_rdf = [x[0] for x in points_old_rdf]\n",
    "y_old_rdf = [x[1] for x in points_old_rdf]\n",
    "\n",
    "x_new_lgr = [x[0] for x in points_new_lgr]\n",
    "y_new_lgr = [x[1] for x in points_new_lgr]\n",
    "\n",
    "x_new_rdf = [x[0] for x in points_new_rdf]\n",
    "y_new_rdf = [x[1] for x in points_new_rdf]\n",
    "\n",
    "\n",
    "plt.title(\"ROC Curve\")\n",
    "plt.xlabel(\"False Positive Rate\")\n",
    "plt.ylabel(\"True Positive Rate\")\n",
    "plt.plot(x_old_lgr, y_old_lgr, color = 'b', label = \"Logistic regression(old)\")\n",
    "plt.plot(x_old_rdf, y_old_rdf, color = 'r', label = \"Random Forest(old)\")\n",
    "plt.plot(x_new_lgr, y_new_lgr, color = 'g', label = \"Logistic regression(new)\")\n",
    "plt.plot(x_new_rdf, y_new_rdf, color = 'y', label = \"Random Forest(new)\")\n",
    "\n",
    "\n",
    "\n",
    "plt.legend()\n",
    "plt.show()\n"
   ]
  },
  {
   "cell_type": "code",
   "execution_count": null,
   "metadata": {
    "application/vnd.databricks.v1+cell": {
     "inputWidgets": {},
     "nuid": "73b7752e-0cb6-4657-ac53-73eeeaabe9b3",
     "showTitle": false,
     "title": ""
    },
    "id": "6unBCK-rbGOw"
   },
   "outputs": [],
   "source": [
    "%matplot plt"
   ]
  },
  {
   "cell_type": "markdown",
   "metadata": {
    "application/vnd.databricks.v1+cell": {
     "inputWidgets": {},
     "nuid": "c48783f2-5004-492e-b286-e0e879c6173c",
     "showTitle": false,
     "title": ""
    },
    "id": "64qRWzqSbGOw"
   },
   "source": [
    "### 7. Do Your Best"
   ]
  },
  {
   "cell_type": "markdown",
   "metadata": {
    "application/vnd.databricks.v1+cell": {
     "inputWidgets": {},
     "nuid": "e42bf942-1ab5-460a-a96c-bafaf5cbc2a1",
     "showTitle": false,
     "title": ""
    },
    "id": "bU6JcYWybGOw"
   },
   "source": [
    "In all previous sections in this assignment and other assignments so far, we have almost specified everything you should do. You might be (and should be!) bored by now. This section gives you a chance to do whatever you want to improve the prediction AUC. \n",
    "\n",
    "You can do better data preprocessing, feature engineering, fit fancier models, perform hyperparameter tuning, etc. \n",
    "\n",
    "After you are satisfied with your model, ✰2.8 in your writeup, report \n",
    "- the hyperparameters,\n",
    "- train and test AUC of your optimized model, and \n",
    "- the approach you took on top of the specified instructions to obtain this better result."
   ]
  },
  {
   "cell_type": "code",
   "execution_count": null,
   "metadata": {
    "application/vnd.databricks.v1+cell": {
     "inputWidgets": {},
     "nuid": "44ae4071-492f-418b-9c26-9f484730e6ed",
     "showTitle": false,
     "title": ""
    },
    "id": "LdqjloDQbGOw"
   },
   "outputs": [],
   "source": [
    "# have fun!\n",
    "df_features.columns"
   ]
  },
  {
   "cell_type": "code",
   "execution_count": null,
   "metadata": {},
   "outputs": [],
   "source": [
    "# using original df\n",
    "TF_IDF_NUM_FEATS = 10 # HashingTF(..., numFeatures=TF_IDF_NUM_FEATS)\n",
    "\n",
    "# YOUR CODE HERE\n",
    "tokenizer = Tokenizer(inputCol= 'title', outputCol= \"title_tokenize\")\n",
    "tokenized_df = tokenizer.transform(df_features)\n",
    "\n",
    "hashingTF = HashingTF(inputCol= \"title_tokenize\", outputCol=\"hashed_title\", numFeatures= TF_IDF_NUM_FEATS)\n",
    "title_hashed = hashingTF.transform(tokenized_df)\n",
    "# alternatively, CountVectorizer can also be used to get term frequency vectors\n",
    " \n",
    "idf = IDF(inputCol=\"hashed_title\", outputCol=\"title_features\")\n",
    "idfModel = idf.fit(title_hashed)\n",
    "df_tf_idf = idfModel.transform(title_hashed)"
   ]
  },
  {
   "cell_type": "code",
   "execution_count": null,
   "metadata": {},
   "outputs": [],
   "source": [
    "#hint by TA\n",
    "# increase TFidf feats, bag size\n",
    "# random forest \n",
    "transform = udf(lambda s: s.split(\" \") , T.ArrayType(T.StringType()))\n",
    "\n",
    "df_tags_arr= df_tf_idf.withColumn('artist_terms_arr', transform(df_tf_idf.artist_terms))\n",
    "\n",
    "BOW_VOCAB_SIZE = 20\n",
    "BOW_MIN_DF = 5\n",
    "\n",
    "cv = CountVectorizer(inputCol=\"artist_terms_arr\", outputCol=\"artist_terms_bow\", vocabSize=BOW_VOCAB_SIZE, minDF=BOW_MIN_DF)\n",
    "model = cv.fit(df_tags_arr)\n",
    "df_final = model.transform(df_tags_arr)\n",
    "features = ['artist_familiarity', 'artist_hotttnesss', 'artist_latitude',  'artist_longitude', 'duration', 'end_of_fade_in', 'key', 'key_confidence', 'loudness', 'mode', 'mode_confidence', 'start_of_fade_out', 'tempo', 'time_signature', 'time_signature_confidence',  'year', 'title_features', 'artist_terms_bow' ]\n",
    "\n",
    "# YOUR CODE HERE\n",
    "asm = VectorAssembler(inputCols = features,outputCol = \"new_features\")\n",
    "\n",
    "df_vectorized = asm.transform(df_final)\n",
    "standardScaler = StandardScaler(inputCol=\"new_features\", outputCol=\"new_Scaledfeatures\", withStd=True, withMean=False)\n",
    "df_scaled = standardScaler.fit(df_vectorized)\n",
    "df_scaled_features = df_scaled.transform(df_vectorized)\n",
    "\n",
    "train, test = df_scaled_features.randomSplit([0.8, 0.2], 10605)\n",
    "\n",
    "\n",
    "\n",
    "\n",
    "rdf = RandomForestClassifier(featuresCol='new_Scaledfeatures', labelCol='popularity',numTrees= 800)\n",
    "rdf_model = rdf.fit(train)\n",
    "train_prediction = rdf_model.transform(train)\n",
    "print(\"Train AUC is: \")\n",
    "print(evaluator.evaluate(train_prediction))\n",
    "\n",
    "print(\"Test AUC is: \")\n",
    "new_rdf_test_prediction = rdf_model.transform(test)\n",
    "new_test_label = test.popularity\n",
    "print(evaluator.evaluate(new_rdf_test_prediction))"
   ]
  },
  {
   "cell_type": "code",
   "execution_count": null,
   "metadata": {},
   "outputs": [],
   "source": [
    "from pyspark.ml.classification import GBTClassifier\n",
    "gbt = GBTClassifier(labelCol=\"popularity\", featuresCol=\"new_Scaledfeatures\",maxDepth=10, maxIter=50)\n",
    "gbt_model = gbt.fit(train)\n",
    "train_prediction = gbt_model.transform(train)\n",
    "print(\"Train AUC is: \")\n",
    "print(evaluator.evaluate(train_prediction))\n",
    "\n",
    "print(\"Test AUC is: \")\n",
    "gbt_test_prediction = gbt_model.transform(test)\n",
    "print(evaluator.evaluate(gbt_test_prediction))"
   ]
  },
  {
   "cell_type": "markdown",
   "metadata": {
    "application/vnd.databricks.v1+cell": {
     "inputWidgets": {},
     "nuid": "3607f3e4-9fad-4ab5-85af-6a948e3139b3",
     "showTitle": false,
     "title": ""
    },
    "id": "YtUulxsMbGOx"
   },
   "source": [
    "### 8. Don't forget to answer the reflection question on the writeup! ✰2.9"
   ]
  }
 ],
 "metadata": {
  "application/vnd.databricks.v1+notebook": {
   "dashboards": [],
   "language": "python",
   "notebookMetadata": {
    "pythonIndentUnit": 2
   },
   "notebookName": "HW4",
   "notebookOrigID": 379635546166569,
   "widgets": {}
  },
  "colab": {
   "name": "HW4.ipynb",
   "provenance": []
  },
  "kernelspec": {
   "display_name": "PySpark",
   "language": "python",
   "name": "pysparkkernel"
  },
  "language_info": {
   "codemirror_mode": {
    "name": "python",
    "version": 3
   },
   "file_extension": ".py",
   "mimetype": "text/x-python",
   "name": "pyspark",
   "pygments_lexer": "python3"
  }
 },
 "nbformat": 4,
 "nbformat_minor": 1
}
